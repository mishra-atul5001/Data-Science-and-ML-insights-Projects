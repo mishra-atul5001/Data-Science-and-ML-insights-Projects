{
 "cells": [
  {
   "cell_type": "markdown",
   "metadata": {},
   "source": [
    "# Gesture Recognition\n",
    "In this group project, you are going to build a 3D Conv model that will be able to predict the 5 gestures correctly. Please import the following libraries to get started."
   ]
  },
  {
   "cell_type": "code",
   "execution_count": 1,
   "metadata": {},
   "outputs": [],
   "source": [
    "import numpy as np\n",
    "import os\n",
    "from scipy.misc import imread, imresize\n",
    "import datetime\n",
    "import os\n",
    "import pandas as pd\n",
    "import matplotlib.pyplot as plt"
   ]
  },
  {
   "cell_type": "markdown",
   "metadata": {},
   "source": [
    "We set the random seed so that the results don't vary drastically."
   ]
  },
  {
   "cell_type": "code",
   "execution_count": 2,
   "metadata": {},
   "outputs": [
    {
     "name": "stdout",
     "output_type": "stream",
     "text": [
      "(360, 360, 3)\n"
     ]
    }
   ],
   "source": [
    "# image size given to us\n",
    "import cv2\n",
    "\n",
    "img = cv2.imread(\"Project_data/train/WIN_20180907_15_35_09_Pro_Right Swipe_new/WIN_20180907_15_35_09_Pro_00012.png\")\n",
    "\n",
    "print(img.shape)"
   ]
  },
  {
   "cell_type": "code",
   "execution_count": 3,
   "metadata": {},
   "outputs": [
    {
     "name": "stderr",
     "output_type": "stream",
     "text": [
      "Using TensorFlow backend.\n"
     ]
    }
   ],
   "source": [
    "np.random.seed(30)\n",
    "import random as rn\n",
    "rn.seed(30)\n",
    "from keras import backend as K\n",
    "import tensorflow as tf\n",
    "tf.set_random_seed(30)"
   ]
  },
  {
   "cell_type": "markdown",
   "metadata": {},
   "source": [
    "In this block, you read the folder names for training and validation. You also set the `batch_size` here. Note that you set the batch size in such a way that you are able to use the GPU in full capacity. You keep increasing the batch size until the machine throws an error."
   ]
  },
  {
   "cell_type": "code",
   "execution_count": 4,
   "metadata": {},
   "outputs": [],
   "source": [
    "train_doc = np.random.permutation(open('Project_data/train.csv').readlines())\n",
    "val_doc = np.random.permutation(open('Project_data/val.csv').readlines())\n",
    "#batch_size = 10 #experiment with the batch size\n",
    "frames_Weneed = 30"
   ]
  },
  {
   "cell_type": "markdown",
   "metadata": {},
   "source": [
    "To ease up model formation we will provide batch size later in the code "
   ]
  },
  {
   "cell_type": "markdown",
   "metadata": {},
   "source": [
    "## Generator\n",
    "This is one of the most important part of the code. The overall structure of the generator has been given. In the generator, you are going to preprocess the images as you have images of 2 different dimensions as well as create a batch of video frames. You have to experiment with `img_idx`, `y`,`z` and normalization such that you get high accuracy."
   ]
  },
  {
   "cell_type": "code",
   "execution_count": 5,
   "metadata": {},
   "outputs": [],
   "source": [
    "def generator(source_path, folder_list, batch_size):\n",
    "    print( 'Source path = ', source_path, '; batch size =', batch_size)\n",
    "    img_idx = [idx for idx in range(0,30)] #create a list of image numbers you want to use for a particular video\n",
    "\n",
    "    while True:\n",
    "        t = np.random.permutation(folder_list)\n",
    "        num_batches = len(t)//batch_size # calculate the number of batches\n",
    "        for batch in range(num_batches): # we iterate over the number of batches\n",
    "            batch_data = np.zeros((batch_size,len(img_idx),120,120,3)) # x is the number of images you use for each video, (y,z) is the final size of the input images and 3 is the number of channels RGB\n",
    "            batch_data\n",
    "            batch_labels = np.zeros((batch_size,5)) # batch_labels is the one hot representation of the output\n",
    "            for folder in range(batch_size): # iterate over the batch_size\n",
    "                imgs = os.listdir(source_path+'/'+ t[folder + (batch*batch_size)].split(';')[0]) # read all the images in the folder\n",
    "                for idx,item in enumerate(img_idx): #  Iterate iver the frames/images of a folder to read them in\n",
    "                    image = imread(source_path+'/'+ t[folder + (batch*batch_size)].strip().split(';')[0]+'/'+imgs[item]).astype(np.float32)\n",
    "                   \n",
    "                    #crop the images and resize them. Note that the images are of 2 different shape\n",
    "                    #and the conv3D will throw error if the inputs in a batch have different shapes\n",
    "                    image = imresize(image,(120,120))\n",
    "                    image = (image - np.min(image)) / (np.max(image) - np.min(image))\n",
    "                    batch_data[folder,idx,:,:,0] = image[:,:,0] #normalise and feed in the image\n",
    "                    batch_data[folder,idx,:,:,1] = image[:,:,1] #normalise and feed in the image\n",
    "                    batch_data[folder,idx,:,:,2] = image[:,:,2] #normalise and feed in the image\n",
    "                   \n",
    "                batch_labels[folder, int(t[folder + (batch*batch_size)].strip().split(';')[2])] = 1\n",
    "            yield batch_data, batch_labels #you yield the batch_data and the batch_labels, remember what does yield do\n",
    "\n",
    "       \n",
    "        # write the code for the remaining data points which are left after full batches\n",
    "        if len(folder_list) != batch_size*num_batches:\n",
    "            batch_size=len(folder_list) - batch_size*num_batches\n",
    "            batch_data = np.zeros((batch_size,len(img_idx),120,120,3)) # x is the number of images you use for each video, (y,z) is the final size of the input images and 3 is the number of channels RGB\n",
    "            batch_data\n",
    "            batch_labels = np.zeros((batch_size,5)) # batch_labels is the one hot representation of the output\n",
    "            for folder in range(batch_size): # iterate over the batch_size\n",
    "                imgs = os.listdir(source_path+'/'+ t[folder + (batch*batch_size)].split(';')[0]) # read all the images in the folder\n",
    "                for idx,item in enumerate(img_idx): #  Iterate iver the frames/images of a folder to read them in\n",
    "                    image = imread(source_path+'/'+ t[folder + (batch*batch_size)].strip().split(';')[0]+'/'+imgs[item]).astype(np.float32)\n",
    "                   \n",
    "                    #crop the images and resize them. Note that the images are of 2 different shape\n",
    "                    #and the conv3D will throw error if the inputs in a batch have different shapes\n",
    "                    image = imresize(image,(120,120))\n",
    "                    image = (image - np.min(image)) / (np.max(image) - np.min(image))\n",
    "                    batch_data[folder,idx,:,:,0] = image[:,:,0] #normalise and feed in the image\n",
    "                    batch_data[folder,idx,:,:,1] = image[:,:,1] #normalise and feed in the image\n",
    "                    batch_data[folder,idx,:,:,2] = image[:,:,2] #normalise and feed in the image\n",
    "                   \n",
    "                batch_labels[folder, int(t[folder + (batch*batch_size)].strip().split(';')[2])] = 1\n",
    "            yield batch_data, batch_labels #you yield the batch_data and the batch_labels, remember what does yield do\n"
   ]
  },
  {
   "cell_type": "markdown",
   "metadata": {},
   "source": [
    "We will consider the set of full 30 frames so that we won't miss out any vital information during training with the image size of (120,120)"
   ]
  },
  {
   "cell_type": "markdown",
   "metadata": {},
   "source": [
    "Note here that a video is represented above in the generator as (number of images, height, width, number of channels). Take this into consideration while creating the model architecture."
   ]
  },
  {
   "cell_type": "code",
   "execution_count": 6,
   "metadata": {},
   "outputs": [
    {
     "name": "stdout",
     "output_type": "stream",
     "text": [
      "# training sequences = 663\n",
      "# validation sequences = 100\n",
      "# epochs = 100\n"
     ]
    }
   ],
   "source": [
    "curr_dt_time = datetime.datetime.now()\n",
    "train_path = './Project_data/train'\n",
    "val_path = './Project_data/val'\n",
    "num_train_sequences = len(train_doc)\n",
    "print('# training sequences =', num_train_sequences)\n",
    "num_val_sequences = len(val_doc)\n",
    "print('# validation sequences =', num_val_sequences)\n",
    "num_epochs = 100 # choose the number of epochs\n",
    "print ('# epochs =', num_epochs)"
   ]
  },
  {
   "cell_type": "markdown",
   "metadata": {},
   "source": [
    "## Model\n",
    "Here you make the model using different functionalities that Keras provides. Remember to use `Conv3D` and `MaxPooling3D` and not `Conv2D` and `Maxpooling2D` for a 3D convolution model. You would want to use `TimeDistributed` while building a Conv2D + RNN model. Also remember that the last layer is the softmax. Design the network in such a way that the model is able to give good accuracy on the least number of parameters so that it can fit in the memory of the webcam."
   ]
  },
  {
   "cell_type": "code",
   "execution_count": 7,
   "metadata": {},
   "outputs": [],
   "source": [
    "# Required Libraries for the modelling \n",
    "from keras.models import Sequential, Model\n",
    "from keras.layers import Dense, GRU, Flatten, TimeDistributed, Flatten, BatchNormalization, Activation, Dropout\n",
    "from keras.layers.convolutional import Conv3D, MaxPooling3D,Conv2D,MaxPooling2D\n",
    "from keras.callbacks import ModelCheckpoint, ReduceLROnPlateau\n",
    "from keras import optimizers\n",
    "from keras.applications import ResNet50,mobilenet\n",
    "from keras.applications.resnet50 import preprocess_input\n",
    "from keras.layers.recurrent import LSTM, GRU\n",
    "import pandas as pd \n",
    "import matplotlib.pyplot as plt\n",
    "\n"
   ]
  },
  {
   "cell_type": "code",
   "execution_count": 8,
   "metadata": {},
   "outputs": [],
   "source": [
    "# 3d Convolution \n",
    "model3 = Sequential()\n",
    "\n",
    "# layer1\n",
    "model3.add(Conv3D(filters=16, kernel_size=(3,3,3), strides=(1,1,1), padding='same', input_shape=(30,120,120,3)))\n",
    "model3.add(Activation('relu'))\n",
    "model3.add(Dropout(0.25))\n",
    "model3.add(MaxPooling3D(pool_size=(2,2,2)))\n",
    "\n",
    "#layer2\n",
    "model3.add(Conv3D(filters=32, kernel_size=(3,3,3)))\n",
    "model3.add(Activation('relu'))\n",
    "model3.add(MaxPooling3D(pool_size=(2,2,2)))\n",
    "\n",
    "#layer3\n",
    "model3.add(Conv3D(filters=64, kernel_size=(3,3,3), padding='same'))\n",
    "model3.add(Activation('relu'))\n",
    "model3.add(MaxPooling3D(pool_size=(2,2,2)))\n",
    "\n",
    "#Layer4\n",
    "model3.add(Conv3D(filters=128, kernel_size=(3,3,3), padding='same'))\n",
    "model3.add(Activation('relu'))\n",
    "model3.add(MaxPooling3D(pool_size=(2,2,2)))\n",
    "\n",
    "\n",
    "model3.add(Flatten())\n",
    "model3.add(Dense(256))\n",
    "model3.add(Activation('relu'))\n",
    "model3.add(Dropout(0.5))\n",
    "model3.add(Dense(128))\n",
    "model3.add(Activation('relu'))\n",
    "model3.add(Dropout(0.5))\n",
    "model3.add(Dense(5))\n",
    "model3.add(Activation('softmax'))"
   ]
  },
  {
   "cell_type": "markdown",
   "metadata": {},
   "source": [
    "- We will use four layer model as using more layers will overfit the model and less than four will underfit the model. \n",
    "- Kernel size of (3,3,3) is the optimal choice as it performs best in 3-D Convolution.\n",
    "- Dropout of 50% is used to drop the connections between the neurons of layer which are not useable."
   ]
  },
  {
   "cell_type": "markdown",
   "metadata": {},
   "source": [
    "Now that you have written the model, the next step is to `compile` the model. When you print the `summary` of the model, you'll see the total number of parameters you have to train."
   ]
  },
  {
   "cell_type": "code",
   "execution_count": 9,
   "metadata": {},
   "outputs": [
    {
     "name": "stdout",
     "output_type": "stream",
     "text": [
      "_________________________________________________________________\n",
      "Layer (type)                 Output Shape              Param #   \n",
      "=================================================================\n",
      "conv3d_1 (Conv3D)            (None, 30, 120, 120, 16)  1312      \n",
      "_________________________________________________________________\n",
      "activation_1 (Activation)    (None, 30, 120, 120, 16)  0         \n",
      "_________________________________________________________________\n",
      "dropout_1 (Dropout)          (None, 30, 120, 120, 16)  0         \n",
      "_________________________________________________________________\n",
      "max_pooling3d_1 (MaxPooling3 (None, 15, 60, 60, 16)    0         \n",
      "_________________________________________________________________\n",
      "conv3d_2 (Conv3D)            (None, 13, 58, 58, 32)    13856     \n",
      "_________________________________________________________________\n",
      "activation_2 (Activation)    (None, 13, 58, 58, 32)    0         \n",
      "_________________________________________________________________\n",
      "max_pooling3d_2 (MaxPooling3 (None, 6, 29, 29, 32)     0         \n",
      "_________________________________________________________________\n",
      "conv3d_3 (Conv3D)            (None, 6, 29, 29, 64)     55360     \n",
      "_________________________________________________________________\n",
      "activation_3 (Activation)    (None, 6, 29, 29, 64)     0         \n",
      "_________________________________________________________________\n",
      "max_pooling3d_3 (MaxPooling3 (None, 3, 14, 14, 64)     0         \n",
      "_________________________________________________________________\n",
      "conv3d_4 (Conv3D)            (None, 3, 14, 14, 128)    221312    \n",
      "_________________________________________________________________\n",
      "activation_4 (Activation)    (None, 3, 14, 14, 128)    0         \n",
      "_________________________________________________________________\n",
      "max_pooling3d_4 (MaxPooling3 (None, 1, 7, 7, 128)      0         \n",
      "_________________________________________________________________\n",
      "flatten_1 (Flatten)          (None, 6272)              0         \n",
      "_________________________________________________________________\n",
      "dense_1 (Dense)              (None, 256)               1605888   \n",
      "_________________________________________________________________\n",
      "activation_5 (Activation)    (None, 256)               0         \n",
      "_________________________________________________________________\n",
      "dropout_2 (Dropout)          (None, 256)               0         \n",
      "_________________________________________________________________\n",
      "dense_2 (Dense)              (None, 128)               32896     \n",
      "_________________________________________________________________\n",
      "activation_6 (Activation)    (None, 128)               0         \n",
      "_________________________________________________________________\n",
      "dropout_3 (Dropout)          (None, 128)               0         \n",
      "_________________________________________________________________\n",
      "dense_3 (Dense)              (None, 5)                 645       \n",
      "_________________________________________________________________\n",
      "activation_7 (Activation)    (None, 5)                 0         \n",
      "=================================================================\n",
      "Total params: 1,931,269\n",
      "Trainable params: 1,931,269\n",
      "Non-trainable params: 0\n",
      "_________________________________________________________________\n",
      "None\n"
     ]
    }
   ],
   "source": [
    "optimiser = 'adam'\n",
    "model3.compile(optimizer=optimiser, loss='categorical_crossentropy', metrics=['categorical_accuracy'])\n",
    "print (model3.summary())"
   ]
  },
  {
   "cell_type": "markdown",
   "metadata": {},
   "source": [
    "Let us create the `train_generator` and the `val_generator` which will be used in `.fit_generator`."
   ]
  },
  {
   "cell_type": "code",
   "execution_count": 10,
   "metadata": {},
   "outputs": [],
   "source": [
    "batch_size = 20\n",
    "train_generator = generator(train_path, train_doc, batch_size)\n",
    "val_generator = generator(val_path, val_doc, batch_size)"
   ]
  },
  {
   "cell_type": "code",
   "execution_count": 11,
   "metadata": {},
   "outputs": [],
   "source": [
    "model_name = 'model_init' + '_' + str(curr_dt_time).replace(' ','').replace(':','_') + '/'\n",
    "    \n",
    "if not os.path.exists(model_name):\n",
    "    os.mkdir(model_name)\n",
    "        \n",
    "filepath = model_name + 'model-{epoch:05d}-{loss:.5f}-{categorical_accuracy:.5f}-{val_loss:.5f}-{val_categorical_accuracy:.5f}.h5'\n",
    "\n",
    "checkpoint = ModelCheckpoint(filepath, monitor='val_loss', verbose=1, save_best_only=False, save_weights_only=False, mode='auto', period=1)\n",
    "\n",
    "# We have changed the Check point so that the best model gets saved. we are getting some NO SPACE ISSUE in NImbleBox, hence we have to do so\n",
    "LR = ReduceLROnPlateau(monitor='val_loss', factor=0.5, patience=3, cooldown=1, verbose=1)# write the REducelronplateau code here\n",
    "callbacks_list = [checkpoint, LR]"
   ]
  },
  {
   "cell_type": "markdown",
   "metadata": {},
   "source": [
    "The `steps_per_epoch` and `validation_steps` are used by `fit_generator` to decide the number of next() calls it need to make."
   ]
  },
  {
   "cell_type": "code",
   "execution_count": 12,
   "metadata": {},
   "outputs": [],
   "source": [
    "if (num_train_sequences%batch_size) == 0:\n",
    "    steps_per_epoch = int(num_train_sequences/batch_size)\n",
    "else:\n",
    "    steps_per_epoch = (num_train_sequences//batch_size) + 1\n",
    "\n",
    "if (num_val_sequences%batch_size) == 0:\n",
    "    validation_steps = int(num_val_sequences/batch_size)\n",
    "else:\n",
    "    validation_steps = (num_val_sequences//batch_size) + 1"
   ]
  },
  {
   "cell_type": "markdown",
   "metadata": {},
   "source": [
    "Let us now fit the model. This will start training the model and with the help of the checkpoints, you'll be able to save the model at the end of each epoch."
   ]
  },
  {
   "cell_type": "code",
   "execution_count": 13,
   "metadata": {
    "scrolled": false
   },
   "outputs": [
    {
     "name": "stdout",
     "output_type": "stream",
     "text": [
      "Source path =  ./Project_data/val ; batch size = 20\n",
      "Source path =  ./Project_data/train ; batch size = 20\n",
      "Epoch 1/30\n"
     ]
    },
    {
     "name": "stderr",
     "output_type": "stream",
     "text": [
      "/mnt/disks/user/anaconda3/lib/python3.6/site-packages/ipykernel_launcher.py:15: DeprecationWarning: `imread` is deprecated!\n",
      "`imread` is deprecated in SciPy 1.0.0, and will be removed in 1.2.0.\n",
      "Use ``imageio.imread`` instead.\n",
      "  from ipykernel import kernelapp as app\n",
      "/mnt/disks/user/anaconda3/lib/python3.6/site-packages/ipykernel_launcher.py:19: DeprecationWarning: `imresize` is deprecated!\n",
      "`imresize` is deprecated in SciPy 1.0.0, and will be removed in 1.2.0.\n",
      "Use ``skimage.transform.resize`` instead.\n"
     ]
    },
    {
     "name": "stdout",
     "output_type": "stream",
     "text": [
      "32/34 [===========================>..] - ETA: 14s - loss: 1.6121 - categorical_accuracy: 0.2000"
     ]
    },
    {
     "name": "stderr",
     "output_type": "stream",
     "text": [
      "/mnt/disks/user/anaconda3/lib/python3.6/site-packages/ipykernel_launcher.py:38: DeprecationWarning: `imread` is deprecated!\n",
      "`imread` is deprecated in SciPy 1.0.0, and will be removed in 1.2.0.\n",
      "Use ``imageio.imread`` instead.\n",
      "/mnt/disks/user/anaconda3/lib/python3.6/site-packages/ipykernel_launcher.py:42: DeprecationWarning: `imresize` is deprecated!\n",
      "`imresize` is deprecated in SciPy 1.0.0, and will be removed in 1.2.0.\n",
      "Use ``skimage.transform.resize`` instead.\n"
     ]
    },
    {
     "name": "stdout",
     "output_type": "stream",
     "text": [
      "34/34 [==============================] - 248s 7s/step - loss: 1.6126 - categorical_accuracy: 0.1943 - val_loss: 1.5931 - val_categorical_accuracy: 0.2300\n",
      "\n",
      "Epoch 00001: saving model to model_init_2020-04-1115_43_38.721918/model-00001-1.61146-0.19910-1.59307-0.23000.h5\n",
      "Epoch 2/30\n",
      "34/34 [==============================] - 17s 497ms/step - loss: 1.5917 - categorical_accuracy: 0.2353 - val_loss: 1.5058 - val_categorical_accuracy: 0.3800\n",
      "\n",
      "Epoch 00002: saving model to model_init_2020-04-1115_43_38.721918/model-00002-1.59172-0.23529-1.50581-0.38000.h5\n",
      "Epoch 3/30\n",
      "34/34 [==============================] - 17s 513ms/step - loss: 1.6157 - categorical_accuracy: 0.2255 - val_loss: 1.6082 - val_categorical_accuracy: 0.2100\n",
      "\n",
      "Epoch 00003: saving model to model_init_2020-04-1115_43_38.721918/model-00003-1.61570-0.22549-1.60820-0.21000.h5\n",
      "Epoch 4/30\n",
      "34/34 [==============================] - 20s 598ms/step - loss: 1.6343 - categorical_accuracy: 0.2549 - val_loss: 1.6065 - val_categorical_accuracy: 0.2200\n",
      "\n",
      "Epoch 00004: saving model to model_init_2020-04-1115_43_38.721918/model-00004-1.63433-0.25490-1.60649-0.22000.h5\n",
      "Epoch 5/30\n",
      "34/34 [==============================] - 17s 502ms/step - loss: 1.6097 - categorical_accuracy: 0.1961 - val_loss: 1.6017 - val_categorical_accuracy: 0.2100\n",
      "\n",
      "Epoch 00005: saving model to model_init_2020-04-1115_43_38.721918/model-00005-1.60970-0.19608-1.60171-0.21000.h5\n",
      "\n",
      "Epoch 00005: ReduceLROnPlateau reducing learning rate to 0.0005000000237487257.\n",
      "Epoch 6/30\n",
      "34/34 [==============================] - 15s 431ms/step - loss: 1.4974 - categorical_accuracy: 0.3431 - val_loss: 1.4923 - val_categorical_accuracy: 0.4000\n",
      "\n",
      "Epoch 00006: saving model to model_init_2020-04-1115_43_38.721918/model-00006-1.49745-0.34314-1.49232-0.40000.h5\n",
      "Epoch 7/30\n",
      "34/34 [==============================] - 14s 416ms/step - loss: 1.5645 - categorical_accuracy: 0.2647 - val_loss: 1.5400 - val_categorical_accuracy: 0.3900\n",
      "\n",
      "Epoch 00007: saving model to model_init_2020-04-1115_43_38.721918/model-00007-1.56448-0.26471-1.53997-0.39000.h5\n",
      "Epoch 8/30\n",
      "34/34 [==============================] - 15s 441ms/step - loss: 1.4978 - categorical_accuracy: 0.3333 - val_loss: 1.4605 - val_categorical_accuracy: 0.4000\n",
      "\n",
      "Epoch 00008: saving model to model_init_2020-04-1115_43_38.721918/model-00008-1.49778-0.33333-1.46052-0.40000.h5\n",
      "Epoch 9/30\n",
      "34/34 [==============================] - 16s 456ms/step - loss: 1.5330 - categorical_accuracy: 0.2647 - val_loss: 1.5548 - val_categorical_accuracy: 0.3300\n",
      "\n",
      "Epoch 00009: saving model to model_init_2020-04-1115_43_38.721918/model-00009-1.53299-0.26471-1.55475-0.33000.h5\n",
      "Epoch 10/30\n",
      "34/34 [==============================] - 15s 453ms/step - loss: 1.5326 - categorical_accuracy: 0.2255 - val_loss: 1.4543 - val_categorical_accuracy: 0.3800\n",
      "\n",
      "Epoch 00010: saving model to model_init_2020-04-1115_43_38.721918/model-00010-1.53263-0.22549-1.45430-0.38000.h5\n",
      "Epoch 11/30\n",
      "34/34 [==============================] - 15s 443ms/step - loss: 1.4238 - categorical_accuracy: 0.4020 - val_loss: 1.4029 - val_categorical_accuracy: 0.4200\n",
      "\n",
      "Epoch 00011: saving model to model_init_2020-04-1115_43_38.721918/model-00011-1.42382-0.40196-1.40294-0.42000.h5\n",
      "Epoch 12/30\n",
      "34/34 [==============================] - 16s 485ms/step - loss: 1.5295 - categorical_accuracy: 0.2647 - val_loss: 1.4021 - val_categorical_accuracy: 0.4300\n",
      "\n",
      "Epoch 00012: saving model to model_init_2020-04-1115_43_38.721918/model-00012-1.52945-0.26471-1.40207-0.43000.h5\n",
      "Epoch 13/30\n",
      "34/34 [==============================] - 17s 492ms/step - loss: 1.3759 - categorical_accuracy: 0.4118 - val_loss: 1.4100 - val_categorical_accuracy: 0.4400\n",
      "\n",
      "Epoch 00013: saving model to model_init_2020-04-1115_43_38.721918/model-00013-1.37593-0.41176-1.40996-0.44000.h5\n",
      "Epoch 14/30\n",
      "34/34 [==============================] - 16s 482ms/step - loss: 1.4431 - categorical_accuracy: 0.3627 - val_loss: 1.3474 - val_categorical_accuracy: 0.4800\n",
      "\n",
      "Epoch 00014: saving model to model_init_2020-04-1115_43_38.721918/model-00014-1.44305-0.36275-1.34743-0.48000.h5\n",
      "Epoch 15/30\n",
      "34/34 [==============================] - 17s 494ms/step - loss: 1.5457 - categorical_accuracy: 0.3824 - val_loss: 1.5507 - val_categorical_accuracy: 0.2900\n",
      "\n",
      "Epoch 00015: saving model to model_init_2020-04-1115_43_38.721918/model-00015-1.54572-0.38235-1.55070-0.29000.h5\n",
      "Epoch 16/30\n",
      "34/34 [==============================] - 17s 495ms/step - loss: 1.4789 - categorical_accuracy: 0.2843 - val_loss: 1.3926 - val_categorical_accuracy: 0.4100\n",
      "\n",
      "Epoch 00016: saving model to model_init_2020-04-1115_43_38.721918/model-00016-1.47895-0.28431-1.39255-0.41000.h5\n",
      "Epoch 17/30\n",
      "34/34 [==============================] - 17s 490ms/step - loss: 1.4103 - categorical_accuracy: 0.3725 - val_loss: 1.3354 - val_categorical_accuracy: 0.4600\n",
      "\n",
      "Epoch 00017: saving model to model_init_2020-04-1115_43_38.721918/model-00017-1.41030-0.37255-1.33542-0.46000.h5\n",
      "Epoch 18/30\n",
      "34/34 [==============================] - 17s 496ms/step - loss: 1.3477 - categorical_accuracy: 0.4314 - val_loss: 1.3137 - val_categorical_accuracy: 0.4500\n",
      "\n",
      "Epoch 00018: saving model to model_init_2020-04-1115_43_38.721918/model-00018-1.34766-0.43137-1.31371-0.45000.h5\n",
      "Epoch 19/30\n",
      "34/34 [==============================] - 17s 492ms/step - loss: 1.4516 - categorical_accuracy: 0.3725 - val_loss: 1.5244 - val_categorical_accuracy: 0.3000\n",
      "\n",
      "Epoch 00019: saving model to model_init_2020-04-1115_43_38.721918/model-00019-1.45159-0.37255-1.52444-0.30000.h5\n",
      "Epoch 20/30\n",
      "34/34 [==============================] - 17s 489ms/step - loss: 1.3790 - categorical_accuracy: 0.3824 - val_loss: 1.3248 - val_categorical_accuracy: 0.4500\n",
      "\n",
      "Epoch 00020: saving model to model_init_2020-04-1115_43_38.721918/model-00020-1.37903-0.38235-1.32480-0.45000.h5\n",
      "Epoch 21/30\n",
      "34/34 [==============================] - 16s 482ms/step - loss: 1.4481 - categorical_accuracy: 0.3627 - val_loss: 1.3814 - val_categorical_accuracy: 0.3900\n",
      "\n",
      "Epoch 00021: saving model to model_init_2020-04-1115_43_38.721918/model-00021-1.44811-0.36275-1.38142-0.39000.h5\n",
      "\n",
      "Epoch 00021: ReduceLROnPlateau reducing learning rate to 0.0002500000118743628.\n",
      "Epoch 22/30\n",
      "34/34 [==============================] - 16s 479ms/step - loss: 1.4359 - categorical_accuracy: 0.3824 - val_loss: 1.3359 - val_categorical_accuracy: 0.4200\n",
      "\n",
      "Epoch 00022: saving model to model_init_2020-04-1115_43_38.721918/model-00022-1.43592-0.38235-1.33591-0.42000.h5\n",
      "Epoch 23/30\n",
      "34/34 [==============================] - 16s 478ms/step - loss: 1.2765 - categorical_accuracy: 0.4608 - val_loss: 1.2655 - val_categorical_accuracy: 0.4900\n",
      "\n",
      "Epoch 00023: saving model to model_init_2020-04-1115_43_38.721918/model-00023-1.27651-0.46078-1.26552-0.49000.h5\n",
      "Epoch 24/30\n",
      "34/34 [==============================] - 16s 479ms/step - loss: 1.3771 - categorical_accuracy: 0.3529 - val_loss: 1.2872 - val_categorical_accuracy: 0.4400\n",
      "\n",
      "Epoch 00024: saving model to model_init_2020-04-1115_43_38.721918/model-00024-1.37709-0.35294-1.28721-0.44000.h5\n",
      "Epoch 25/30\n",
      "34/34 [==============================] - 16s 485ms/step - loss: 1.3385 - categorical_accuracy: 0.3431 - val_loss: 1.2889 - val_categorical_accuracy: 0.4400\n",
      "\n",
      "Epoch 00025: saving model to model_init_2020-04-1115_43_38.721918/model-00025-1.33847-0.34314-1.28888-0.44000.h5\n",
      "Epoch 26/30\n",
      "34/34 [==============================] - 16s 476ms/step - loss: 1.2602 - categorical_accuracy: 0.4216 - val_loss: 1.2615 - val_categorical_accuracy: 0.4500\n",
      "\n",
      "Epoch 00026: saving model to model_init_2020-04-1115_43_38.721918/model-00026-1.26025-0.42157-1.26154-0.45000.h5\n",
      "Epoch 27/30\n",
      "34/34 [==============================] - 17s 496ms/step - loss: 1.2426 - categorical_accuracy: 0.4216 - val_loss: 1.2621 - val_categorical_accuracy: 0.4300\n",
      "\n",
      "Epoch 00027: saving model to model_init_2020-04-1115_43_38.721918/model-00027-1.24259-0.42157-1.26209-0.43000.h5\n",
      "Epoch 28/30\n",
      "34/34 [==============================] - 17s 489ms/step - loss: 1.1374 - categorical_accuracy: 0.4510 - val_loss: 1.2159 - val_categorical_accuracy: 0.4400\n",
      "\n",
      "Epoch 00028: saving model to model_init_2020-04-1115_43_38.721918/model-00028-1.13735-0.45098-1.21590-0.44000.h5\n",
      "Epoch 29/30\n",
      "34/34 [==============================] - 17s 496ms/step - loss: 1.2262 - categorical_accuracy: 0.4706 - val_loss: 1.1740 - val_categorical_accuracy: 0.4900\n"
     ]
    },
    {
     "name": "stdout",
     "output_type": "stream",
     "text": [
      "\n",
      "Epoch 00029: saving model to model_init_2020-04-1115_43_38.721918/model-00029-1.22619-0.47059-1.17403-0.49000.h5\n",
      "Epoch 30/30\n",
      "34/34 [==============================] - 17s 496ms/step - loss: 1.2878 - categorical_accuracy: 0.4314 - val_loss: 1.1884 - val_categorical_accuracy: 0.4600\n",
      "\n",
      "Epoch 00030: saving model to model_init_2020-04-1115_43_38.721918/model-00030-1.28780-0.43137-1.18843-0.46000.h5\n"
     ]
    },
    {
     "data": {
      "text/plain": [
       "<keras.callbacks.History at 0x7f4bb62ac9e8>"
      ]
     },
     "execution_count": 13,
     "metadata": {},
     "output_type": "execute_result"
    }
   ],
   "source": [
    "num_epochs = 30\n",
    "model3.fit_generator(train_generator, steps_per_epoch=steps_per_epoch, epochs=num_epochs, verbose=1, \n",
    "                    callbacks=callbacks_list, validation_data=val_generator, \n",
    "                    validation_steps=validation_steps, class_weight=None, workers=1, initial_epoch=0)"
   ]
  },
  {
   "cell_type": "code",
   "execution_count": 61,
   "metadata": {},
   "outputs": [
    {
     "data": {
      "image/png": "[encoded data removed]",
      "text/plain": [
       "<Figure size 432x288 with 1 Axes>"
      ]
     },
     "metadata": {},
     "output_type": "display_data"
    },
    {
     "data": {
      "image/png": "[encoded data removed]",
      "text/plain": [
       "<Figure size 432x288 with 1 Axes>"
      ]
     },
     "metadata": {},
     "output_type": "display_data"
    }
   ],
   "source": [
    "model3_data = pd.DataFrame(model3.history.history)\n",
    "\n",
    "model3_data[['val_loss','loss']].plot(title='Loss', grid=True)\n",
    "model3_data[['val_categorical_accuracy','categorical_accuracy']].plot(title='Categorical Accuracy', grid=True)\n",
    "plt.show()"
   ]
  },
  {
   "cell_type": "code",
   "execution_count": 14,
   "metadata": {},
   "outputs": [
    {
     "name": "stdout",
     "output_type": "stream",
     "text": [
      "_________________________________________________________________\n",
      "Layer (type)                 Output Shape              Param #   \n",
      "=================================================================\n",
      "conv3d_5 (Conv3D)            (None, 30, 120, 120, 8)   656       \n",
      "_________________________________________________________________\n",
      "activation_8 (Activation)    (None, 30, 120, 120, 8)   0         \n",
      "_________________________________________________________________\n",
      "max_pooling3d_5 (MaxPooling3 (None, 15, 60, 60, 8)     0         \n",
      "_________________________________________________________________\n",
      "conv3d_6 (Conv3D)            (None, 13, 58, 58, 16)    3472      \n",
      "_________________________________________________________________\n",
      "activation_9 (Activation)    (None, 13, 58, 58, 16)    0         \n",
      "_________________________________________________________________\n",
      "max_pooling3d_6 (MaxPooling3 (None, 6, 29, 29, 16)     0         \n",
      "_________________________________________________________________\n",
      "conv3d_7 (Conv3D)            (None, 6, 29, 29, 32)     4640      \n",
      "_________________________________________________________________\n",
      "activation_10 (Activation)   (None, 6, 29, 29, 32)     0         \n",
      "_________________________________________________________________\n",
      "max_pooling3d_7 (MaxPooling3 (None, 3, 14, 14, 32)     0         \n",
      "_________________________________________________________________\n",
      "conv3d_8 (Conv3D)            (None, 3, 14, 14, 64)     18496     \n",
      "_________________________________________________________________\n",
      "activation_11 (Activation)   (None, 3, 14, 14, 64)     0         \n",
      "_________________________________________________________________\n",
      "max_pooling3d_8 (MaxPooling3 (None, 1, 7, 7, 64)       0         \n",
      "_________________________________________________________________\n",
      "flatten_2 (Flatten)          (None, 3136)              0         \n",
      "_________________________________________________________________\n",
      "dense_4 (Dense)              (None, 256)               803072    \n",
      "_________________________________________________________________\n",
      "activation_12 (Activation)   (None, 256)               0         \n",
      "_________________________________________________________________\n",
      "dropout_4 (Dropout)          (None, 256)               0         \n",
      "_________________________________________________________________\n",
      "dense_5 (Dense)              (None, 128)               32896     \n",
      "_________________________________________________________________\n",
      "activation_13 (Activation)   (None, 128)               0         \n",
      "_________________________________________________________________\n",
      "dropout_5 (Dropout)          (None, 128)               0         \n",
      "_________________________________________________________________\n",
      "dense_6 (Dense)              (None, 5)                 645       \n",
      "_________________________________________________________________\n",
      "activation_14 (Activation)   (None, 5)                 0         \n",
      "=================================================================\n",
      "Total params: 863,877\n",
      "Trainable params: 863,877\n",
      "Non-trainable params: 0\n",
      "_________________________________________________________________\n",
      "None\n"
     ]
    }
   ],
   "source": [
    "# we change the filter size to (8,16,32,64) and remove dropout from convolution layers \n",
    "model2 = Sequential()\n",
    "\n",
    "# layer1\n",
    "model2.add(Conv3D(filters=8, kernel_size=(3,3,3), padding='same', input_shape=(30,120,120,3)))\n",
    "model2.add(Activation('relu'))\n",
    "model2.add(MaxPooling3D(pool_size=(2,2,2)))\n",
    "\n",
    "#layer2\n",
    "model2.add(Conv3D(filters=16, kernel_size=(3,3,3)))\n",
    "model2.add(Activation('relu'))\n",
    "model2.add(MaxPooling3D(pool_size=(2,2,2)))\n",
    "\n",
    "#layer3\n",
    "model2.add(Conv3D(filters=32, kernel_size=(1,3,3), padding='same'))\n",
    "model2.add(Activation('relu'))\n",
    "model2.add(MaxPooling3D(pool_size=(2,2,2)))\n",
    "\n",
    "#Layer4\n",
    "model2.add(Conv3D(filters=64, kernel_size=(1,3,3), padding='same'))\n",
    "model2.add(Activation('relu'))\n",
    "model2.add(MaxPooling3D(pool_size=(2,2,2)))\n",
    "\n",
    "\n",
    "model2.add(Flatten())\n",
    "model2.add(Dense(256))\n",
    "model2.add(Activation('relu'))\n",
    "model2.add(Dropout(0.5))\n",
    "model2.add(Dense(128))\n",
    "model2.add(Activation('relu'))\n",
    "model2.add(Dropout(0.5))\n",
    "model2.add(Dense(5))\n",
    "model2.add(Activation('softmax'))\n",
    "\n",
    "optimiser = 'adam'\n",
    "model2.compile(optimizer=optimiser, loss='categorical_crossentropy', metrics=['categorical_accuracy'])\n",
    "print (model2.summary())"
   ]
  },
  {
   "cell_type": "code",
   "execution_count": 15,
   "metadata": {},
   "outputs": [
    {
     "name": "stdout",
     "output_type": "stream",
     "text": [
      "Source path =  ./Project_data/val ; batch size = 40\n",
      "Source path =  ./Project_data/train ; batch size = 40\n",
      "Epoch 1/50\n"
     ]
    },
    {
     "name": "stderr",
     "output_type": "stream",
     "text": [
      "/mnt/disks/user/anaconda3/lib/python3.6/site-packages/ipykernel_launcher.py:15: DeprecationWarning: `imread` is deprecated!\n",
      "`imread` is deprecated in SciPy 1.0.0, and will be removed in 1.2.0.\n",
      "Use ``imageio.imread`` instead.\n",
      "  from ipykernel import kernelapp as app\n",
      "/mnt/disks/user/anaconda3/lib/python3.6/site-packages/ipykernel_launcher.py:19: DeprecationWarning: `imresize` is deprecated!\n",
      "`imresize` is deprecated in SciPy 1.0.0, and will be removed in 1.2.0.\n",
      "Use ``skimage.transform.resize`` instead.\n"
     ]
    },
    {
     "name": "stdout",
     "output_type": "stream",
     "text": [
      " 2/17 [==>...........................] - ETA: 1:31 - loss: 1.6215 - categorical_accuracy: 0.2000"
     ]
    },
    {
     "name": "stderr",
     "output_type": "stream",
     "text": [
      "/mnt/disks/user/anaconda3/lib/python3.6/site-packages/ipykernel_launcher.py:38: DeprecationWarning: `imread` is deprecated!\n",
      "`imread` is deprecated in SciPy 1.0.0, and will be removed in 1.2.0.\n",
      "Use ``imageio.imread`` instead.\n",
      "/mnt/disks/user/anaconda3/lib/python3.6/site-packages/ipykernel_launcher.py:42: DeprecationWarning: `imresize` is deprecated!\n",
      "`imresize` is deprecated in SciPy 1.0.0, and will be removed in 1.2.0.\n",
      "Use ``skimage.transform.resize`` instead.\n"
     ]
    },
    {
     "name": "stdout",
     "output_type": "stream",
     "text": [
      "17/17 [==============================] - 87s 5s/step - loss: 1.6010 - categorical_accuracy: 0.2050 - val_loss: 1.5275 - val_categorical_accuracy: 0.2300\n",
      "\n",
      "Epoch 00001: saving model to model_init_2020-04-1115_43_38.721918/model-00001-1.60203-0.20362-1.52755-0.23000.h5\n",
      "Epoch 2/50\n",
      "17/17 [==============================] - 43s 3s/step - loss: 1.5241 - categorical_accuracy: 0.2813 - val_loss: 1.4251 - val_categorical_accuracy: 0.3500\n",
      "\n",
      "Epoch 00002: saving model to model_init_2020-04-1115_43_38.721918/model-00002-1.52410-0.28133-1.42514-0.35000.h5\n",
      "Epoch 3/50\n",
      "17/17 [==============================] - 45s 3s/step - loss: 1.4914 - categorical_accuracy: 0.3279 - val_loss: 1.3591 - val_categorical_accuracy: 0.5000\n",
      "\n",
      "Epoch 00003: saving model to model_init_2020-04-1115_43_38.721918/model-00003-1.49114-0.32698-1.35910-0.50000.h5\n",
      "Epoch 4/50\n",
      "17/17 [==============================] - 38s 2s/step - loss: 1.3599 - categorical_accuracy: 0.3963 - val_loss: 1.2372 - val_categorical_accuracy: 0.4167\n",
      "\n",
      "Epoch 00004: saving model to model_init_2020-04-1115_43_38.721918/model-00004-1.35989-0.39628-1.23719-0.41667.h5\n",
      "Epoch 5/50\n",
      "17/17 [==============================] - 38s 2s/step - loss: 1.2905 - categorical_accuracy: 0.3911 - val_loss: 1.0540 - val_categorical_accuracy: 0.5333\n",
      "\n",
      "Epoch 00005: saving model to model_init_2020-04-1115_43_38.721918/model-00005-1.29385-0.38978-1.05397-0.53333.h5\n",
      "Epoch 6/50\n",
      "17/17 [==============================] - 35s 2s/step - loss: 1.2240 - categorical_accuracy: 0.4464 - val_loss: 1.0951 - val_categorical_accuracy: 0.5167\n",
      "\n",
      "Epoch 00006: saving model to model_init_2020-04-1115_43_38.721918/model-00006-1.22402-0.44637-1.09514-0.51667.h5\n",
      "Epoch 7/50\n",
      "17/17 [==============================] - 35s 2s/step - loss: 1.3457 - categorical_accuracy: 0.3460 - val_loss: 1.2610 - val_categorical_accuracy: 0.3500\n",
      "\n",
      "Epoch 00007: saving model to model_init_2020-04-1115_43_38.721918/model-00007-1.34566-0.34602-1.26095-0.35000.h5\n",
      "Epoch 8/50\n",
      "17/17 [==============================] - 34s 2s/step - loss: 1.2002 - categorical_accuracy: 0.4360 - val_loss: 1.0237 - val_categorical_accuracy: 0.6167\n",
      "\n",
      "Epoch 00008: saving model to model_init_2020-04-1115_43_38.721918/model-00008-1.20022-0.43599-1.02369-0.61667.h5\n",
      "Epoch 9/50\n",
      "17/17 [==============================] - 35s 2s/step - loss: 1.2520 - categorical_accuracy: 0.4256 - val_loss: 1.1323 - val_categorical_accuracy: 0.4833\n",
      "\n",
      "Epoch 00009: saving model to model_init_2020-04-1115_43_38.721918/model-00009-1.25199-0.42561-1.13229-0.48333.h5\n",
      "Epoch 10/50\n",
      "17/17 [==============================] - 37s 2s/step - loss: 1.1183 - categorical_accuracy: 0.4948 - val_loss: 0.9613 - val_categorical_accuracy: 0.6333\n",
      "\n",
      "Epoch 00010: saving model to model_init_2020-04-1115_43_38.721918/model-00010-1.11827-0.49481-0.96134-0.63333.h5\n",
      "Epoch 11/50\n",
      "17/17 [==============================] - 35s 2s/step - loss: 1.1832 - categorical_accuracy: 0.4775 - val_loss: 1.1815 - val_categorical_accuracy: 0.3500\n",
      "\n",
      "Epoch 00011: saving model to model_init_2020-04-1115_43_38.721918/model-00011-1.18320-0.47751-1.18148-0.35000.h5\n",
      "Epoch 12/50\n",
      "17/17 [==============================] - 36s 2s/step - loss: 1.1746 - categorical_accuracy: 0.4775 - val_loss: 0.9799 - val_categorical_accuracy: 0.5500\n",
      "\n",
      "Epoch 00012: saving model to model_init_2020-04-1115_43_38.721918/model-00012-1.17462-0.47751-0.97987-0.55000.h5\n",
      "Epoch 13/50\n",
      "17/17 [==============================] - 35s 2s/step - loss: 1.0779 - categorical_accuracy: 0.5294 - val_loss: 0.9426 - val_categorical_accuracy: 0.6667\n",
      "\n",
      "Epoch 00013: saving model to model_init_2020-04-1115_43_38.721918/model-00013-1.07795-0.52941-0.94259-0.66667.h5\n",
      "Epoch 14/50\n",
      "17/17 [==============================] - 35s 2s/step - loss: 1.0043 - categorical_accuracy: 0.5709 - val_loss: 0.8641 - val_categorical_accuracy: 0.6500\n",
      "\n",
      "Epoch 00014: saving model to model_init_2020-04-1115_43_38.721918/model-00014-1.00427-0.57093-0.86408-0.65000.h5\n",
      "Epoch 15/50\n",
      "17/17 [==============================] - 37s 2s/step - loss: 0.9225 - categorical_accuracy: 0.6194 - val_loss: 1.1222 - val_categorical_accuracy: 0.4833\n",
      "\n",
      "Epoch 00015: saving model to model_init_2020-04-1115_43_38.721918/model-00015-0.92250-0.61938-1.12221-0.48333.h5\n",
      "Epoch 16/50\n",
      "17/17 [==============================] - 33s 2s/step - loss: 1.0143 - categorical_accuracy: 0.5606 - val_loss: 0.7972 - val_categorical_accuracy: 0.7000\n",
      "\n",
      "Epoch 00016: saving model to model_init_2020-04-1115_43_38.721918/model-00016-1.01427-0.56055-0.79725-0.70000.h5\n",
      "Epoch 17/50\n",
      "17/17 [==============================] - 34s 2s/step - loss: 0.9590 - categorical_accuracy: 0.5882 - val_loss: 0.9905 - val_categorical_accuracy: 0.5500\n",
      "\n",
      "Epoch 00017: saving model to model_init_2020-04-1115_43_38.721918/model-00017-0.95898-0.58824-0.99048-0.55000.h5\n",
      "Epoch 18/50\n",
      "17/17 [==============================] - 37s 2s/step - loss: 0.9463 - categorical_accuracy: 0.6125 - val_loss: 0.7350 - val_categorical_accuracy: 0.7000\n",
      "\n",
      "Epoch 00018: saving model to model_init_2020-04-1115_43_38.721918/model-00018-0.94630-0.61246-0.73504-0.70000.h5\n",
      "Epoch 19/50\n",
      "17/17 [==============================] - 34s 2s/step - loss: 0.8784 - categorical_accuracy: 0.6228 - val_loss: 0.9043 - val_categorical_accuracy: 0.6500\n",
      "\n",
      "Epoch 00019: saving model to model_init_2020-04-1115_43_38.721918/model-00019-0.87835-0.62284-0.90433-0.65000.h5\n",
      "Epoch 20/50\n",
      "17/17 [==============================] - 36s 2s/step - loss: 0.8207 - categorical_accuracy: 0.6644 - val_loss: 0.9371 - val_categorical_accuracy: 0.5833\n",
      "\n",
      "Epoch 00020: saving model to model_init_2020-04-1115_43_38.721918/model-00020-0.82075-0.66436-0.93711-0.58333.h5\n",
      "Epoch 21/50\n",
      "17/17 [==============================] - 36s 2s/step - loss: 0.7913 - categorical_accuracy: 0.6713 - val_loss: 0.6823 - val_categorical_accuracy: 0.7167\n",
      "\n",
      "Epoch 00021: saving model to model_init_2020-04-1115_43_38.721918/model-00021-0.79125-0.67128-0.68231-0.71667.h5\n",
      "Epoch 22/50\n",
      "17/17 [==============================] - 34s 2s/step - loss: 0.7162 - categorical_accuracy: 0.7093 - val_loss: 0.7777 - val_categorical_accuracy: 0.7333\n",
      "\n",
      "Epoch 00022: saving model to model_init_2020-04-1115_43_38.721918/model-00022-0.71619-0.70934-0.77766-0.73333.h5\n",
      "Epoch 23/50\n",
      "17/17 [==============================] - 37s 2s/step - loss: 0.7363 - categorical_accuracy: 0.6990 - val_loss: 0.8155 - val_categorical_accuracy: 0.5667\n",
      "\n",
      "Epoch 00023: saving model to model_init_2020-04-1115_43_38.721918/model-00023-0.73626-0.69896-0.81549-0.56667.h5\n",
      "Epoch 24/50\n",
      "17/17 [==============================] - 35s 2s/step - loss: 0.7732 - categorical_accuracy: 0.6782 - val_loss: 0.8676 - val_categorical_accuracy: 0.5500\n",
      "\n",
      "Epoch 00024: saving model to model_init_2020-04-1115_43_38.721918/model-00024-0.77316-0.67820-0.86761-0.55000.h5\n",
      "\n",
      "Epoch 00024: ReduceLROnPlateau reducing learning rate to 0.0005000000237487257.\n",
      "Epoch 25/50\n",
      "17/17 [==============================] - 35s 2s/step - loss: 0.6073 - categorical_accuracy: 0.7543 - val_loss: 0.6604 - val_categorical_accuracy: 0.7500\n",
      "\n",
      "Epoch 00025: saving model to model_init_2020-04-1115_43_38.721918/model-00025-0.60729-0.75433-0.66045-0.75000.h5\n",
      "Epoch 26/50\n",
      "17/17 [==============================] - 35s 2s/step - loss: 0.5783 - categorical_accuracy: 0.7924 - val_loss: 0.7482 - val_categorical_accuracy: 0.6333\n",
      "\n",
      "Epoch 00026: saving model to model_init_2020-04-1115_43_38.721918/model-00026-0.57827-0.79239-0.74817-0.63333.h5\n",
      "Epoch 27/50\n",
      "17/17 [==============================] - 37s 2s/step - loss: 0.5372 - categorical_accuracy: 0.7785 - val_loss: 0.7550 - val_categorical_accuracy: 0.6833\n",
      "\n",
      "Epoch 00027: saving model to model_init_2020-04-1115_43_38.721918/model-00027-0.53715-0.77855-0.75503-0.68333.h5\n",
      "Epoch 28/50\n",
      "17/17 [==============================] - 33s 2s/step - loss: 0.5541 - categorical_accuracy: 0.7682 - val_loss: 0.9205 - val_categorical_accuracy: 0.6167\n",
      "\n",
      "Epoch 00028: saving model to model_init_2020-04-1115_43_38.721918/model-00028-0.55410-0.76817-0.92046-0.61667.h5\n",
      "\n",
      "Epoch 00028: ReduceLROnPlateau reducing learning rate to 0.0002500000118743628.\n",
      "Epoch 29/50\n",
      "17/17 [==============================] - 36s 2s/step - loss: 0.4950 - categorical_accuracy: 0.8304 - val_loss: 0.6420 - val_categorical_accuracy: 0.7333\n",
      "\n",
      "Epoch 00029: saving model to model_init_2020-04-1115_43_38.721918/model-00029-0.49497-0.83045-0.64201-0.73333.h5\n",
      "Epoch 30/50\n"
     ]
    },
    {
     "name": "stdout",
     "output_type": "stream",
     "text": [
      "17/17 [==============================] - 36s 2s/step - loss: 0.5341 - categorical_accuracy: 0.8028 - val_loss: 0.5879 - val_categorical_accuracy: 0.7500\n",
      "\n",
      "Epoch 00030: saving model to model_init_2020-04-1115_43_38.721918/model-00030-0.53408-0.80277-0.58794-0.75000.h5\n",
      "Epoch 31/50\n",
      "17/17 [==============================] - 36s 2s/step - loss: 0.5104 - categorical_accuracy: 0.7682 - val_loss: 0.8144 - val_categorical_accuracy: 0.6833\n",
      "\n",
      "Epoch 00031: saving model to model_init_2020-04-1115_43_38.721918/model-00031-0.51043-0.76817-0.81440-0.68333.h5\n",
      "Epoch 32/50\n",
      "17/17 [==============================] - 35s 2s/step - loss: 0.4699 - categorical_accuracy: 0.8097 - val_loss: 0.8773 - val_categorical_accuracy: 0.6667\n",
      "\n",
      "Epoch 00032: saving model to model_init_2020-04-1115_43_38.721918/model-00032-0.46990-0.80969-0.87729-0.66667.h5\n",
      "Epoch 33/50\n",
      "17/17 [==============================] - 35s 2s/step - loss: 0.4586 - categorical_accuracy: 0.8131 - val_loss: 0.6305 - val_categorical_accuracy: 0.7667\n",
      "\n",
      "Epoch 00033: saving model to model_init_2020-04-1115_43_38.721918/model-00033-0.45863-0.81315-0.63045-0.76667.h5\n",
      "\n",
      "Epoch 00033: ReduceLROnPlateau reducing learning rate to 0.0001250000059371814.\n",
      "Epoch 34/50\n",
      "17/17 [==============================] - 35s 2s/step - loss: 0.4328 - categorical_accuracy: 0.8270 - val_loss: 0.6294 - val_categorical_accuracy: 0.7333\n",
      "\n",
      "Epoch 00034: saving model to model_init_2020-04-1115_43_38.721918/model-00034-0.43279-0.82699-0.62942-0.73333.h5\n",
      "Epoch 35/50\n",
      "17/17 [==============================] - 35s 2s/step - loss: 0.4841 - categorical_accuracy: 0.8062 - val_loss: 0.7453 - val_categorical_accuracy: 0.7500\n",
      "\n",
      "Epoch 00035: saving model to model_init_2020-04-1115_43_38.721918/model-00035-0.48408-0.80623-0.74529-0.75000.h5\n",
      "Epoch 36/50\n",
      "17/17 [==============================] - 36s 2s/step - loss: 0.4192 - categorical_accuracy: 0.8408 - val_loss: 0.7375 - val_categorical_accuracy: 0.7500\n",
      "\n",
      "Epoch 00036: saving model to model_init_2020-04-1115_43_38.721918/model-00036-0.41918-0.84083-0.73747-0.75000.h5\n",
      "\n",
      "Epoch 00036: ReduceLROnPlateau reducing learning rate to 6.25000029685907e-05.\n",
      "Epoch 37/50\n",
      "17/17 [==============================] - 35s 2s/step - loss: 0.4403 - categorical_accuracy: 0.8374 - val_loss: 0.8625 - val_categorical_accuracy: 0.6833\n",
      "\n",
      "Epoch 00037: saving model to model_init_2020-04-1115_43_38.721918/model-00037-0.44027-0.83737-0.86249-0.68333.h5\n",
      "Epoch 38/50\n",
      "17/17 [==============================] - 36s 2s/step - loss: 0.4104 - categorical_accuracy: 0.8408 - val_loss: 0.6571 - val_categorical_accuracy: 0.7333\n",
      "\n",
      "Epoch 00038: saving model to model_init_2020-04-1115_43_38.721918/model-00038-0.41036-0.84083-0.65715-0.73333.h5\n",
      "Epoch 39/50\n",
      "17/17 [==============================] - 35s 2s/step - loss: 0.4432 - categorical_accuracy: 0.8131 - val_loss: 0.6342 - val_categorical_accuracy: 0.7667\n",
      "\n",
      "Epoch 00039: saving model to model_init_2020-04-1115_43_38.721918/model-00039-0.44315-0.81315-0.63424-0.76667.h5\n",
      "\n",
      "Epoch 00039: ReduceLROnPlateau reducing learning rate to 3.125000148429535e-05.\n",
      "Epoch 40/50\n",
      "17/17 [==============================] - 35s 2s/step - loss: 0.4022 - categorical_accuracy: 0.8270 - val_loss: 0.5940 - val_categorical_accuracy: 0.7667\n",
      "\n",
      "Epoch 00040: saving model to model_init_2020-04-1115_43_38.721918/model-00040-0.40217-0.82699-0.59404-0.76667.h5\n",
      "Epoch 41/50\n",
      "17/17 [==============================] - 34s 2s/step - loss: 0.4076 - categorical_accuracy: 0.8616 - val_loss: 0.8399 - val_categorical_accuracy: 0.7000\n",
      "\n",
      "Epoch 00041: saving model to model_init_2020-04-1115_43_38.721918/model-00041-0.40762-0.86159-0.83986-0.70000.h5\n",
      "Epoch 42/50\n",
      "17/17 [==============================] - 36s 2s/step - loss: 0.3821 - categorical_accuracy: 0.8374 - val_loss: 0.6733 - val_categorical_accuracy: 0.7833\n",
      "\n",
      "Epoch 00042: saving model to model_init_2020-04-1115_43_38.721918/model-00042-0.38208-0.83737-0.67329-0.78333.h5\n",
      "\n",
      "Epoch 00042: ReduceLROnPlateau reducing learning rate to 1.5625000742147677e-05.\n",
      "Epoch 43/50\n",
      "17/17 [==============================] - 35s 2s/step - loss: 0.3794 - categorical_accuracy: 0.8512 - val_loss: 0.8275 - val_categorical_accuracy: 0.7167\n",
      "\n",
      "Epoch 00043: saving model to model_init_2020-04-1115_43_38.721918/model-00043-0.37944-0.85121-0.82749-0.71667.h5\n",
      "Epoch 44/50\n",
      "17/17 [==============================] - 35s 2s/step - loss: 0.4170 - categorical_accuracy: 0.8478 - val_loss: 0.7186 - val_categorical_accuracy: 0.7000\n",
      "\n",
      "Epoch 00044: saving model to model_init_2020-04-1115_43_38.721918/model-00044-0.41700-0.84775-0.71859-0.70000.h5\n",
      "Epoch 45/50\n",
      "17/17 [==============================] - 34s 2s/step - loss: 0.4066 - categorical_accuracy: 0.8304 - val_loss: 0.4751 - val_categorical_accuracy: 0.8333\n",
      "\n",
      "Epoch 00045: saving model to model_init_2020-04-1115_43_38.721918/model-00045-0.40659-0.83045-0.47506-0.83333.h5\n",
      "Epoch 46/50\n",
      "17/17 [==============================] - 37s 2s/step - loss: 0.4636 - categorical_accuracy: 0.8270 - val_loss: 0.9506 - val_categorical_accuracy: 0.6667\n",
      "\n",
      "Epoch 00046: saving model to model_init_2020-04-1115_43_38.721918/model-00046-0.46359-0.82699-0.95064-0.66667.h5\n",
      "Epoch 47/50\n",
      "17/17 [==============================] - 35s 2s/step - loss: 0.4109 - categorical_accuracy: 0.8374 - val_loss: 0.7163 - val_categorical_accuracy: 0.7167\n",
      "\n",
      "Epoch 00047: saving model to model_init_2020-04-1115_43_38.721918/model-00047-0.41088-0.83737-0.71635-0.71667.h5\n",
      "Epoch 48/50\n",
      "17/17 [==============================] - 36s 2s/step - loss: 0.4371 - categorical_accuracy: 0.8374 - val_loss: 0.7924 - val_categorical_accuracy: 0.7667\n",
      "\n",
      "Epoch 00048: saving model to model_init_2020-04-1115_43_38.721918/model-00048-0.43714-0.83737-0.79238-0.76667.h5\n",
      "\n",
      "Epoch 00048: ReduceLROnPlateau reducing learning rate to 7.812500371073838e-06.\n",
      "Epoch 49/50\n",
      "17/17 [==============================] - 35s 2s/step - loss: 0.4050 - categorical_accuracy: 0.8270 - val_loss: 0.7864 - val_categorical_accuracy: 0.7000\n",
      "\n",
      "Epoch 00049: saving model to model_init_2020-04-1115_43_38.721918/model-00049-0.40496-0.82699-0.78639-0.70000.h5\n",
      "Epoch 50/50\n",
      "17/17 [==============================] - 35s 2s/step - loss: 0.3640 - categorical_accuracy: 0.8651 - val_loss: 0.6195 - val_categorical_accuracy: 0.7833\n",
      "\n",
      "Epoch 00050: saving model to model_init_2020-04-1115_43_38.721918/model-00050-0.36404-0.86505-0.61951-0.78333.h5\n"
     ]
    },
    {
     "data": {
      "text/plain": [
       "<keras.callbacks.History at 0x7f4b37f9fe80>"
      ]
     },
     "execution_count": 15,
     "metadata": {},
     "output_type": "execute_result"
    }
   ],
   "source": [
    "batch_size = 40\n",
    "train_generator = generator(train_path, train_doc, batch_size)\n",
    "val_generator = generator(val_path, val_doc, batch_size)\n",
    "\n",
    "model_name = 'model_init' + '_' + str(curr_dt_time).replace(' ','').replace(':','_') + '/'\n",
    "    \n",
    "if not os.path.exists(model_name):\n",
    "    os.mkdir(model_name)\n",
    "        \n",
    "filepath = model_name + 'model-{epoch:05d}-{loss:.5f}-{categorical_accuracy:.5f}-{val_loss:.5f}-{val_categorical_accuracy:.5f}.h5'\n",
    "\n",
    "checkpoint = ModelCheckpoint(filepath, monitor='val_loss', verbose=1, save_best_only=False, save_weights_only=False, mode='auto', period=1)\n",
    "\n",
    "# We have changed the Check point so that the best model gets saved. we are getting some NO SPACE ISSUE in NImbleBox, hence we have to do so\n",
    "LR = ReduceLROnPlateau(monitor='val_loss', factor=0.5, patience=3, cooldown=1, verbose=1)# write the REducelronplateau code here\n",
    "callbacks_list = [checkpoint, LR]\n",
    "\n",
    "if (num_train_sequences%batch_size) == 0:\n",
    "    steps_per_epoch = int(num_train_sequences/batch_size)\n",
    "else:\n",
    "    steps_per_epoch = (num_train_sequences//batch_size) + 1\n",
    "\n",
    "if (num_val_sequences%batch_size) == 0:\n",
    "    validation_steps = int(num_val_sequences/batch_size)\n",
    "else:\n",
    "    validation_steps = (num_val_sequences//batch_size) + 1\n",
    "    \n",
    "    \n",
    "num_epochs = 50\n",
    "model2.fit_generator(train_generator, steps_per_epoch=steps_per_epoch, epochs=num_epochs, verbose=1, \n",
    "                    callbacks=callbacks_list, validation_data=val_generator, \n",
    "                    validation_steps=validation_steps, class_weight=None, workers=1, initial_epoch=0)"
   ]
  },
  {
   "cell_type": "code",
   "execution_count": 16,
   "metadata": {},
   "outputs": [
    {
     "data": {
      "image/png": "[encoded data removed]",
      "text/plain": [
       "<Figure size 432x288 with 1 Axes>"
      ]
     },
     "metadata": {},
     "output_type": "display_data"
    },
    {
     "data": {
      "image/png": "[encoded data removed]",
      "text/plain": [
       "<Figure size 432x288 with 1 Axes>"
      ]
     },
     "metadata": {},
     "output_type": "display_data"
    }
   ],
   "source": [
    "model2_data = pd.DataFrame(model2.history.history)\n",
    "\n",
    "model2_data[['val_loss','loss']].plot(title='Loss', grid=True)\n",
    "model2_data[['val_categorical_accuracy','categorical_accuracy']].plot(title='Categorical Accuracy', grid=True)\n",
    "plt.show()\n"
   ]
  },
  {
   "cell_type": "markdown",
   "metadata": {},
   "source": [
    "Model with small filters size gives us better training and validation accuracy of 85% and 83% "
   ]
  },
  {
   "cell_type": "code",
   "execution_count": 25,
   "metadata": {},
   "outputs": [
    {
     "name": "stdout",
     "output_type": "stream",
     "text": [
      "_________________________________________________________________\n",
      "Layer (type)                 Output Shape              Param #   \n",
      "=================================================================\n",
      "conv3d_17 (Conv3D)           (None, 30, 120, 120, 8)   656       \n",
      "_________________________________________________________________\n",
      "activation_29 (Activation)   (None, 30, 120, 120, 8)   0         \n",
      "_________________________________________________________________\n",
      "max_pooling3d_17 (MaxPooling (None, 15, 60, 60, 8)     0         \n",
      "_________________________________________________________________\n",
      "conv3d_18 (Conv3D)           (None, 13, 58, 58, 16)    3472      \n",
      "_________________________________________________________________\n",
      "activation_30 (Activation)   (None, 13, 58, 58, 16)    0         \n",
      "_________________________________________________________________\n",
      "max_pooling3d_18 (MaxPooling (None, 6, 29, 29, 16)     0         \n",
      "_________________________________________________________________\n",
      "conv3d_19 (Conv3D)           (None, 6, 29, 29, 32)     13856     \n",
      "_________________________________________________________________\n",
      "activation_31 (Activation)   (None, 6, 29, 29, 32)     0         \n",
      "_________________________________________________________________\n",
      "max_pooling3d_19 (MaxPooling (None, 3, 14, 14, 32)     0         \n",
      "_________________________________________________________________\n",
      "conv3d_20 (Conv3D)           (None, 3, 14, 14, 32)     27680     \n",
      "_________________________________________________________________\n",
      "activation_32 (Activation)   (None, 3, 14, 14, 32)     0         \n",
      "_________________________________________________________________\n",
      "max_pooling3d_20 (MaxPooling (None, 1, 7, 7, 32)       0         \n",
      "_________________________________________________________________\n",
      "flatten_5 (Flatten)          (None, 1568)              0         \n",
      "_________________________________________________________________\n",
      "dense_13 (Dense)             (None, 256)               401664    \n",
      "_________________________________________________________________\n",
      "activation_33 (Activation)   (None, 256)               0         \n",
      "_________________________________________________________________\n",
      "dropout_10 (Dropout)         (None, 256)               0         \n",
      "_________________________________________________________________\n",
      "dense_14 (Dense)             (None, 128)               32896     \n",
      "_________________________________________________________________\n",
      "activation_34 (Activation)   (None, 128)               0         \n",
      "_________________________________________________________________\n",
      "dropout_11 (Dropout)         (None, 128)               0         \n",
      "_________________________________________________________________\n",
      "dense_15 (Dense)             (None, 5)                 645       \n",
      "_________________________________________________________________\n",
      "activation_35 (Activation)   (None, 5)                 0         \n",
      "=================================================================\n",
      "Total params: 480,869\n",
      "Trainable params: 480,869\n",
      "Non-trainable params: 0\n",
      "_________________________________________________________________\n",
      "None\n"
     ]
    }
   ],
   "source": [
    "# Let's try anothe model by changing the filter size a bit \n",
    "model4 = Sequential()\n",
    "\n",
    "# layer1\n",
    "model4.add(Conv3D(filters=8, kernel_size=(3,3,3), padding='same', input_shape=(30,120,120,3)))\n",
    "model4.add(Activation('relu'))\n",
    "model4.add(MaxPooling3D(pool_size=(2,2,2)))\n",
    "\n",
    "#layer2\n",
    "model4.add(Conv3D(filters=16, kernel_size=(3,3,3)))\n",
    "model4.add(Activation('relu'))\n",
    "model4.add(MaxPooling3D(pool_size=(2,2,2)))\n",
    "\n",
    "#layer3\n",
    "model4.add(Conv3D(filters=32, kernel_size=(3,3,3), padding='same'))\n",
    "model4.add(Activation('relu'))\n",
    "model4.add(MaxPooling3D(pool_size=(2,2,2)))\n",
    "\n",
    "#Layer4\n",
    "model4.add(Conv3D(filters=32, kernel_size=(3,3,3), padding='same'))\n",
    "model4.add(Activation('relu'))\n",
    "model4.add(MaxPooling3D(pool_size=(2,2,2)))\n",
    "\n",
    "\n",
    "model4.add(Flatten())\n",
    "model4.add(Dense(256))\n",
    "model4.add(Activation('relu'))\n",
    "model4.add(Dropout(0.5))\n",
    "model4.add(Dense(128))\n",
    "model4.add(Activation('relu'))\n",
    "model4.add(Dropout(0.5))\n",
    "model4.add(Dense(5))\n",
    "model4.add(Activation('softmax'))\n",
    "\n",
    "optimiser = 'adam'\n",
    "model4.compile(optimizer=optimiser, loss='categorical_crossentropy', metrics=['categorical_accuracy'])\n",
    "print (model4.summary())"
   ]
  },
  {
   "cell_type": "code",
   "execution_count": 26,
   "metadata": {},
   "outputs": [
    {
     "name": "stdout",
     "output_type": "stream",
     "text": [
      "Source path =  ./Project_data/val ; batch size = 50\n",
      "Source path =  ./Project_data/train ; batch size = 50\n",
      "Epoch 1/35\n"
     ]
    },
    {
     "name": "stderr",
     "output_type": "stream",
     "text": [
      "/mnt/disks/user/anaconda3/lib/python3.6/site-packages/ipykernel_launcher.py:15: DeprecationWarning: `imread` is deprecated!\n",
      "`imread` is deprecated in SciPy 1.0.0, and will be removed in 1.2.0.\n",
      "Use ``imageio.imread`` instead.\n",
      "  from ipykernel import kernelapp as app\n",
      "/mnt/disks/user/anaconda3/lib/python3.6/site-packages/ipykernel_launcher.py:19: DeprecationWarning: `imresize` is deprecated!\n",
      "`imresize` is deprecated in SciPy 1.0.0, and will be removed in 1.2.0.\n",
      "Use ``skimage.transform.resize`` instead.\n"
     ]
    },
    {
     "name": "stdout",
     "output_type": "stream",
     "text": [
      "12/14 [========================>.....] - ETA: 13s - loss: 1.6070 - categorical_accuracy: 0.2200"
     ]
    },
    {
     "name": "stderr",
     "output_type": "stream",
     "text": [
      "/mnt/disks/user/anaconda3/lib/python3.6/site-packages/ipykernel_launcher.py:38: DeprecationWarning: `imread` is deprecated!\n",
      "`imread` is deprecated in SciPy 1.0.0, and will be removed in 1.2.0.\n",
      "Use ``imageio.imread`` instead.\n",
      "/mnt/disks/user/anaconda3/lib/python3.6/site-packages/ipykernel_launcher.py:42: DeprecationWarning: `imresize` is deprecated!\n",
      "`imresize` is deprecated in SciPy 1.0.0, and will be removed in 1.2.0.\n",
      "Use ``skimage.transform.resize`` instead.\n"
     ]
    },
    {
     "name": "stdout",
     "output_type": "stream",
     "text": [
      "14/14 [==============================] - 93s 7s/step - loss: 1.6047 - categorical_accuracy: 0.2155 - val_loss: 1.5639 - val_categorical_accuracy: 0.2400\n",
      "\n",
      "Epoch 00001: saving model to model_init_2020-04-1115_43_38.721918/model-00001-1.60462-0.21870-1.56389-0.24000.h5\n",
      "Epoch 2/35\n",
      "14/14 [==============================] - 23s 2s/step - loss: 1.5703 - categorical_accuracy: 0.2418 - val_loss: 1.5087 - val_categorical_accuracy: 0.2500\n",
      "\n",
      "Epoch 00002: saving model to model_init_2020-04-1115_43_38.721918/model-00002-1.57029-0.24176-1.50873-0.25000.h5\n",
      "Epoch 3/35\n",
      "14/14 [==============================] - 24s 2s/step - loss: 1.5768 - categorical_accuracy: 0.2692 - val_loss: 1.5525 - val_categorical_accuracy: 0.4400\n",
      "\n",
      "Epoch 00003: saving model to model_init_2020-04-1115_43_38.721918/model-00003-1.57683-0.26923-1.55248-0.44000.h5\n",
      "Epoch 4/35\n",
      "14/14 [==============================] - 24s 2s/step - loss: 1.5182 - categorical_accuracy: 0.3187 - val_loss: 1.4458 - val_categorical_accuracy: 0.4000\n",
      "\n",
      "Epoch 00004: saving model to model_init_2020-04-1115_43_38.721918/model-00004-1.51815-0.31868-1.44584-0.40000.h5\n",
      "Epoch 5/35\n",
      "14/14 [==============================] - 25s 2s/step - loss: 1.5271 - categorical_accuracy: 0.3242 - val_loss: 1.3939 - val_categorical_accuracy: 0.3100\n",
      "\n",
      "Epoch 00005: saving model to model_init_2020-04-1115_43_38.721918/model-00005-1.52706-0.32418-1.39393-0.31000.h5\n",
      "Epoch 6/35\n",
      "14/14 [==============================] - 25s 2s/step - loss: 1.5260 - categorical_accuracy: 0.2967 - val_loss: 1.3583 - val_categorical_accuracy: 0.3600\n",
      "\n",
      "Epoch 00006: saving model to model_init_2020-04-1115_43_38.721918/model-00006-1.52596-0.29670-1.35830-0.36000.h5\n",
      "Epoch 7/35\n",
      "14/14 [==============================] - 24s 2s/step - loss: 1.4183 - categorical_accuracy: 0.3462 - val_loss: 1.2799 - val_categorical_accuracy: 0.5700\n",
      "\n",
      "Epoch 00007: saving model to model_init_2020-04-1115_43_38.721918/model-00007-1.41829-0.34615-1.27992-0.57000.h5\n",
      "Epoch 8/35\n",
      "14/14 [==============================] - 24s 2s/step - loss: 1.4081 - categorical_accuracy: 0.3791 - val_loss: 1.2198 - val_categorical_accuracy: 0.5000\n",
      "\n",
      "Epoch 00008: saving model to model_init_2020-04-1115_43_38.721918/model-00008-1.40809-0.37912-1.21977-0.50000.h5\n",
      "Epoch 9/35\n",
      "14/14 [==============================] - 23s 2s/step - loss: 1.2817 - categorical_accuracy: 0.4286 - val_loss: 1.2830 - val_categorical_accuracy: 0.4800\n",
      "\n",
      "Epoch 00009: saving model to model_init_2020-04-1115_43_38.721918/model-00009-1.28174-0.42857-1.28303-0.48000.h5\n",
      "Epoch 10/35\n",
      "14/14 [==============================] - 25s 2s/step - loss: 1.4027 - categorical_accuracy: 0.3407 - val_loss: 1.3517 - val_categorical_accuracy: 0.3200\n",
      "\n",
      "Epoch 00010: saving model to model_init_2020-04-1115_43_38.721918/model-00010-1.40272-0.34066-1.35168-0.32000.h5\n",
      "Epoch 11/35\n",
      "14/14 [==============================] - 26s 2s/step - loss: 1.2858 - categorical_accuracy: 0.3626 - val_loss: 1.1727 - val_categorical_accuracy: 0.5300\n",
      "\n",
      "Epoch 00011: saving model to model_init_2020-04-1115_43_38.721918/model-00011-1.28578-0.36264-1.17270-0.53000.h5\n",
      "Epoch 12/35\n",
      "14/14 [==============================] - 24s 2s/step - loss: 1.2219 - categorical_accuracy: 0.4341 - val_loss: 1.1735 - val_categorical_accuracy: 0.3700\n",
      "\n",
      "Epoch 00012: saving model to model_init_2020-04-1115_43_38.721918/model-00012-1.22188-0.43407-1.17352-0.37000.h5\n",
      "Epoch 13/35\n",
      "14/14 [==============================] - 25s 2s/step - loss: 1.2051 - categorical_accuracy: 0.4451 - val_loss: 1.0861 - val_categorical_accuracy: 0.4300\n",
      "\n",
      "Epoch 00013: saving model to model_init_2020-04-1115_43_38.721918/model-00013-1.20511-0.44505-1.08613-0.43000.h5\n",
      "Epoch 14/35\n",
      "14/14 [==============================] - 25s 2s/step - loss: 1.2073 - categorical_accuracy: 0.4670 - val_loss: 1.1594 - val_categorical_accuracy: 0.4500\n",
      "\n",
      "Epoch 00014: saving model to model_init_2020-04-1115_43_38.721918/model-00014-1.20730-0.46703-1.15938-0.45000.h5\n",
      "Epoch 15/35\n",
      "14/14 [==============================] - 24s 2s/step - loss: 1.1882 - categorical_accuracy: 0.4945 - val_loss: 1.1841 - val_categorical_accuracy: 0.4500\n",
      "\n",
      "Epoch 00015: saving model to model_init_2020-04-1115_43_38.721918/model-00015-1.18822-0.49451-1.18409-0.45000.h5\n",
      "Epoch 16/35\n",
      "14/14 [==============================] - 24s 2s/step - loss: 1.1659 - categorical_accuracy: 0.4725 - val_loss: 1.0309 - val_categorical_accuracy: 0.5200\n",
      "\n",
      "Epoch 00016: saving model to model_init_2020-04-1115_43_38.721918/model-00016-1.16595-0.47253-1.03092-0.52000.h5\n",
      "Epoch 17/35\n",
      "14/14 [==============================] - 25s 2s/step - loss: 1.1423 - categorical_accuracy: 0.4725 - val_loss: 1.0916 - val_categorical_accuracy: 0.5000\n",
      "\n",
      "Epoch 00017: saving model to model_init_2020-04-1115_43_38.721918/model-00017-1.14235-0.47253-1.09159-0.50000.h5\n",
      "Epoch 18/35\n",
      "14/14 [==============================] - 25s 2s/step - loss: 1.0776 - categorical_accuracy: 0.4670 - val_loss: 1.0354 - val_categorical_accuracy: 0.5800\n",
      "\n",
      "Epoch 00018: saving model to model_init_2020-04-1115_43_38.721918/model-00018-1.07758-0.46703-1.03543-0.58000.h5\n",
      "Epoch 19/35\n",
      "14/14 [==============================] - 25s 2s/step - loss: 1.1497 - categorical_accuracy: 0.4451 - val_loss: 0.9909 - val_categorical_accuracy: 0.4900\n",
      "\n",
      "Epoch 00019: saving model to model_init_2020-04-1115_43_38.721918/model-00019-1.14971-0.44505-0.99085-0.49000.h5\n",
      "Epoch 20/35\n",
      "14/14 [==============================] - 23s 2s/step - loss: 1.0186 - categorical_accuracy: 0.5385 - val_loss: 0.9589 - val_categorical_accuracy: 0.6100\n",
      "\n",
      "Epoch 00020: saving model to model_init_2020-04-1115_43_38.721918/model-00020-1.01856-0.53846-0.95893-0.61000.h5\n",
      "Epoch 21/35\n",
      "14/14 [==============================] - 24s 2s/step - loss: 1.0302 - categorical_accuracy: 0.5385 - val_loss: 0.9779 - val_categorical_accuracy: 0.5900\n",
      "\n",
      "Epoch 00021: saving model to model_init_2020-04-1115_43_38.721918/model-00021-1.03025-0.53846-0.97787-0.59000.h5\n",
      "Epoch 22/35\n",
      "14/14 [==============================] - 25s 2s/step - loss: 0.9952 - categorical_accuracy: 0.5330 - val_loss: 0.9857 - val_categorical_accuracy: 0.5600\n",
      "\n",
      "Epoch 00022: saving model to model_init_2020-04-1115_43_38.721918/model-00022-0.99519-0.53297-0.98572-0.56000.h5\n",
      "Epoch 23/35\n",
      "14/14 [==============================] - 25s 2s/step - loss: 1.0406 - categorical_accuracy: 0.5330 - val_loss: 0.9537 - val_categorical_accuracy: 0.6000\n",
      "\n",
      "Epoch 00023: saving model to model_init_2020-04-1115_43_38.721918/model-00023-1.04057-0.53297-0.95367-0.60000.h5\n",
      "Epoch 24/35\n",
      "14/14 [==============================] - 24s 2s/step - loss: 1.0160 - categorical_accuracy: 0.5659 - val_loss: 0.9341 - val_categorical_accuracy: 0.5900\n",
      "\n",
      "Epoch 00024: saving model to model_init_2020-04-1115_43_38.721918/model-00024-1.01603-0.56593-0.93411-0.59000.h5\n",
      "Epoch 25/35\n",
      "14/14 [==============================] - 25s 2s/step - loss: 0.8330 - categorical_accuracy: 0.6429 - val_loss: 0.9823 - val_categorical_accuracy: 0.5500\n",
      "\n",
      "Epoch 00025: saving model to model_init_2020-04-1115_43_38.721918/model-00025-0.83302-0.64286-0.98234-0.55000.h5\n",
      "Epoch 26/35\n",
      "14/14 [==============================] - 25s 2s/step - loss: 1.0181 - categorical_accuracy: 0.5385 - val_loss: 0.8743 - val_categorical_accuracy: 0.6300\n",
      "\n",
      "Epoch 00026: saving model to model_init_2020-04-1115_43_38.721918/model-00026-1.01809-0.53846-0.87433-0.63000.h5\n",
      "Epoch 27/35\n",
      "14/14 [==============================] - 24s 2s/step - loss: 0.8623 - categorical_accuracy: 0.6264 - val_loss: 0.8374 - val_categorical_accuracy: 0.6200\n",
      "\n",
      "Epoch 00027: saving model to model_init_2020-04-1115_43_38.721918/model-00027-0.86225-0.62637-0.83737-0.62000.h5\n",
      "Epoch 28/35\n",
      "14/14 [==============================] - 24s 2s/step - loss: 0.7762 - categorical_accuracy: 0.6484 - val_loss: 0.8703 - val_categorical_accuracy: 0.6600\n",
      "\n",
      "Epoch 00028: saving model to model_init_2020-04-1115_43_38.721918/model-00028-0.77622-0.64835-0.87031-0.66000.h5\n",
      "Epoch 29/35\n",
      "14/14 [==============================] - 25s 2s/step - loss: 0.8911 - categorical_accuracy: 0.6154 - val_loss: 0.9956 - val_categorical_accuracy: 0.6300\n",
      "\n",
      "Epoch 00029: saving model to model_init_2020-04-1115_43_38.721918/model-00029-0.89115-0.61538-0.99557-0.63000.h5\n",
      "Epoch 30/35\n",
      "14/14 [==============================] - 25s 2s/step - loss: 0.9274 - categorical_accuracy: 0.5934 - val_loss: 0.9407 - val_categorical_accuracy: 0.5500\n"
     ]
    },
    {
     "name": "stdout",
     "output_type": "stream",
     "text": [
      "\n",
      "Epoch 00030: saving model to model_init_2020-04-1115_43_38.721918/model-00030-0.92744-0.59341-0.94072-0.55000.h5\n",
      "\n",
      "Epoch 00030: ReduceLROnPlateau reducing learning rate to 0.0005000000237487257.\n",
      "Epoch 31/35\n",
      "14/14 [==============================] - 23s 2s/step - loss: 0.8256 - categorical_accuracy: 0.6209 - val_loss: 0.7848 - val_categorical_accuracy: 0.7100\n",
      "\n",
      "Epoch 00031: saving model to model_init_2020-04-1115_43_38.721918/model-00031-0.82562-0.62088-0.78480-0.71000.h5\n",
      "Epoch 32/35\n",
      "14/14 [==============================] - 24s 2s/step - loss: 0.6331 - categorical_accuracy: 0.7637 - val_loss: 0.7475 - val_categorical_accuracy: 0.6500\n",
      "\n",
      "Epoch 00032: saving model to model_init_2020-04-1115_43_38.721918/model-00032-0.63307-0.76374-0.74747-0.65000.h5\n",
      "Epoch 33/35\n",
      "14/14 [==============================] - 26s 2s/step - loss: 0.6865 - categorical_accuracy: 0.7033 - val_loss: 0.7457 - val_categorical_accuracy: 0.7000\n",
      "\n",
      "Epoch 00033: saving model to model_init_2020-04-1115_43_38.721918/model-00033-0.68655-0.70330-0.74570-0.70000.h5\n",
      "Epoch 34/35\n",
      "14/14 [==============================] - 24s 2s/step - loss: 0.6703 - categorical_accuracy: 0.7582 - val_loss: 0.7182 - val_categorical_accuracy: 0.7100\n",
      "\n",
      "Epoch 00034: saving model to model_init_2020-04-1115_43_38.721918/model-00034-0.67031-0.75824-0.71820-0.71000.h5\n",
      "Epoch 35/35\n",
      "14/14 [==============================] - 24s 2s/step - loss: 0.5393 - categorical_accuracy: 0.8187 - val_loss: 0.6932 - val_categorical_accuracy: 0.7200\n",
      "\n",
      "Epoch 00035: saving model to model_init_2020-04-1115_43_38.721918/model-00035-0.53935-0.81868-0.69321-0.72000.h5\n"
     ]
    },
    {
     "data": {
      "text/plain": [
       "<keras.callbacks.History at 0x7f4b32eacb70>"
      ]
     },
     "execution_count": 26,
     "metadata": {},
     "output_type": "execute_result"
    }
   ],
   "source": [
    "batch_size = 50\n",
    "train_generator = generator(train_path, train_doc, batch_size)\n",
    "val_generator = generator(val_path, val_doc, batch_size)\n",
    "\n",
    "model_name = 'model_init' + '_' + str(curr_dt_time).replace(' ','').replace(':','_') + '/'\n",
    "    \n",
    "if not os.path.exists(model_name):\n",
    "    os.mkdir(model_name)\n",
    "        \n",
    "filepath = model_name + 'model-{epoch:05d}-{loss:.5f}-{categorical_accuracy:.5f}-{val_loss:.5f}-{val_categorical_accuracy:.5f}.h5'\n",
    "\n",
    "checkpoint = ModelCheckpoint(filepath, monitor='val_loss', verbose=1, save_best_only=False, save_weights_only=False, mode='auto', period=1)\n",
    "\n",
    "# We have changed the Check point so that the best model gets saved. we are getting some NO SPACE ISSUE in NImbleBox, hence we have to do so\n",
    "LR = ReduceLROnPlateau(monitor='val_loss', factor=0.5, patience=3, cooldown=1, verbose=1)# write the REducelronplateau code here\n",
    "callbacks_list = [checkpoint, LR]\n",
    "\n",
    "if (num_train_sequences%batch_size) == 0:\n",
    "    steps_per_epoch = int(num_train_sequences/batch_size)\n",
    "else:\n",
    "    steps_per_epoch = (num_train_sequences//batch_size) + 1\n",
    "\n",
    "if (num_val_sequences%batch_size) == 0:\n",
    "    validation_steps = int(num_val_sequences/batch_size)\n",
    "else:\n",
    "    validation_steps = (num_val_sequences//batch_size) + 1\n",
    "    \n",
    "    \n",
    "num_epochs = 35\n",
    "model4.fit_generator(train_generator, steps_per_epoch=steps_per_epoch, epochs=num_epochs, verbose=1, \n",
    "                    callbacks=callbacks_list, validation_data=val_generator, \n",
    "                    validation_steps=validation_steps, class_weight=None, workers=1, initial_epoch=0)"
   ]
  },
  {
   "cell_type": "code",
   "execution_count": 27,
   "metadata": {},
   "outputs": [
    {
     "data": {
      "image/png": "[encoded data removed]",
      "text/plain": [
       "<Figure size 432x288 with 1 Axes>"
      ]
     },
     "metadata": {},
     "output_type": "display_data"
    },
    {
     "data": {
      "image/png": "[encoded data removed]",
      "text/plain": [
       "<Figure size 432x288 with 1 Axes>"
      ]
     },
     "metadata": {},
     "output_type": "display_data"
    }
   ],
   "source": [
    "model4_data = pd.DataFrame(model4.history.history)\n",
    "\n",
    "model4_data[['val_loss','loss']].plot(title='Loss', grid=True)\n",
    "model4_data[['val_categorical_accuracy','categorical_accuracy']].plot(title='Categorical Accuracy', grid=True)\n",
    "plt.show()"
   ]
  },
  {
   "cell_type": "code",
   "execution_count": 36,
   "metadata": {},
   "outputs": [
    {
     "name": "stderr",
     "output_type": "stream",
     "text": [
      "/mnt/disks/user/anaconda3/lib/python3.6/site-packages/keras_applications/resnet50.py:263: UserWarning: The output shape of `ResNet50(include_top=False)` has been changed since Keras 2.2.0.\n",
      "  warnings.warn('The output shape of `ResNet50(include_top=False)` '\n"
     ]
    },
    {
     "name": "stdout",
     "output_type": "stream",
     "text": [
      "_________________________________________________________________\n",
      "Layer (type)                 Output Shape              Param #   \n",
      "=================================================================\n",
      "time_distributed_10 (TimeDis (None, 30, 4, 4, 2048)    23587712  \n",
      "_________________________________________________________________\n",
      "time_distributed_11 (TimeDis (None, 30, 4, 4, 2048)    8192      \n",
      "_________________________________________________________________\n",
      "time_distributed_12 (TimeDis (None, 30, 2, 2, 2048)    0         \n",
      "_________________________________________________________________\n",
      "time_distributed_13 (TimeDis (None, 30, 8192)          0         \n",
      "_________________________________________________________________\n",
      "gru_2 (GRU)                  (None, 128)               3195264   \n",
      "_________________________________________________________________\n",
      "dropout_16 (Dropout)         (None, 128)               0         \n",
      "_________________________________________________________________\n",
      "dense_20 (Dense)             (None, 512)               66048     \n",
      "_________________________________________________________________\n",
      "dropout_17 (Dropout)         (None, 512)               0         \n",
      "_________________________________________________________________\n",
      "dense_21 (Dense)             (None, 256)               131328    \n",
      "_________________________________________________________________\n",
      "dropout_18 (Dropout)         (None, 256)               0         \n",
      "_________________________________________________________________\n",
      "dense_22 (Dense)             (None, 5)                 1285      \n",
      "=================================================================\n",
      "Total params: 26,989,829\n",
      "Trainable params: 26,932,613\n",
      "Non-trainable params: 57,216\n",
      "_________________________________________________________________\n",
      "None\n"
     ]
    }
   ],
   "source": [
    "# CNN-RNN experiments \n",
    "\n",
    "# Transfer learning cnn-rnn model using LSTM and resnet\n",
    "# We will import mobilenet model from the keras library \n",
    "resnet_transfer = ResNet50(weights='imagenet', include_top=False)\n",
    "\n",
    "model_res = Sequential()\n",
    "model_res.add(TimeDistributed(resnet_transfer,input_shape=(30,120,120,3)))\n",
    "        \n",
    "model = Model()  \n",
    "for layer in model.layers:\n",
    "    layer.trainable = False\n",
    "        \n",
    "# We would not add any extra convolution layer on the existing mobilenet model        \n",
    "model_res.add(TimeDistributed(BatchNormalization()))\n",
    "model_res.add(TimeDistributed(MaxPooling2D((2, 2))))\n",
    "model_res.add(TimeDistributed(Flatten()))\n",
    "\n",
    "model_res.add(GRU(128))\n",
    "model_res.add(Dropout(0.25))\n",
    "        \n",
    "model_res.add(Dense(512,activation='relu'))\n",
    "model_res.add(Dropout(0.5))\n",
    "\n",
    "model_res.add(Dense(256, activation='relu'))\n",
    "model_res.add(Dropout(0.5))\n",
    "\n",
    "        \n",
    "model_res.add(Dense(5, activation='softmax'))\n",
    "        \n",
    "        \n",
    "optimiser = 'adam'\n",
    "model_res.compile(optimizer=optimiser, loss='categorical_crossentropy', metrics=['categorical_accuracy'])\n",
    "\n",
    "print(model_res.summary())"
   ]
  },
  {
   "cell_type": "markdown",
   "metadata": {},
   "source": [
    "For **CNN + RNN** experimentation, we are decreasing the number of frames for the modelling as 30 frames are giving us resource exhaustion error "
   ]
  },
  {
   "cell_type": "code",
   "execution_count": 38,
   "metadata": {},
   "outputs": [],
   "source": [
    "frames_Weneed = 16\n",
    "\n",
    "def generator(source_path, folder_list, batch_size):\n",
    "    print( 'Source path = ', source_path, '; batch size =', batch_size)\n",
    "    img_idx = [idx for idx in range(0, frames_Weneed)] #create a list of image numbers you want to use for a particular video\n",
    "\n",
    "    while True:\n",
    "        t = np.random.permutation(folder_list)\n",
    "        num_batches = len(t)//batch_size # calculate the number of batches\n",
    "        for batch in range(num_batches): # we iterate over the number of batches\n",
    "            batch_data = np.zeros((batch_size,len(img_idx),120,120,3)) # x is the number of images you use for each video, (y,z) is the final size of the input images and 3 is the number of channels RGB\n",
    "            batch_data\n",
    "            batch_labels = np.zeros((batch_size,5)) # batch_labels is the one hot representation of the output\n",
    "            for folder in range(batch_size): # iterate over the batch_size\n",
    "                imgs = os.listdir(source_path+'/'+ t[folder + (batch*batch_size)].split(';')[0]) # read all the images in the folder\n",
    "                for idx,item in enumerate(img_idx): #  Iterate iver the frames/images of a folder to read them in\n",
    "                    image = imread(source_path+'/'+ t[folder + (batch*batch_size)].strip().split(';')[0]+'/'+imgs[item]).astype(np.float32)\n",
    "                   \n",
    "                    #crop the images and resize them. Note that the images are of 2 different shape\n",
    "                    #and the conv3D will throw error if the inputs in a batch have different shapes\n",
    "                    image = imresize(image,(120,120))\n",
    "                    image = (image - np.min(image)) / (np.max(image) - np.min(image))\n",
    "                    batch_data[folder,idx,:,:,0] = image[:,:,0] #normalise and feed in the image\n",
    "                    batch_data[folder,idx,:,:,1] = image[:,:,1] #normalise and feed in the image\n",
    "                    batch_data[folder,idx,:,:,2] = image[:,:,2] #normalise and feed in the image\n",
    "                   \n",
    "                batch_labels[folder, int(t[folder + (batch*batch_size)].strip().split(';')[2])] = 1\n",
    "            yield batch_data, batch_labels #you yield the batch_data and the batch_labels, remember what does yield do\n",
    "\n",
    "       \n",
    "        # write the code for the remaining data points which are left after full batches\n",
    "        if len(folder_list) != batch_size*num_batches:\n",
    "            batch_size=len(folder_list) - batch_size*num_batches\n",
    "            batch_data = np.zeros((batch_size,len(img_idx),120,120,3)) # x is the number of images you use for each video, (y,z) is the final size of the input images and 3 is the number of channels RGB\n",
    "            batch_data\n",
    "            batch_labels = np.zeros((batch_size,5)) # batch_labels is the one hot representation of the output\n",
    "            for folder in range(batch_size): # iterate over the batch_size\n",
    "                imgs = os.listdir(source_path+'/'+ t[folder + (batch*batch_size)].split(';')[0]) # read all the images in the folder\n",
    "                for idx,item in enumerate(img_idx): #  Iterate iver the frames/images of a folder to read them in\n",
    "                    image = imread(source_path+'/'+ t[folder + (batch*batch_size)].strip().split(';')[0]+'/'+imgs[item]).astype(np.float32)\n",
    "                   \n",
    "                    #crop the images and resize them. Note that the images are of 2 different shape\n",
    "                    #and the conv3D will throw error if the inputs in a batch have different shapes\n",
    "                    image = imresize(image,(120,120))\n",
    "                    image = (image - np.min(image)) / (np.max(image) - np.min(image))\n",
    "                    batch_data[folder,idx,:,:,0] = image[:,:,0] #normalise and feed in the image\n",
    "                    batch_data[folder,idx,:,:,1] = image[:,:,1] #normalise and feed in the image\n",
    "                    batch_data[folder,idx,:,:,2] = image[:,:,2] #normalise and feed in the image\n",
    "                   \n",
    "                batch_labels[folder, int(t[folder + (batch*batch_size)].strip().split(';')[2])] = 1\n",
    "            yield batch_data, batch_labels #you yield the batch_data and the batch_labels, remember what does yield do"
   ]
  },
  {
   "cell_type": "markdown",
   "metadata": {},
   "source": [
    "Let's built a custom CNN-RNNm model "
   ]
  },
  {
   "cell_type": "code",
   "execution_count": 41,
   "metadata": {},
   "outputs": [
    {
     "name": "stdout",
     "output_type": "stream",
     "text": [
      "_________________________________________________________________\n",
      "Layer (type)                 Output Shape              Param #   \n",
      "=================================================================\n",
      "time_distributed_32 (TimeDis (None, 16, 60, 60, 8)     224       \n",
      "_________________________________________________________________\n",
      "time_distributed_33 (TimeDis (None, 16, 60, 60, 16)    1168      \n",
      "_________________________________________________________________\n",
      "time_distributed_34 (TimeDis (None, 16, 30, 30, 16)    0         \n",
      "_________________________________________________________________\n",
      "time_distributed_35 (TimeDis (None, 16, 30, 30, 32)    4640      \n",
      "_________________________________________________________________\n",
      "time_distributed_36 (TimeDis (None, 16, 15, 15, 32)    0         \n",
      "_________________________________________________________________\n",
      "time_distributed_37 (TimeDis (None, 16, 15, 15, 64)    8256      \n",
      "_________________________________________________________________\n",
      "time_distributed_38 (TimeDis (None, 16, 7, 7, 64)      0         \n",
      "_________________________________________________________________\n",
      "time_distributed_39 (TimeDis (None, 16, 7, 7, 64)      256       \n",
      "_________________________________________________________________\n",
      "dropout_25 (Dropout)         (None, 16, 7, 7, 64)      0         \n",
      "_________________________________________________________________\n",
      "time_distributed_40 (TimeDis (None, 16, 3136)          0         \n",
      "_________________________________________________________________\n",
      "dense_28 (Dense)             (None, 16, 256)           803072    \n",
      "_________________________________________________________________\n",
      "dropout_26 (Dropout)         (None, 16, 256)           0         \n",
      "_________________________________________________________________\n",
      "dense_29 (Dense)             (None, 16, 128)           32896     \n",
      "_________________________________________________________________\n",
      "dropout_27 (Dropout)         (None, 16, 128)           0         \n",
      "_________________________________________________________________\n",
      "gru_6 (GRU)                  (None, 128)               98688     \n",
      "_________________________________________________________________\n",
      "dense_30 (Dense)             (None, 5)                 645       \n",
      "=================================================================\n",
      "Total params: 949,845\n",
      "Trainable params: 949,717\n",
      "Non-trainable params: 128\n",
      "_________________________________________________________________\n",
      "None\n"
     ]
    }
   ],
   "source": [
    "model_cnn_rnn = Sequential()\n",
    "\n",
    "\n",
    "model_cnn_rnn.add(TimeDistributed(Conv2D(8, (3, 3), strides=(2, 2),activation='relu', padding='same'), input_shape=(16,120,120,3)))\n",
    "\n",
    "\n",
    "model_cnn_rnn.add(TimeDistributed(Conv2D(16, (3,3),padding='same', activation='relu')))\n",
    "\n",
    "model_cnn_rnn.add(TimeDistributed(MaxPooling2D((2, 2), strides=(2, 2))))\n",
    "\n",
    "model_cnn_rnn.add(TimeDistributed(Conv2D(32, (3,3),padding='same', activation='relu')))\n",
    "\n",
    "model_cnn_rnn.add(TimeDistributed(MaxPooling2D((2, 2), strides=(2, 2))))\n",
    "\n",
    "model_cnn_rnn.add(TimeDistributed(Conv2D(64, (2,2),padding='same', activation='relu')))\n",
    "\n",
    "model_cnn_rnn.add(TimeDistributed(MaxPooling2D((2, 2), strides=(2, 2))))\n",
    "\n",
    "\n",
    "model_cnn_rnn.add(TimeDistributed(BatchNormalization()))\n",
    "model_cnn_rnn.add(Dropout(0.25))\n",
    "\n",
    "model_cnn_rnn.add(TimeDistributed(Flatten()))\n",
    "\n",
    "model_cnn_rnn.add(Dense(256, activation='relu'))\n",
    "model_cnn_rnn.add(Dropout(0.5))\n",
    "model_cnn_rnn.add(Dense(128, activation='relu'))\n",
    "model_cnn_rnn.add(Dropout(0.5))\n",
    "\n",
    "\n",
    "model_cnn_rnn.add(GRU(128, return_sequences=False))\n",
    "model_cnn_rnn.add(Dense(5, activation='softmax'))\n",
    "\n",
    "optimiser = 'adam'\n",
    "model_cnn_rnn.compile(optimizer=optimiser, loss='categorical_crossentropy', metrics=['categorical_accuracy'])\n",
    "print(model_cnn_rnn.summary())"
   ]
  },
  {
   "cell_type": "code",
   "execution_count": 42,
   "metadata": {},
   "outputs": [
    {
     "name": "stdout",
     "output_type": "stream",
     "text": [
      "Source path = Source path =  ./Project_data/train ; batch size = 15\n",
      "Epoch 1/25\n",
      " ./Project_data/val ; batch size = 15\n"
     ]
    },
    {
     "name": "stderr",
     "output_type": "stream",
     "text": [
      "/mnt/disks/user/anaconda3/lib/python3.6/site-packages/ipykernel_launcher.py:17: DeprecationWarning: `imread` is deprecated!\n",
      "`imread` is deprecated in SciPy 1.0.0, and will be removed in 1.2.0.\n",
      "Use ``imageio.imread`` instead.\n",
      "/mnt/disks/user/anaconda3/lib/python3.6/site-packages/ipykernel_launcher.py:21: DeprecationWarning: `imresize` is deprecated!\n",
      "`imresize` is deprecated in SciPy 1.0.0, and will be removed in 1.2.0.\n",
      "Use ``skimage.transform.resize`` instead.\n",
      "/mnt/disks/user/anaconda3/lib/python3.6/site-packages/ipykernel_launcher.py:40: DeprecationWarning: `imread` is deprecated!\n",
      "`imread` is deprecated in SciPy 1.0.0, and will be removed in 1.2.0.\n",
      "Use ``imageio.imread`` instead.\n",
      "/mnt/disks/user/anaconda3/lib/python3.6/site-packages/ipykernel_launcher.py:44: DeprecationWarning: `imresize` is deprecated!\n",
      "`imresize` is deprecated in SciPy 1.0.0, and will be removed in 1.2.0.\n",
      "Use ``skimage.transform.resize`` instead.\n"
     ]
    },
    {
     "name": "stdout",
     "output_type": "stream",
     "text": [
      "45/45 [==============================] - 49s 1s/step - loss: 1.3375 - categorical_accuracy: 0.4221 - val_loss: 3.6464 - val_categorical_accuracy: 0.2300\n",
      "\n",
      "Epoch 00001: saving model to model_init_2020-04-1115_43_38.721918/model-00001-1.34905-0.41780-3.64642-0.23000.h5\n",
      "Epoch 2/25\n",
      "45/45 [==============================] - 8s 173ms/step - loss: 1.1644 - categorical_accuracy: 0.5407 - val_loss: 3.1367 - val_categorical_accuracy: 0.2571\n",
      "\n",
      "Epoch 00002: saving model to model_init_2020-04-1115_43_38.721918/model-00002-1.16443-0.54074-3.13669-0.25714.h5\n",
      "Epoch 3/25\n",
      "45/45 [==============================] - 10s 220ms/step - loss: 1.1290 - categorical_accuracy: 0.5185 - val_loss: 3.3028 - val_categorical_accuracy: 0.3429\n",
      "\n",
      "Epoch 00003: saving model to model_init_2020-04-1115_43_38.721918/model-00003-1.12897-0.51852-3.30283-0.34286.h5\n",
      "Epoch 4/25\n",
      "45/45 [==============================] - 10s 217ms/step - loss: 1.4743 - categorical_accuracy: 0.4296 - val_loss: 2.8764 - val_categorical_accuracy: 0.3000\n",
      "\n",
      "Epoch 00004: saving model to model_init_2020-04-1115_43_38.721918/model-00004-1.47433-0.42963-2.87645-0.30000.h5\n",
      "Epoch 5/25\n",
      "45/45 [==============================] - 10s 225ms/step - loss: 1.2876 - categorical_accuracy: 0.4444 - val_loss: 1.8029 - val_categorical_accuracy: 0.3714\n",
      "\n",
      "Epoch 00005: saving model to model_init_2020-04-1115_43_38.721918/model-00005-1.28758-0.44444-1.80289-0.37143.h5\n",
      "Epoch 6/25\n",
      "45/45 [==============================] - 10s 227ms/step - loss: 1.3018 - categorical_accuracy: 0.4963 - val_loss: 2.0173 - val_categorical_accuracy: 0.2571\n",
      "\n",
      "Epoch 00006: saving model to model_init_2020-04-1115_43_38.721918/model-00006-1.30178-0.49630-2.01734-0.25714.h5\n",
      "Epoch 7/25\n",
      "45/45 [==============================] - 10s 225ms/step - loss: 1.3321 - categorical_accuracy: 0.4370 - val_loss: 1.0701 - val_categorical_accuracy: 0.6143\n",
      "\n",
      "Epoch 00007: saving model to model_init_2020-04-1115_43_38.721918/model-00007-1.33208-0.43704-1.07013-0.61429.h5\n",
      "Epoch 8/25\n",
      "45/45 [==============================] - 10s 227ms/step - loss: 0.9841 - categorical_accuracy: 0.6370 - val_loss: 1.5376 - val_categorical_accuracy: 0.4429\n",
      "\n",
      "Epoch 00008: saving model to model_init_2020-04-1115_43_38.721918/model-00008-0.98407-0.63704-1.53755-0.44286.h5\n",
      "Epoch 9/25\n",
      "45/45 [==============================] - 10s 222ms/step - loss: 0.9575 - categorical_accuracy: 0.6889 - val_loss: 1.8409 - val_categorical_accuracy: 0.3714\n",
      "\n",
      "Epoch 00009: saving model to model_init_2020-04-1115_43_38.721918/model-00009-0.95748-0.68889-1.84088-0.37143.h5\n",
      "Epoch 10/25\n",
      "45/45 [==============================] - 10s 224ms/step - loss: 1.1038 - categorical_accuracy: 0.5630 - val_loss: 1.2968 - val_categorical_accuracy: 0.5286\n",
      "\n",
      "Epoch 00010: saving model to model_init_2020-04-1115_43_38.721918/model-00010-1.10385-0.56296-1.29684-0.52857.h5\n",
      "\n",
      "Epoch 00010: ReduceLROnPlateau reducing learning rate to 0.0005000000237487257.\n",
      "Epoch 11/25\n",
      "45/45 [==============================] - 7s 161ms/step - loss: 0.8624 - categorical_accuracy: 0.6519 - val_loss: 1.1750 - val_categorical_accuracy: 0.5571\n",
      "\n",
      "Epoch 00011: saving model to model_init_2020-04-1115_43_38.721918/model-00011-0.86238-0.65185-1.17497-0.55714.h5\n",
      "Epoch 12/25\n",
      "45/45 [==============================] - 10s 233ms/step - loss: 0.6672 - categorical_accuracy: 0.7778 - val_loss: 1.0409 - val_categorical_accuracy: 0.6143\n",
      "\n",
      "Epoch 00012: saving model to model_init_2020-04-1115_43_38.721918/model-00012-0.66721-0.77778-1.04090-0.61429.h5\n",
      "Epoch 13/25\n",
      "45/45 [==============================] - 10s 225ms/step - loss: 0.6017 - categorical_accuracy: 0.7556 - val_loss: 1.2830 - val_categorical_accuracy: 0.4857\n",
      "\n",
      "Epoch 00013: saving model to model_init_2020-04-1115_43_38.721918/model-00013-0.60173-0.75556-1.28304-0.48571.h5\n",
      "Epoch 14/25\n",
      "45/45 [==============================] - 11s 239ms/step - loss: 0.6946 - categorical_accuracy: 0.7333 - val_loss: 1.2961 - val_categorical_accuracy: 0.6000\n",
      "\n",
      "Epoch 00014: saving model to model_init_2020-04-1115_43_38.721918/model-00014-0.69462-0.73333-1.29608-0.60000.h5\n",
      "Epoch 15/25\n",
      "45/45 [==============================] - 10s 215ms/step - loss: 0.5951 - categorical_accuracy: 0.7778 - val_loss: 1.0614 - val_categorical_accuracy: 0.6286\n",
      "\n",
      "Epoch 00015: saving model to model_init_2020-04-1115_43_38.721918/model-00015-0.59506-0.77778-1.06136-0.62857.h5\n",
      "\n",
      "Epoch 00015: ReduceLROnPlateau reducing learning rate to 0.0002500000118743628.\n",
      "Epoch 16/25\n",
      "45/45 [==============================] - 11s 239ms/step - loss: 0.4942 - categorical_accuracy: 0.8593 - val_loss: 1.1591 - val_categorical_accuracy: 0.6143\n",
      "\n",
      "Epoch 00016: saving model to model_init_2020-04-1115_43_38.721918/model-00016-0.49419-0.85926-1.15910-0.61429.h5\n",
      "Epoch 17/25\n",
      "45/45 [==============================] - 10s 226ms/step - loss: 0.4512 - categorical_accuracy: 0.8370 - val_loss: 0.8921 - val_categorical_accuracy: 0.6857\n",
      "\n",
      "Epoch 00017: saving model to model_init_2020-04-1115_43_38.721918/model-00017-0.45116-0.83704-0.89207-0.68571.h5\n",
      "Epoch 18/25\n",
      "45/45 [==============================] - 11s 235ms/step - loss: 0.3867 - categorical_accuracy: 0.8519 - val_loss: 0.9248 - val_categorical_accuracy: 0.7286\n",
      "\n",
      "Epoch 00018: saving model to model_init_2020-04-1115_43_38.721918/model-00018-0.38666-0.85185-0.92479-0.72857.h5\n",
      "Epoch 19/25\n",
      "45/45 [==============================] - 10s 226ms/step - loss: 0.4430 - categorical_accuracy: 0.8519 - val_loss: 1.0088 - val_categorical_accuracy: 0.6286\n",
      "\n",
      "Epoch 00019: saving model to model_init_2020-04-1115_43_38.721918/model-00019-0.44297-0.85185-1.00881-0.62857.h5\n",
      "Epoch 20/25\n",
      "45/45 [==============================] - 10s 231ms/step - loss: 0.3839 - categorical_accuracy: 0.8815 - val_loss: 0.9305 - val_categorical_accuracy: 0.7143\n",
      "\n",
      "Epoch 00020: saving model to model_init_2020-04-1115_43_38.721918/model-00020-0.38392-0.88148-0.93050-0.71429.h5\n",
      "\n",
      "Epoch 00020: ReduceLROnPlateau reducing learning rate to 0.0001250000059371814.\n",
      "Epoch 21/25\n",
      "45/45 [==============================] - 11s 235ms/step - loss: 0.2739 - categorical_accuracy: 0.9185 - val_loss: 0.7579 - val_categorical_accuracy: 0.7714\n",
      "\n",
      "Epoch 00021: saving model to model_init_2020-04-1115_43_38.721918/model-00021-0.27393-0.91852-0.75785-0.77143.h5\n",
      "Epoch 22/25\n",
      "45/45 [==============================] - 11s 236ms/step - loss: 0.2564 - categorical_accuracy: 0.9259 - val_loss: 0.8149 - val_categorical_accuracy: 0.7857\n",
      "\n",
      "Epoch 00022: saving model to model_init_2020-04-1115_43_38.721918/model-00022-0.25645-0.92593-0.81493-0.78571.h5\n",
      "Epoch 23/25\n",
      "45/45 [==============================] - 11s 237ms/step - loss: 0.3348 - categorical_accuracy: 0.9111 - val_loss: 0.8398 - val_categorical_accuracy: 0.7143\n",
      "\n",
      "Epoch 00023: saving model to model_init_2020-04-1115_43_38.721918/model-00023-0.33483-0.91111-0.83976-0.71429.h5\n",
      "Epoch 24/25\n",
      "45/45 [==============================] - 10s 222ms/step - loss: 0.3031 - categorical_accuracy: 0.8667 - val_loss: 0.9171 - val_categorical_accuracy: 0.7286\n",
      "\n",
      "Epoch 00024: saving model to model_init_2020-04-1115_43_38.721918/model-00024-0.30310-0.86667-0.91708-0.72857.h5\n",
      "\n",
      "Epoch 00024: ReduceLROnPlateau reducing learning rate to 6.25000029685907e-05.\n",
      "Epoch 25/25\n",
      "45/45 [==============================] - 10s 222ms/step - loss: 0.3333 - categorical_accuracy: 0.8889 - val_loss: 0.7340 - val_categorical_accuracy: 0.7714\n",
      "\n",
      "Epoch 00025: saving model to model_init_2020-04-1115_43_38.721918/model-00025-0.33333-0.88889-0.73399-0.77143.h5\n"
     ]
    },
    {
     "data": {
      "text/plain": [
       "<keras.callbacks.History at 0x7f4adc36a978>"
      ]
     },
     "execution_count": 42,
     "metadata": {},
     "output_type": "execute_result"
    }
   ],
   "source": [
    "batch_size = 15\n",
    "train_generator = generator(train_path, train_doc, batch_size)\n",
    "val_generator = generator(val_path, val_doc, batch_size)\n",
    "\n",
    "model_name = 'model_init' + '_' + str(curr_dt_time).replace(' ','').replace(':','_') + '/'\n",
    "    \n",
    "if not os.path.exists(model_name):\n",
    "    os.mkdir(model_name)\n",
    "        \n",
    "filepath = model_name + 'model-{epoch:05d}-{loss:.5f}-{categorical_accuracy:.5f}-{val_loss:.5f}-{val_categorical_accuracy:.5f}.h5'\n",
    "\n",
    "checkpoint = ModelCheckpoint(filepath, monitor='val_loss', verbose=1, save_best_only=False, save_weights_only=False, mode='auto', period=1)\n",
    "\n",
    "# We have changed the Check point so that the best model gets saved. we are getting some NO SPACE ISSUE in NImbleBox, hence we have to do so\n",
    "LR = ReduceLROnPlateau(monitor='val_loss', factor=0.5, patience=3, cooldown=1, verbose=1)# write the REducelronplateau code here\n",
    "callbacks_list = [checkpoint, LR]\n",
    "\n",
    "if (num_train_sequences%batch_size) == 0:\n",
    "    steps_per_epoch = int(num_train_sequences/batch_size)\n",
    "else:\n",
    "    steps_per_epoch = (num_train_sequences//batch_size) + 1\n",
    "\n",
    "if (num_val_sequences%batch_size) == 0:\n",
    "    validation_steps = int(num_val_sequences/batch_size)\n",
    "else:\n",
    "    validation_steps = (num_val_sequences//batch_size) + 1\n",
    "    \n",
    "    \n",
    "num_epochs = 25\n",
    "model_cnn_rnn.fit_generator(train_generator, steps_per_epoch=steps_per_epoch, epochs=num_epochs, verbose=1, \n",
    "                    callbacks=callbacks_list, validation_data=val_generator, \n",
    "                    validation_steps=validation_steps, class_weight=None, workers=1, initial_epoch=0)"
   ]
  },
  {
   "cell_type": "markdown",
   "metadata": {},
   "source": [
    "The custom CNN-RNN model results in high training accuracy of 95% and very low validation accuracy of 58% which clearly states that the model is overfitting. So we try the same model with different batch size"
   ]
  },
  {
   "cell_type": "code",
   "execution_count": 45,
   "metadata": {},
   "outputs": [
    {
     "data": {
      "image/png": "[encoded data removed]",
      "text/plain": [
       "<Figure size 432x288 with 1 Axes>"
      ]
     },
     "metadata": {},
     "output_type": "display_data"
    },
    {
     "data": {
      "image/png": "[encoded data removed]",
      "text/plain": [
       "<Figure size 432x288 with 1 Axes>"
      ]
     },
     "metadata": {},
     "output_type": "display_data"
    }
   ],
   "source": [
    "model_cnn_rnn = pd.DataFrame(model_cnn_rnn.history.history)\n",
    "\n",
    "model_cnn_rnn[['val_loss','loss']].plot(title='Loss', grid=True)\n",
    "model_cnn_rnn[['val_categorical_accuracy','categorical_accuracy']].plot(title='Categorical Accuracy', grid=True)\n",
    "plt.show()\n"
   ]
  },
  {
   "cell_type": "code",
   "execution_count": 46,
   "metadata": {},
   "outputs": [
    {
     "name": "stdout",
     "output_type": "stream",
     "text": [
      "_________________________________________________________________\n",
      "Layer (type)                 Output Shape              Param #   \n",
      "=================================================================\n",
      "time_distributed_50 (TimeDis (None, 16, 60, 60, 16)    448       \n",
      "_________________________________________________________________\n",
      "time_distributed_51 (TimeDis (None, 16, 60, 60, 32)    4640      \n",
      "_________________________________________________________________\n",
      "time_distributed_52 (TimeDis (None, 16, 30, 30, 32)    0         \n",
      "_________________________________________________________________\n",
      "time_distributed_53 (TimeDis (None, 16, 30, 30, 64)    18496     \n",
      "_________________________________________________________________\n",
      "time_distributed_54 (TimeDis (None, 16, 15, 15, 64)    0         \n",
      "_________________________________________________________________\n",
      "time_distributed_55 (TimeDis (None, 16, 15, 15, 128)   32896     \n",
      "_________________________________________________________________\n",
      "time_distributed_56 (TimeDis (None, 16, 7, 7, 128)     0         \n",
      "_________________________________________________________________\n",
      "time_distributed_57 (TimeDis (None, 16, 7, 7, 128)     512       \n",
      "_________________________________________________________________\n",
      "dropout_31 (Dropout)         (None, 16, 7, 7, 128)     0         \n",
      "_________________________________________________________________\n",
      "time_distributed_58 (TimeDis (None, 16, 6272)          0         \n",
      "_________________________________________________________________\n",
      "dense_34 (Dense)             (None, 16, 256)           1605888   \n",
      "_________________________________________________________________\n",
      "dropout_32 (Dropout)         (None, 16, 256)           0         \n",
      "_________________________________________________________________\n",
      "dense_35 (Dense)             (None, 16, 128)           32896     \n",
      "_________________________________________________________________\n",
      "dropout_33 (Dropout)         (None, 16, 128)           0         \n",
      "_________________________________________________________________\n",
      "gru_8 (GRU)                  (None, 128)               98688     \n",
      "_________________________________________________________________\n",
      "dense_36 (Dense)             (None, 5)                 645       \n",
      "=================================================================\n",
      "Total params: 1,795,109\n",
      "Trainable params: 1,794,853\n",
      "Non-trainable params: 256\n",
      "_________________________________________________________________\n",
      "None\n"
     ]
    }
   ],
   "source": [
    "model_cnn_rnn2 = Sequential()\n",
    "\n",
    "\n",
    "model_cnn_rnn2.add(TimeDistributed(Conv2D(16, (3, 3), strides=(2, 2),activation='relu', padding='same'), input_shape=(16,120,120,3)))\n",
    "\n",
    "\n",
    "model_cnn_rnn2.add(TimeDistributed(Conv2D(32, (3,3),padding='same', activation='relu')))\n",
    "\n",
    "model_cnn_rnn2.add(TimeDistributed(MaxPooling2D((2, 2), strides=(2, 2))))\n",
    "\n",
    "model_cnn_rnn2.add(TimeDistributed(Conv2D(64, (3,3),padding='same', activation='relu')))\n",
    "\n",
    "model_cnn_rnn2.add(TimeDistributed(MaxPooling2D((2, 2), strides=(2, 2))))\n",
    "\n",
    "model_cnn_rnn2.add(TimeDistributed(Conv2D(128, (2,2),padding='same', activation='relu')))\n",
    "\n",
    "model_cnn_rnn2.add(TimeDistributed(MaxPooling2D((2, 2), strides=(2, 2))))\n",
    "\n",
    "\n",
    "model_cnn_rnn2.add(TimeDistributed(BatchNormalization()))\n",
    "model_cnn_rnn2.add(Dropout(0.25))\n",
    "\n",
    "model_cnn_rnn2.add(TimeDistributed(Flatten()))\n",
    "\n",
    "model_cnn_rnn2.add(Dense(256, activation='relu'))\n",
    "model_cnn_rnn2.add(Dropout(0.5))\n",
    "model_cnn_rnn2.add(Dense(128, activation='relu'))\n",
    "model_cnn_rnn2.add(Dropout(0.5))\n",
    "\n",
    "\n",
    "model_cnn_rnn2.add(GRU(128, return_sequences=False))\n",
    "model_cnn_rnn2.add(Dense(5, activation='softmax'))\n",
    "\n",
    "optimiser = 'adam'\n",
    "model_cnn_rnn2.compile(optimizer=optimiser, loss='categorical_crossentropy', metrics=['categorical_accuracy'])\n",
    "print(model_cnn_rnn2.summary())"
   ]
  },
  {
   "cell_type": "code",
   "execution_count": 47,
   "metadata": {},
   "outputs": [
    {
     "name": "stdout",
     "output_type": "stream",
     "text": [
      "Source path =  ./Project_data/val ; batch size = 40\n",
      "Source path =  ./Project_data/train ; batch size = 40\n",
      "Epoch 1/25\n"
     ]
    },
    {
     "name": "stderr",
     "output_type": "stream",
     "text": [
      "/mnt/disks/user/anaconda3/lib/python3.6/site-packages/ipykernel_launcher.py:17: DeprecationWarning: `imread` is deprecated!\n",
      "`imread` is deprecated in SciPy 1.0.0, and will be removed in 1.2.0.\n",
      "Use ``imageio.imread`` instead.\n",
      "/mnt/disks/user/anaconda3/lib/python3.6/site-packages/ipykernel_launcher.py:21: DeprecationWarning: `imresize` is deprecated!\n",
      "`imresize` is deprecated in SciPy 1.0.0, and will be removed in 1.2.0.\n",
      "Use ``skimage.transform.resize`` instead.\n",
      "/mnt/disks/user/anaconda3/lib/python3.6/site-packages/ipykernel_launcher.py:40: DeprecationWarning: `imread` is deprecated!\n",
      "`imread` is deprecated in SciPy 1.0.0, and will be removed in 1.2.0.\n",
      "Use ``imageio.imread`` instead.\n",
      "/mnt/disks/user/anaconda3/lib/python3.6/site-packages/ipykernel_launcher.py:44: DeprecationWarning: `imresize` is deprecated!\n",
      "`imresize` is deprecated in SciPy 1.0.0, and will be removed in 1.2.0.\n",
      "Use ``skimage.transform.resize`` instead.\n"
     ]
    },
    {
     "name": "stdout",
     "output_type": "stream",
     "text": [
      "17/17 [==============================] - 51s 3s/step - loss: 1.3194 - categorical_accuracy: 0.4295 - val_loss: 1.5712 - val_categorical_accuracy: 0.3700\n",
      "\n",
      "Epoch 00001: saving model to model_init_2020-04-1115_43_38.721918/model-00001-1.32508-0.42836-1.57120-0.37000.h5\n",
      "Epoch 2/25\n",
      "17/17 [==============================] - 12s 683ms/step - loss: 1.1428 - categorical_accuracy: 0.5217 - val_loss: 1.8071 - val_categorical_accuracy: 0.5167\n",
      "\n",
      "Epoch 00002: saving model to model_init_2020-04-1115_43_38.721918/model-00002-1.14277-0.52174-1.80713-0.51667.h5\n",
      "Epoch 3/25\n",
      "17/17 [==============================] - 24s 1s/step - loss: 0.9393 - categorical_accuracy: 0.6193 - val_loss: 1.7268 - val_categorical_accuracy: 0.5833\n",
      "\n",
      "Epoch 00003: saving model to model_init_2020-04-1115_43_38.721918/model-00003-0.94700-0.61580-1.72680-0.58333.h5\n",
      "Epoch 4/25\n",
      "17/17 [==============================] - 21s 1s/step - loss: 0.7688 - categorical_accuracy: 0.7028 - val_loss: 1.7674 - val_categorical_accuracy: 0.5833\n",
      "\n",
      "Epoch 00004: saving model to model_init_2020-04-1115_43_38.721918/model-00004-0.76878-0.70279-1.76735-0.58333.h5\n",
      "\n",
      "Epoch 00004: ReduceLROnPlateau reducing learning rate to 0.0005000000237487257.\n",
      "Epoch 5/25\n",
      "17/17 [==============================] - 17s 986ms/step - loss: 0.6364 - categorical_accuracy: 0.7474 - val_loss: 1.5960 - val_categorical_accuracy: 0.5500\n",
      "\n",
      "Epoch 00005: saving model to model_init_2020-04-1115_43_38.721918/model-00005-0.64206-0.74441-1.59601-0.55000.h5\n",
      "Epoch 6/25\n",
      "17/17 [==============================] - 19s 1s/step - loss: 0.4817 - categorical_accuracy: 0.8201 - val_loss: 1.0971 - val_categorical_accuracy: 0.6667\n",
      "\n",
      "Epoch 00006: saving model to model_init_2020-04-1115_43_38.721918/model-00006-0.48168-0.82007-1.09713-0.66667.h5\n",
      "Epoch 7/25\n",
      "17/17 [==============================] - 18s 1s/step - loss: 0.4029 - categorical_accuracy: 0.8408 - val_loss: 1.0383 - val_categorical_accuracy: 0.6667\n",
      "\n",
      "Epoch 00007: saving model to model_init_2020-04-1115_43_38.721918/model-00007-0.40291-0.84083-1.03830-0.66667.h5\n",
      "Epoch 8/25\n",
      "17/17 [==============================] - 18s 1s/step - loss: 0.3331 - categorical_accuracy: 0.8962 - val_loss: 1.7686 - val_categorical_accuracy: 0.5333\n",
      "\n",
      "Epoch 00008: saving model to model_init_2020-04-1115_43_38.721918/model-00008-0.33310-0.89619-1.76856-0.53333.h5\n",
      "Epoch 9/25\n",
      "17/17 [==============================] - 20s 1s/step - loss: 0.3150 - categorical_accuracy: 0.8962 - val_loss: 1.3501 - val_categorical_accuracy: 0.6333\n",
      "\n",
      "Epoch 00009: saving model to model_init_2020-04-1115_43_38.721918/model-00009-0.31504-0.89619-1.35008-0.63333.h5\n",
      "Epoch 10/25\n",
      "17/17 [==============================] - 19s 1s/step - loss: 0.2917 - categorical_accuracy: 0.8754 - val_loss: 1.6248 - val_categorical_accuracy: 0.6667\n",
      "\n",
      "Epoch 00010: saving model to model_init_2020-04-1115_43_38.721918/model-00010-0.29171-0.87543-1.62483-0.66667.h5\n",
      "\n",
      "Epoch 00010: ReduceLROnPlateau reducing learning rate to 0.0002500000118743628.\n",
      "Epoch 11/25\n",
      "17/17 [==============================] - 19s 1s/step - loss: 0.1817 - categorical_accuracy: 0.9516 - val_loss: 1.3282 - val_categorical_accuracy: 0.7000\n",
      "\n",
      "Epoch 00011: saving model to model_init_2020-04-1115_43_38.721918/model-00011-0.18170-0.95156-1.32822-0.70000.h5\n",
      "Epoch 12/25\n",
      "17/17 [==============================] - 18s 1s/step - loss: 0.1767 - categorical_accuracy: 0.9446 - val_loss: 1.6772 - val_categorical_accuracy: 0.6500\n",
      "\n",
      "Epoch 00012: saving model to model_init_2020-04-1115_43_38.721918/model-00012-0.17668-0.94464-1.67723-0.65000.h5\n",
      "Epoch 13/25\n",
      "17/17 [==============================] - 19s 1s/step - loss: 0.1245 - categorical_accuracy: 0.9689 - val_loss: 1.1770 - val_categorical_accuracy: 0.6667\n",
      "\n",
      "Epoch 00013: saving model to model_init_2020-04-1115_43_38.721918/model-00013-0.12449-0.96886-1.17699-0.66667.h5\n",
      "\n",
      "Epoch 00013: ReduceLROnPlateau reducing learning rate to 0.0001250000059371814.\n",
      "Epoch 14/25\n",
      "17/17 [==============================] - 19s 1s/step - loss: 0.0885 - categorical_accuracy: 0.9758 - val_loss: 1.3001 - val_categorical_accuracy: 0.6667\n",
      "\n",
      "Epoch 00014: saving model to model_init_2020-04-1115_43_38.721918/model-00014-0.08850-0.97578-1.30008-0.66667.h5\n",
      "Epoch 15/25\n",
      "17/17 [==============================] - 19s 1s/step - loss: 0.0531 - categorical_accuracy: 0.9965 - val_loss: 1.0041 - val_categorical_accuracy: 0.7667\n",
      "\n",
      "Epoch 00015: saving model to model_init_2020-04-1115_43_38.721918/model-00015-0.05309-0.99654-1.00409-0.76667.h5\n",
      "Epoch 16/25\n",
      "17/17 [==============================] - 19s 1s/step - loss: 0.0583 - categorical_accuracy: 0.9931 - val_loss: 1.0739 - val_categorical_accuracy: 0.7500\n",
      "\n",
      "Epoch 00016: saving model to model_init_2020-04-1115_43_38.721918/model-00016-0.05829-0.99308-1.07392-0.75000.h5\n",
      "Epoch 17/25\n",
      "17/17 [==============================] - 19s 1s/step - loss: 0.0458 - categorical_accuracy: 0.9965 - val_loss: 1.1792 - val_categorical_accuracy: 0.7167\n",
      "\n",
      "Epoch 00017: saving model to model_init_2020-04-1115_43_38.721918/model-00017-0.04578-0.99654-1.17916-0.71667.h5\n",
      "Epoch 18/25\n",
      "17/17 [==============================] - 19s 1s/step - loss: 0.0447 - categorical_accuracy: 1.0000 - val_loss: 1.1639 - val_categorical_accuracy: 0.7500\n",
      "\n",
      "Epoch 00018: saving model to model_init_2020-04-1115_43_38.721918/model-00018-0.04469-1.00000-1.16387-0.75000.h5\n",
      "\n",
      "Epoch 00018: ReduceLROnPlateau reducing learning rate to 6.25000029685907e-05.\n",
      "Epoch 19/25\n",
      "17/17 [==============================] - 19s 1s/step - loss: 0.0342 - categorical_accuracy: 1.0000 - val_loss: 0.8541 - val_categorical_accuracy: 0.7833\n",
      "\n",
      "Epoch 00019: saving model to model_init_2020-04-1115_43_38.721918/model-00019-0.03416-1.00000-0.85415-0.78333.h5\n",
      "Epoch 20/25\n",
      "17/17 [==============================] - 18s 1s/step - loss: 0.0288 - categorical_accuracy: 0.9965 - val_loss: 1.2678 - val_categorical_accuracy: 0.7333\n",
      "\n",
      "Epoch 00020: saving model to model_init_2020-04-1115_43_38.721918/model-00020-0.02877-0.99654-1.26776-0.73333.h5\n",
      "Epoch 21/25\n",
      "17/17 [==============================] - 19s 1s/step - loss: 0.0418 - categorical_accuracy: 0.9965 - val_loss: 1.0411 - val_categorical_accuracy: 0.7500\n",
      "\n",
      "Epoch 00021: saving model to model_init_2020-04-1115_43_38.721918/model-00021-0.04185-0.99654-1.04106-0.75000.h5\n",
      "Epoch 22/25\n",
      "17/17 [==============================] - 19s 1s/step - loss: 0.0323 - categorical_accuracy: 1.0000 - val_loss: 0.9070 - val_categorical_accuracy: 0.7667\n",
      "\n",
      "Epoch 00022: saving model to model_init_2020-04-1115_43_38.721918/model-00022-0.03227-1.00000-0.90698-0.76667.h5\n",
      "\n",
      "Epoch 00022: ReduceLROnPlateau reducing learning rate to 3.125000148429535e-05.\n",
      "Epoch 23/25\n",
      "17/17 [==============================] - 19s 1s/step - loss: 0.0278 - categorical_accuracy: 1.0000 - val_loss: 1.1646 - val_categorical_accuracy: 0.7500\n",
      "\n",
      "Epoch 00023: saving model to model_init_2020-04-1115_43_38.721918/model-00023-0.02780-1.00000-1.16460-0.75000.h5\n",
      "Epoch 24/25\n",
      "17/17 [==============================] - 18s 1s/step - loss: 0.0299 - categorical_accuracy: 0.9965 - val_loss: 1.1686 - val_categorical_accuracy: 0.7000\n",
      "\n",
      "Epoch 00024: saving model to model_init_2020-04-1115_43_38.721918/model-00024-0.02987-0.99654-1.16864-0.70000.h5\n",
      "Epoch 25/25\n",
      "17/17 [==============================] - 19s 1s/step - loss: 0.0260 - categorical_accuracy: 1.0000 - val_loss: 1.0972 - val_categorical_accuracy: 0.7167\n",
      "\n",
      "Epoch 00025: saving model to model_init_2020-04-1115_43_38.721918/model-00025-0.02597-1.00000-1.09724-0.71667.h5\n",
      "\n",
      "Epoch 00025: ReduceLROnPlateau reducing learning rate to 1.5625000742147677e-05.\n"
     ]
    },
    {
     "data": {
      "text/plain": [
       "<keras.callbacks.History at 0x7f4ab377fbe0>"
      ]
     },
     "execution_count": 47,
     "metadata": {},
     "output_type": "execute_result"
    }
   ],
   "source": [
    "batch_size = 40\n",
    "train_generator = generator(train_path, train_doc, batch_size)\n",
    "val_generator = generator(val_path, val_doc, batch_size)\n",
    "\n",
    "model_name = 'model_init' + '_' + str(curr_dt_time).replace(' ','').replace(':','_') + '/'\n",
    "    \n",
    "if not os.path.exists(model_name):\n",
    "    os.mkdir(model_name)\n",
    "        \n",
    "filepath = model_name + 'model-{epoch:05d}-{loss:.5f}-{categorical_accuracy:.5f}-{val_loss:.5f}-{val_categorical_accuracy:.5f}.h5'\n",
    "\n",
    "checkpoint = ModelCheckpoint(filepath, monitor='val_loss', verbose=1, save_best_only=False, save_weights_only=False, mode='auto', period=1)\n",
    "\n",
    "# We have changed the Check point so that the best model gets saved. we are getting some NO SPACE ISSUE in NImbleBox, hence we have to do so\n",
    "LR = ReduceLROnPlateau(monitor='val_loss', factor=0.5, patience=3, cooldown=1, verbose=1)# write the REducelronplateau code here\n",
    "callbacks_list = [checkpoint, LR]\n",
    "\n",
    "if (num_train_sequences%batch_size) == 0:\n",
    "    steps_per_epoch = int(num_train_sequences/batch_size)\n",
    "else:\n",
    "    steps_per_epoch = (num_train_sequences//batch_size) + 1\n",
    "\n",
    "if (num_val_sequences%batch_size) == 0:\n",
    "    validation_steps = int(num_val_sequences/batch_size)\n",
    "else:\n",
    "    validation_steps = (num_val_sequences//batch_size) + 1\n",
    "    \n",
    "    \n",
    "num_epochs = 25\n",
    "model_cnn_rnn2.fit_generator(train_generator, steps_per_epoch=steps_per_epoch, epochs=num_epochs, verbose=1, \n",
    "                    callbacks=callbacks_list, validation_data=val_generator, \n",
    "                    validation_steps=validation_steps, class_weight=None, workers=1, initial_epoch=0)"
   ]
  },
  {
   "cell_type": "code",
   "execution_count": 56,
   "metadata": {},
   "outputs": [
    {
     "data": {
      "image/png": "[encoded data removed]",
      "text/plain": [
       "<Figure size 432x288 with 1 Axes>"
      ]
     },
     "metadata": {},
     "output_type": "display_data"
    },
    {
     "data": {
      "image/png": "[encoded data removed]",
      "text/plain": [
       "<Figure size 432x288 with 1 Axes>"
      ]
     },
     "metadata": {},
     "output_type": "display_data"
    }
   ],
   "source": [
    "model_cnn_rnn2 = pd.DataFrame(model_cnn_rnn2.history.history)\n",
    "\n",
    "model_cnn_rnn2[['val_loss','loss']].plot(title='Loss', grid=True)\n",
    "model_cnn_rnn2[['val_categorical_accuracy','categorical_accuracy']].plot(title='Categorical Accuracy', grid=True)\n",
    "plt.show()"
   ]
  },
  {
   "cell_type": "code",
   "execution_count": 57,
   "metadata": {},
   "outputs": [
    {
     "name": "stderr",
     "output_type": "stream",
     "text": [
      "/mnt/disks/user/anaconda3/lib/python3.6/site-packages/keras_applications/mobilenet.py:206: UserWarning: MobileNet shape is undefined. Weights for input shape (224, 224) will be loaded.\n",
      "  warnings.warn('MobileNet shape is undefined.'\n"
     ]
    },
    {
     "name": "stdout",
     "output_type": "stream",
     "text": [
      "Downloading data from https://github.com/fchollet/deep-learning-models/releases/download/v0.6/mobilenet_1_0_224_tf_no_top.h5\n",
      "17227776/17225924 [==============================] - 2s 0us/step\n"
     ]
    }
   ],
   "source": [
    "# GRU Model using mobilenet\n",
    "\n",
    "mobilenet_transfer = mobilenet.MobileNet(weights='imagenet', include_top=False)\n",
    "\n",
    "model_mobile_net_gru = Sequential()\n",
    "model_mobile_net_gru.add(TimeDistributed(mobilenet_transfer,input_shape=(16,120,120,3)))\n",
    "        \n",
    "        \n",
    "for layer in model.layers:\n",
    "    layer.trainable = False\n",
    "        \n",
    "        \n",
    "model_mobile_net_gru.add(TimeDistributed(BatchNormalization()))\n",
    "model_mobile_net_gru.add(TimeDistributed(MaxPooling2D((2, 2))))\n",
    "model_mobile_net_gru.add(TimeDistributed(Flatten()))\n",
    "\n",
    "model_mobile_net_gru.add(GRU(128))\n",
    "model_mobile_net_gru.add(Dropout(0.25))\n",
    "        \n",
    "model_mobile_net_gru.add(Dense(128,activation='relu'))\n",
    "model_mobile_net_gru.add(Dropout(0.25))\n",
    "        \n",
    "model_mobile_net_gru.add(Dense(5, activation='softmax'))\n",
    "\n",
    "optimiser = 'adam'\n",
    "model_mobile_net_gru.compile(optimizer=optimiser, loss='categorical_crossentropy', metrics=['categorical_accuracy'])"
   ]
  },
  {
   "cell_type": "code",
   "execution_count": 58,
   "metadata": {
    "scrolled": true
   },
   "outputs": [
    {
     "name": "stdout",
     "output_type": "stream",
     "text": [
      "_________________________________________________________________\n",
      "Layer (type)                 Output Shape              Param #   \n",
      "=================================================================\n",
      "time_distributed_75 (TimeDis (None, 16, 3, 3, 1024)    3228864   \n",
      "_________________________________________________________________\n",
      "time_distributed_76 (TimeDis (None, 16, 3, 3, 1024)    4096      \n",
      "_________________________________________________________________\n",
      "time_distributed_77 (TimeDis (None, 16, 1, 1, 1024)    0         \n",
      "_________________________________________________________________\n",
      "time_distributed_78 (TimeDis (None, 16, 1024)          0         \n",
      "_________________________________________________________________\n",
      "gru_10 (GRU)                 (None, 128)               442752    \n",
      "_________________________________________________________________\n",
      "dropout_42 (Dropout)         (None, 128)               0         \n",
      "_________________________________________________________________\n",
      "dense_45 (Dense)             (None, 128)               16512     \n",
      "_________________________________________________________________\n",
      "dropout_43 (Dropout)         (None, 128)               0         \n",
      "_________________________________________________________________\n",
      "dense_46 (Dense)             (None, 5)                 645       \n",
      "=================================================================\n",
      "Total params: 3,692,869\n",
      "Trainable params: 3,668,933\n",
      "Non-trainable params: 23,936\n",
      "_________________________________________________________________\n"
     ]
    }
   ],
   "source": [
    "model_mobile_net_gru.summary()"
   ]
  },
  {
   "cell_type": "code",
   "execution_count": 59,
   "metadata": {},
   "outputs": [
    {
     "name": "stdout",
     "output_type": "stream",
     "text": [
      "Source path =  ./Project_data/val ; batch size = 5\n",
      "Source path =  ./Project_data/train ; batch size = 5\n",
      "Epoch 1/30\n"
     ]
    },
    {
     "name": "stderr",
     "output_type": "stream",
     "text": [
      "/mnt/disks/user/anaconda3/lib/python3.6/site-packages/ipykernel_launcher.py:17: DeprecationWarning: `imread` is deprecated!\n",
      "`imread` is deprecated in SciPy 1.0.0, and will be removed in 1.2.0.\n",
      "Use ``imageio.imread`` instead.\n",
      "/mnt/disks/user/anaconda3/lib/python3.6/site-packages/ipykernel_launcher.py:21: DeprecationWarning: `imresize` is deprecated!\n",
      "`imresize` is deprecated in SciPy 1.0.0, and will be removed in 1.2.0.\n",
      "Use ``skimage.transform.resize`` instead.\n"
     ]
    },
    {
     "name": "stdout",
     "output_type": "stream",
     "text": [
      "126/133 [===========================>..] - ETA: 4s - loss: 1.3615 - categorical_accuracy: 0.4556"
     ]
    },
    {
     "name": "stderr",
     "output_type": "stream",
     "text": [
      "/mnt/disks/user/anaconda3/lib/python3.6/site-packages/ipykernel_launcher.py:40: DeprecationWarning: `imread` is deprecated!\n",
      "`imread` is deprecated in SciPy 1.0.0, and will be removed in 1.2.0.\n",
      "Use ``imageio.imread`` instead.\n",
      "/mnt/disks/user/anaconda3/lib/python3.6/site-packages/ipykernel_launcher.py:44: DeprecationWarning: `imresize` is deprecated!\n",
      "`imresize` is deprecated in SciPy 1.0.0, and will be removed in 1.2.0.\n",
      "Use ``skimage.transform.resize`` instead.\n"
     ]
    },
    {
     "name": "stdout",
     "output_type": "stream",
     "text": [
      "133/133 [==============================] - 83s 626ms/step - loss: 1.3405 - categorical_accuracy: 0.4642 - val_loss: 0.9124 - val_categorical_accuracy: 0.6700\n",
      "\n",
      "Epoch 00001: saving model to model_init_2020-04-1115_43_38.721918/model-00001-1.34212-0.46456-0.91242-0.67000.h5\n",
      "Epoch 2/30\n",
      "133/133 [==============================] - 34s 257ms/step - loss: 1.1748 - categorical_accuracy: 0.5514 - val_loss: 1.1730 - val_categorical_accuracy: 0.5000\n",
      "\n",
      "Epoch 00002: saving model to model_init_2020-04-1115_43_38.721918/model-00002-1.17480-0.55138-1.17301-0.50000.h5\n",
      "Epoch 3/30\n",
      "133/133 [==============================] - 34s 255ms/step - loss: 1.1886 - categorical_accuracy: 0.5238 - val_loss: 1.3698 - val_categorical_accuracy: 0.5200\n",
      "\n",
      "Epoch 00003: saving model to model_init_2020-04-1115_43_38.721918/model-00003-1.18864-0.52381-1.36980-0.52000.h5\n",
      "Epoch 4/30\n",
      "133/133 [==============================] - 34s 255ms/step - loss: 1.0116 - categorical_accuracy: 0.5940 - val_loss: 1.0704 - val_categorical_accuracy: 0.5500\n",
      "\n",
      "Epoch 00004: saving model to model_init_2020-04-1115_43_38.721918/model-00004-1.01155-0.59398-1.07042-0.55000.h5\n",
      "\n",
      "Epoch 00004: ReduceLROnPlateau reducing learning rate to 0.0005000000237487257.\n",
      "Epoch 5/30\n",
      "133/133 [==============================] - 34s 255ms/step - loss: 0.8263 - categorical_accuracy: 0.6541 - val_loss: 1.1964 - val_categorical_accuracy: 0.5500\n",
      "\n",
      "Epoch 00005: saving model to model_init_2020-04-1115_43_38.721918/model-00005-0.82629-0.65414-1.19642-0.55000.h5\n",
      "Epoch 6/30\n",
      "133/133 [==============================] - 34s 256ms/step - loss: 0.6091 - categorical_accuracy: 0.7694 - val_loss: 0.5992 - val_categorical_accuracy: 0.7600\n",
      "\n",
      "Epoch 00006: saving model to model_init_2020-04-1115_43_38.721918/model-00006-0.60909-0.76942-0.59918-0.76000.h5\n",
      "Epoch 7/30\n",
      "133/133 [==============================] - 34s 254ms/step - loss: 0.6846 - categorical_accuracy: 0.7243 - val_loss: 0.5493 - val_categorical_accuracy: 0.7600\n",
      "\n",
      "Epoch 00007: saving model to model_init_2020-04-1115_43_38.721918/model-00007-0.68464-0.72431-0.54931-0.76000.h5\n",
      "Epoch 8/30\n",
      "133/133 [==============================] - 34s 256ms/step - loss: 0.5626 - categorical_accuracy: 0.7694 - val_loss: 0.4852 - val_categorical_accuracy: 0.7700\n",
      "\n",
      "Epoch 00008: saving model to model_init_2020-04-1115_43_38.721918/model-00008-0.56264-0.76942-0.48520-0.77000.h5\n",
      "Epoch 9/30\n",
      "133/133 [==============================] - 34s 255ms/step - loss: 0.6010 - categorical_accuracy: 0.7744 - val_loss: 0.4643 - val_categorical_accuracy: 0.8000\n",
      "\n",
      "Epoch 00009: saving model to model_init_2020-04-1115_43_38.721918/model-00009-0.60103-0.77444-0.46433-0.80000.h5\n",
      "Epoch 10/30\n",
      "133/133 [==============================] - 34s 255ms/step - loss: 0.4773 - categorical_accuracy: 0.8095 - val_loss: 0.5067 - val_categorical_accuracy: 0.7900\n",
      "\n",
      "Epoch 00010: saving model to model_init_2020-04-1115_43_38.721918/model-00010-0.47727-0.80952-0.50668-0.79000.h5\n",
      "Epoch 11/30\n",
      "133/133 [==============================] - 34s 257ms/step - loss: 0.4863 - categorical_accuracy: 0.8145 - val_loss: 0.5299 - val_categorical_accuracy: 0.7700\n",
      "\n",
      "Epoch 00011: saving model to model_init_2020-04-1115_43_38.721918/model-00011-0.48631-0.81454-0.52995-0.77000.h5\n",
      "Epoch 12/30\n",
      "133/133 [==============================] - 34s 255ms/step - loss: 0.4657 - categorical_accuracy: 0.8321 - val_loss: 0.3380 - val_categorical_accuracy: 0.8400\n",
      "\n",
      "Epoch 00012: saving model to model_init_2020-04-1115_43_38.721918/model-00012-0.46566-0.83208-0.33800-0.84000.h5\n",
      "Epoch 13/30\n",
      "133/133 [==============================] - 34s 255ms/step - loss: 0.3787 - categorical_accuracy: 0.8496 - val_loss: 0.4274 - val_categorical_accuracy: 0.7900\n",
      "\n",
      "Epoch 00013: saving model to model_init_2020-04-1115_43_38.721918/model-00013-0.37868-0.84962-0.42741-0.79000.h5\n",
      "Epoch 14/30\n",
      "133/133 [==============================] - 34s 256ms/step - loss: 0.3857 - categorical_accuracy: 0.8697 - val_loss: 0.3259 - val_categorical_accuracy: 0.8900\n",
      "\n",
      "Epoch 00014: saving model to model_init_2020-04-1115_43_38.721918/model-00014-0.38569-0.86967-0.32585-0.89000.h5\n",
      "Epoch 15/30\n",
      "133/133 [==============================] - 34s 253ms/step - loss: 0.3776 - categorical_accuracy: 0.8596 - val_loss: 0.5059 - val_categorical_accuracy: 0.8000\n",
      "\n",
      "Epoch 00015: saving model to model_init_2020-04-1115_43_38.721918/model-00015-0.37764-0.85965-0.50585-0.80000.h5\n",
      "Epoch 16/30\n",
      "133/133 [==============================] - 34s 257ms/step - loss: 0.4334 - categorical_accuracy: 0.8647 - val_loss: 0.3582 - val_categorical_accuracy: 0.8400\n",
      "\n",
      "Epoch 00016: saving model to model_init_2020-04-1115_43_38.721918/model-00016-0.43342-0.86466-0.35817-0.84000.h5\n",
      "Epoch 17/30\n",
      "133/133 [==============================] - 34s 256ms/step - loss: 0.3285 - categorical_accuracy: 0.8797 - val_loss: 0.3251 - val_categorical_accuracy: 0.9000\n",
      "\n",
      "Epoch 00017: saving model to model_init_2020-04-1115_43_38.721918/model-00017-0.32849-0.87970-0.32506-0.90000.h5\n",
      "Epoch 18/30\n",
      "133/133 [==============================] - 34s 252ms/step - loss: 0.3469 - categorical_accuracy: 0.8897 - val_loss: 0.3855 - val_categorical_accuracy: 0.8700\n",
      "\n",
      "Epoch 00018: saving model to model_init_2020-04-1115_43_38.721918/model-00018-0.34686-0.88972-0.38546-0.87000.h5\n",
      "Epoch 19/30\n",
      "133/133 [==============================] - 34s 257ms/step - loss: 0.3413 - categorical_accuracy: 0.8647 - val_loss: 0.3951 - val_categorical_accuracy: 0.9000\n",
      "\n",
      "Epoch 00019: saving model to model_init_2020-04-1115_43_38.721918/model-00019-0.34132-0.86466-0.39505-0.90000.h5\n",
      "Epoch 20/30\n",
      "133/133 [==============================] - 34s 257ms/step - loss: 0.2750 - categorical_accuracy: 0.9148 - val_loss: 0.2624 - val_categorical_accuracy: 0.8900\n",
      "\n",
      "Epoch 00020: saving model to model_init_2020-04-1115_43_38.721918/model-00020-0.27500-0.91479-0.26235-0.89000.h5\n",
      "Epoch 21/30\n",
      "133/133 [==============================] - 34s 254ms/step - loss: 0.2173 - categorical_accuracy: 0.9223 - val_loss: 0.3048 - val_categorical_accuracy: 0.8800\n",
      "\n",
      "Epoch 00021: saving model to model_init_2020-04-1115_43_38.721918/model-00021-0.21729-0.92231-0.30483-0.88000.h5\n",
      "Epoch 22/30\n",
      "133/133 [==============================] - 34s 258ms/step - loss: 0.1635 - categorical_accuracy: 0.9574 - val_loss: 0.3173 - val_categorical_accuracy: 0.9100\n",
      "\n",
      "Epoch 00022: saving model to model_init_2020-04-1115_43_38.721918/model-00022-0.16354-0.95739-0.31730-0.91000.h5\n",
      "Epoch 23/30\n",
      "133/133 [==============================] - 34s 255ms/step - loss: 0.2892 - categorical_accuracy: 0.9098 - val_loss: 0.4453 - val_categorical_accuracy: 0.8400\n",
      "\n",
      "Epoch 00023: saving model to model_init_2020-04-1115_43_38.721918/model-00023-0.28923-0.90977-0.44531-0.84000.h5\n",
      "\n",
      "Epoch 00023: ReduceLROnPlateau reducing learning rate to 0.0002500000118743628.\n",
      "Epoch 24/30\n",
      "133/133 [==============================] - 34s 255ms/step - loss: 0.2183 - categorical_accuracy: 0.9348 - val_loss: 0.3545 - val_categorical_accuracy: 0.8900\n",
      "\n",
      "Epoch 00024: saving model to model_init_2020-04-1115_43_38.721918/model-00024-0.21835-0.93484-0.35451-0.89000.h5\n",
      "Epoch 25/30\n",
      "133/133 [==============================] - 34s 257ms/step - loss: 0.1796 - categorical_accuracy: 0.9424 - val_loss: 0.2195 - val_categorical_accuracy: 0.9300\n",
      "\n",
      "Epoch 00025: saving model to model_init_2020-04-1115_43_38.721918/model-00025-0.17963-0.94236-0.21951-0.93000.h5\n",
      "Epoch 26/30\n",
      "133/133 [==============================] - 34s 257ms/step - loss: 0.0869 - categorical_accuracy: 0.9774 - val_loss: 0.3827 - val_categorical_accuracy: 0.8900\n",
      "\n",
      "Epoch 00026: saving model to model_init_2020-04-1115_43_38.721918/model-00026-0.08686-0.97744-0.38272-0.89000.h5\n",
      "Epoch 27/30\n",
      "133/133 [==============================] - 34s 255ms/step - loss: 0.1152 - categorical_accuracy: 0.9599 - val_loss: 0.2289 - val_categorical_accuracy: 0.9300\n",
      "\n",
      "Epoch 00027: saving model to model_init_2020-04-1115_43_38.721918/model-00027-0.11522-0.95990-0.22886-0.93000.h5\n",
      "Epoch 28/30\n",
      "133/133 [==============================] - 34s 255ms/step - loss: 0.1350 - categorical_accuracy: 0.9599 - val_loss: 0.2725 - val_categorical_accuracy: 0.9100\n",
      "\n",
      "Epoch 00028: saving model to model_init_2020-04-1115_43_38.721918/model-00028-0.13499-0.95990-0.27248-0.91000.h5\n",
      "\n",
      "Epoch 00028: ReduceLROnPlateau reducing learning rate to 0.0001250000059371814.\n",
      "Epoch 29/30\n"
     ]
    },
    {
     "name": "stdout",
     "output_type": "stream",
     "text": [
      "133/133 [==============================] - 34s 257ms/step - loss: 0.0918 - categorical_accuracy: 0.9674 - val_loss: 0.2553 - val_categorical_accuracy: 0.9200\n",
      "\n",
      "Epoch 00029: saving model to model_init_2020-04-1115_43_38.721918/model-00029-0.09175-0.96742-0.25535-0.92000.h5\n",
      "Epoch 30/30\n",
      "133/133 [==============================] - 34s 254ms/step - loss: 0.0412 - categorical_accuracy: 0.9875 - val_loss: 0.1982 - val_categorical_accuracy: 0.9400\n",
      "\n",
      "Epoch 00030: saving model to model_init_2020-04-1115_43_38.721918/model-00030-0.04117-0.98747-0.19819-0.94000.h5\n"
     ]
    },
    {
     "data": {
      "text/plain": [
       "<keras.callbacks.History at 0x7f4a8b66f9e8>"
      ]
     },
     "execution_count": 59,
     "metadata": {},
     "output_type": "execute_result"
    }
   ],
   "source": [
    "batch_size = 5\n",
    "train_generator = generator(train_path, train_doc, batch_size)\n",
    "val_generator = generator(val_path, val_doc, batch_size)\n",
    "\n",
    "model_name = 'model_init' + '_' + str(curr_dt_time).replace(' ','').replace(':','_') + '/'\n",
    "\n",
    "if not os.path.exists(model_name):\n",
    "    os.mkdir(model_name)\n",
    "        \n",
    "filepath = model_name + 'model-{epoch:05d}-{loss:.5f}-{categorical_accuracy:.5f}-{val_loss:.5f}-{val_categorical_accuracy:.5f}.h5'\n",
    "\n",
    "checkpoint = ModelCheckpoint(filepath, monitor='val_loss', verbose=1, save_best_only=False, save_weights_only=False, mode='auto', period=1)\n",
    "\n",
    "# We have changed the Check point so that the best model gets saved. we are getting some NO SPACE ISSUE in NImbleBox, hence we have to do so\n",
    "LR = ReduceLROnPlateau(monitor='val_loss', factor=0.5, patience=3, cooldown=1, verbose=1)# write the REducelronplateau code here\n",
    "callbacks_list = [checkpoint, LR]\n",
    "\n",
    "if (num_train_sequences%batch_size) == 0:\n",
    "    steps_per_epoch = int(num_train_sequences/batch_size)\n",
    "else:\n",
    "    steps_per_epoch = (num_train_sequences//batch_size) + 1\n",
    "\n",
    "if (num_val_sequences%batch_size) == 0:\n",
    "    validation_steps = int(num_val_sequences/batch_size)\n",
    "else:\n",
    "    validation_steps = (num_val_sequences//batch_size) + 1\n",
    "    \n",
    "    \n",
    "num_epochs = 30\n",
    "model_mobile_net_gru.fit_generator(train_generator, steps_per_epoch=steps_per_epoch, epochs=num_epochs, verbose=1, \n",
    "                    callbacks=callbacks_list, validation_data=val_generator, \n",
    "                    validation_steps=validation_steps, class_weight=None, workers=1, initial_epoch=0)"
   ]
  },
  {
   "cell_type": "markdown",
   "metadata": {},
   "source": [
    "GRU model is also overfitting. We'll try this model with larger batch size again"
   ]
  },
  {
   "cell_type": "code",
   "execution_count": 60,
   "metadata": {},
   "outputs": [
    {
     "data": {
      "image/png": "[encoded data removed]",
      "text/plain": [
       "<Figure size 432x288 with 1 Axes>"
      ]
     },
     "metadata": {},
     "output_type": "display_data"
    },
    {
     "data": {
      "image/png": "[encoded data removed]",
      "text/plain": [
       "<Figure size 432x288 with 1 Axes>"
      ]
     },
     "metadata": {},
     "output_type": "display_data"
    }
   ],
   "source": [
    "mobile_gru = pd.DataFrame(model_mobile_net_gru.history.history)\n",
    "\n",
    "mobile_gru[['val_loss','loss']].plot(title='Loss', grid=True)\n",
    "mobile_gru[['val_categorical_accuracy','categorical_accuracy']].plot(title='Categorical Accuracy', grid=True)\n",
    "plt.show()\n"
   ]
  },
  {
   "cell_type": "markdown",
   "metadata": {},
   "source": [
    "### Conclusion"
   ]
  },
  {
   "cell_type": "markdown",
   "metadata": {},
   "source": [
    "The CNN-RNN model with Transfer learning using mobilenet gives us good accuracy on training and validation set when we use 16 frames while using the same model on 30 ferames gives us the resource exhaustion error. CNN-RNN without transfer learning overfits highly on the model. The 3D convolution performs good on the model when the model is having full 30 frames which makes it an obvious choice for the modelling for video analysis."
   ]
  },
  {
   "cell_type": "markdown",
   "metadata": {},
   "source": [
    "#### Presented By:\n",
    "\n",
    "- Atul Mishra \n",
    "- Shreyansh Behani"
   ]
  },
  {
   "cell_type": "code",
   "execution_count": null,
   "metadata": {},
   "outputs": [],
   "source": []
  }
 ],
 "metadata": {
  "kernelspec": {
   "display_name": "Python 3",
   "language": "python",
   "name": "python3"
  },
  "language_info": {
   "codemirror_mode": {
    "name": "ipython",
    "version": 3
   },
   "file_extension": ".py",
   "mimetype": "text/x-python",
   "name": "python",
   "nbconvert_exporter": "python",
   "pygments_lexer": "ipython3",
   "version": "3.6.8"
  }
 },
 "nbformat": 4,
 "nbformat_minor": 2
}
