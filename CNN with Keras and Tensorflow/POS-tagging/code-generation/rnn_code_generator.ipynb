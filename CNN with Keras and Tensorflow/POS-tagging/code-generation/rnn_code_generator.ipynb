{
 "cells": [
  {
   "cell_type": "markdown",
   "metadata": {},
   "source": [
    "# Text generation using RNN - Character Level\n",
    "\n",
    "To generate text using RNN, we need a to convert raw text to a supervised learning problem format.\n",
    "\n",
    "Take, for example, the following corpus:\n",
    "\n",
    "\"Her brother shook his head incredulously\"\n",
    "\n",
    "First we need to divide the data into tabular format containing input (X) and output (y) sequences. In case of a character level model, the X and y will look like this:\n",
    "\n",
    "|      X     |  Y  |\n",
    "|------------|-----|\n",
    "|    Her b   |  r  |\n",
    "|    er br   |  o  |\n",
    "|    r bro   |  t  |\n",
    "|     brot   |  h  |\n",
    "|    broth   |  e  |\n",
    "|    .....   |  .  |\n",
    "|    .....   |  .  |\n",
    "|    ulous   |  l  |\n",
    "|    lousl   |  y  |\n",
    "\n",
    "Note that in the above problem, the sequence length of X is five characters and that of y is one character. Hence, this is a many-to-one architecture. We can, however, change the number of input characters to any number of characters depending on the type of problem.\n",
    "\n",
    "A model is trained on such data. To generate text, we simply give the model any five characters using which it predicts the next character. Then it appends the predicted character to the input sequence (on the extreme right of the sequence) and discards the first character (character on extreme left of the sequence). Then it predicts again using the new sequence and the cycle continues until a fix number of iterations. An example is shown below:\n",
    "\n",
    "Seed text: \"incre\"\n",
    "\n",
    "|      X                                            |  Y                       |\n",
    "|---------------------------------------------------|--------------------------|\n",
    "|                        incre                      |    < predicted char 1 >  |\n",
    "|               ncre < predicted char 1 >              |    < predicted char 2 >  |\n",
    "|       cre< predicted char 1 > < predicted char 2 >   |    < predicted char 3 >  |\n",
    "|       re< predicted char 1 >< predicted char 2 > < predicted char 3 >   |    < predicted char 4 >  |\n",
    "|                      ...                          |            ...           |"
   ]
  },
  {
   "cell_type": "markdown",
   "metadata": {},
   "source": [
    "# Notebook Overview\n",
    "1. Preprocess data\n",
    "2. LSTM model\n",
    "3. Generate code"
   ]
  },
  {
   "cell_type": "code",
   "execution_count": 1,
   "metadata": {
    "colab": {
     "base_uri": "https://localhost:8080/",
     "height": 34
    },
    "colab_type": "code",
    "id": "4Sa28LJ6YqdD",
    "outputId": "ae782caf-f9d1-43fe-aa32-4f2ccf02cfe0"
   },
   "outputs": [
    {
     "name": "stderr",
     "output_type": "stream",
     "text": [
      "Using TensorFlow backend.\n"
     ]
    }
   ],
   "source": [
    "# import libraries\n",
    "import warnings\n",
    "warnings.filterwarnings(\"ignore\")\n",
    "\n",
    "import os\n",
    "import re\n",
    "import numpy as np\n",
    "import random\n",
    "import sys\n",
    "import io\n",
    "from __future__ import print_function\n",
    "from keras.models import Sequential\n",
    "from keras.layers import Dense, Activation\n",
    "from keras.layers import LSTM\n",
    "from keras.optimizers import Adam\n",
    "from keras.utils.data_utils import get_file"
   ]
  },
  {
   "cell_type": "markdown",
   "metadata": {},
   "source": [
    "# 1. Preprocess data"
   ]
  },
  {
   "cell_type": "markdown",
   "metadata": {},
   "source": [
    "We're going to build a C code generator by training an RNN on a huge corpus of C code (the linux kernel code). You can download the C code used as source text from the following link:\n",
    "https://github.com/torvalds/linux/tree/master/kernel\n",
    "\n",
    "We have already downloaded the entire kernel folder and stored in a local directory"
   ]
  },
  {
   "cell_type": "markdown",
   "metadata": {},
   "source": [
    "## Load C code"
   ]
  },
  {
   "cell_type": "code",
   "execution_count": 2,
   "metadata": {
    "colab": {
     "base_uri": "https://localhost:8080/",
     "height": 231
    },
    "colab_type": "code",
    "id": "hO1StR3rX72I",
    "outputId": "42079a21-0a71-4fba-c90a-b13e3acbb909"
   },
   "outputs": [
    {
     "name": "stdout",
     "output_type": "stream",
     "text": [
      "['arraymap.c', 'internals.h', 'trace_kprobe.c', 'swait.c', 'gcc_4_7.c', 'trace_functions_graph.c', 'elfcore.c', 'timer.c', 'ring_buffer.c', 'user-return-notifier.c', 'base.c', 'trace_kprobe_selftest.c', 'proc.c', 'resend.c', 'module-internal.h', 'lockdep_states.h', 'swap.c', 'power.h', 'timekeeping.h', 'clockevents.c', 'jump_label.c', 'console_cmdline.h', 'rstat.c', 'printk_safe.c', 'blktrace.c', 'trace_benchmark.h', 'syscall.c', 'devres.c', 'tick-sched.c', 'kdb_main.c', 'smpboot.h', 'autogroup.h', 'cpu_pm.c', 'cpumap.c', 'utsname_sysctl.c', 'timekeeping_debug.c', 'trace_kdb.c', 'Kconfig.hz', 'trace_event_perf.c', 'cpudeadline.h', 'posix-clock.c', 'pelt.c', 'ring_buffer_benchmark.c', 'trace_nop.c', 'user.c', 'loadavg.c', 'timekeeping.c', 'tick-oneshot.c', 'isolation.c', 'stats.c', 'lockdep_internals.h', 'trace_events_filter_test.h', 'cpuset.c', 'torture.c', 'wait.c', 'trace.h', 'kdb_bt.c', 'chip.c', 'trace_events.c', 'core.h', 'exit.c', 'pid.c', 'offload.c', 'irq_sim.c', 'sched_clock.c', 'profile.c', 'kdb_keyboard.c', 'timeconv.c', 'tick-broadcast.c', 'mcs_spinlock.h', 'clocksource.c', 'patch.c', 'Kconfig', 'trace_stat.c', 'xskmap.c', 'handle.c', 'mutex-debug.c', 'reboot.c', 'generic-chip.c', 'taskstats.c', 'stop_machine.c', 'tick-broadcast-hrtimer.c', 'async.c', 'trace_selftest.c', 'mutex-debug.h', 'trace_branch.c', 'backtracetest.c', 'kcov.c', 'notifier.c', 'cpuhotplug.c', 'smpboot.c', 'Kconfig.preempt', 'cpufreq.c', 'callchain.c', 'trace_preemptirq.c', 'patch.h', 'kthread.c', 'ksysfs.c', 'trace_irqsoff.c', 'ntp_internal.h', 'rseq.c', 'kexec.c', 'fail_function.c', 'trace_benchmark.c', 'swiotlb.c', 'trace_stack.c', 'iomem.c', 'kallsyms.c', 'rtmutex_common.h', 'braille.c', 'osq_lock.c', 'sched.h', 'settings.h', 'stackmap.c', 'trace_events_hist.c', '.gitignore', 'resource.c', 'audit.h', 'posix-stubs.c', 'sysctl_binary.c', 'virt.c', 'shadow.c', 'mutex.c', 'features.h', 'futex_compat.c', 'lpm_trie.c', 'helpers.c', 'audit.c', 'timekeeping_internal.h', 'kdb_support.c', 'trace_clock.c', 'wait_bit.c', 'trace_probe.c', '.get_maintainer.ignore', 'futex.c', 'kexec_file.c', 'inode.c', 'rtmutex.h', 'Kbuild', 'hibernate.c', 'pids.c', 'cgroup.c', '.cocciconfig', 'trace_printk.c', 'README', 'uid16.c', 'trace_probe.h', 'namespace.c', 'qspinlock_paravirt.h', 'qspinlock.c', 'utsname.c', 'test-ww_mutex.c', 'extable.c', 'mapping.c', 'MAINTAINERS', '.gitattributes', 'tick-internal.h', 'task_work.c', 'fair.c', 'process.c', 'bpf_lru_list.h', 'audit_fsnotify.c', 'fork.c', 'braille.h', 'tick-sched.h', 'trace_uprobe.c', 'percpu_freelist.c', 'manage.c', 'btf.c', 'Makefile', 'cpupri.c', 'trace_stat.h', 'trace_hwlat.c', 'debugfs.c', 'direct.c', 'softirq.c', 'snapshot.c', 'cputime.c', 'auditsc.c', 'module.c', 'hashtab.c', 'clock.c', 'poweroff.c', 'console.c', 'uprobes.c', 'tsacct.c', 'params.c', 'autoprobe.c', 'COPYING', 'stats.h', 'panic.c', 'deadline.c', 'map_in_map.h', 'crash_core.c', 'transition.h', 'range.c', 'debug.h', 'time.c', 'verifier.c', 'qos.c', 'spinlock_debug.c', 'spurious.c', 'wakelock.c', 'coherent.c', 'kexec_core.c', 'trace_selftest_dynamic.c', 'rtmutex-debug.h', 'gdbstub.c', 'watchdog_hld.c', 'rtmutex-debug.c', 'topology.c', 'cpuacct.c', 'sys.c', 'up.c', 'debug_core.h', 'uid16.h', 'configs.c', 'test_kprobes.c', '.mailmap', 'cpu.c', 'lockdep_proc.c', 'debug_core.c', 'fs.c', 'itimer.c', 'trace_seq.c', 'trace_events_trigger.c', 'spinlock.c', 'kdb_io.c', 'linux-kernel.zip', 'acct.c', 'tnum.c', 'trace_sched_switch.c', 'lockdep.c', 'CREDITS', 'stacktrace.c', 'trace_syscalls.c', 'nsproxy.c', 'stop_task.c', 'user_namespace.c', 'auditfilter.c', 'trace_functions.c', 'main.c', 'alarmtimer.c', 'rt.c', 'pelt.h', 'trace_output.c', 'seccomp.c', 'ftrace.c', 'jiffies.c', 'idle.c', 'ucount.c', 'sched-pelt.h', 'sockmap.c', 'smp.c', 'rdma.c', 'ntp.c', 'affinity.c', 'reuseport_array.c', 'workqueue.c', 'printk.c', 'trace_sched_wakeup.c', 'irqdomain.c', 'percpu_freelist.h', 'qrwlock.c', 'pm.c', 'posix-timers.h', 'Kconfig.freezer', 'memremap.c', 'compat.c', 'dma.c', 'capability.c', 'timecounter.c', 'completion.c', 'rwsem-spinlock.c', 'timeconst.bc', 'posix-timers.c', 'rtmutex.c', 'migration.c', 'delayacct.c', 'tick-common.c', 'audit_tree.c', 'relay.c', 'noncoherent.c', 'crash_dump.c', 'suspend_test.c', 'hrtimer.c', 'kdb_debugger.c', 'preemptirq_delay_test.c', 'pid_namespace.c', 'percpu-rwsem.c', 'signal.c', 'watchdog.c', 'cpupri.h', 'module_signing.c', 'exec_domain.c', 'bpf_trace.c', 'kmod.c', 'freezer.c', 'rwsem.c', 'rwsem-xadd.c', 'kprobes.c', 'kexec_internal.h', 'gcc_3_4.c', 'audit_watch.c', 'trace_export.c', 'cgroup-internal.h', 'test_udelay.c', 'core.c', 'dummychip.c', 'groups.c', 'msi.c', 'hung_task.c', 'locktorture.c', 'trace_entries.h', 'kcmp.c', 'trace_events_filter.c', 'workqueue_internal.h', 'tracing_map.h', 'timings.c', 'rpm-traces.c', 'ptrace.c', 'kdb_cmds', 'trace_mmiotrace.c', 'qspinlock_stat.h', 'cred.c', 'padata.c', 'kdb_bp.c', 'contiguous.c', 'map_in_map.c', 'irq_work.c', 'mutex.h', 'local_storage.c', 'bounds.c', 'latencytop.c', 'matrix.c', 'kdb_private.h', 'sys_ni.c', 'timer_list.c', 'cpudeadline.c', 'tracepoint.c', 'autosleep.c', 'gcov.h', 'irqdesc.c', 'membarrier.c', 'suspend.c', 'trace_kprobe_selftest.h', 'autogroup.c', 'bpf_lru_list.c', 'posix-cpu-timers.c', 'semaphore.c', 'power-traces.c', 'cgroup-v1.c', 'trace.c', 'hw_breakpoint.c', 'transition.c', 'tracing_map.c', 'disasm.c', 'disasm.h', 'sysctl.c', 'ipi.c', 'devmap.c', 'internal.h', 'debug.c', 'context_tracking.c', 'rwsem.h', 'Kconfig.locks', 'trace_output.h', 'umh.c', 'cpufreq_schedutil.c']\n"
     ]
    }
   ],
   "source": [
    "# set path where C files reside\n",
    "\n",
    "path = r\"storage/linux-kernel\"\n",
    "\n",
    "os.chdir(path)\n",
    "\n",
    "file_names = os.listdir()\n",
    "print(file_names)"
   ]
  },
  {
   "cell_type": "code",
   "execution_count": 3,
   "metadata": {
    "colab": {
     "base_uri": "https://localhost:8080/",
     "height": 54
    },
    "colab_type": "code",
    "id": "jg9HW8HwYlga",
    "outputId": "851307c1-b3f1-4fc6-c191-76962a66052b"
   },
   "outputs": [
    {
     "name": "stdout",
     "output_type": "stream",
     "text": [
      "['arraymap.c', 'trace_kprobe.c', 'swait.c', 'gcc_4_7.c', 'trace_functions_graph.c', 'elfcore.c', 'timer.c', 'ring_buffer.c', 'user-return-notifier.c', 'base.c', 'trace_kprobe_selftest.c', 'proc.c', 'resend.c', 'swap.c', 'clockevents.c', 'jump_label.c', 'rstat.c', 'printk_safe.c', 'blktrace.c', 'syscall.c', 'devres.c', 'tick-sched.c', 'kdb_main.c', 'cpu_pm.c', 'cpumap.c', 'utsname_sysctl.c', 'timekeeping_debug.c', 'trace_kdb.c', 'trace_event_perf.c', 'posix-clock.c', 'pelt.c', 'ring_buffer_benchmark.c', 'trace_nop.c', 'user.c', 'loadavg.c', 'timekeeping.c', 'tick-oneshot.c', 'isolation.c', 'stats.c', 'cpuset.c', 'torture.c', 'wait.c', 'kdb_bt.c', 'chip.c', 'trace_events.c', 'exit.c', 'pid.c', 'offload.c', 'irq_sim.c', 'sched_clock.c', 'profile.c', 'kdb_keyboard.c', 'timeconv.c', 'tick-broadcast.c', 'clocksource.c', 'patch.c', 'trace_stat.c', 'xskmap.c', 'handle.c', 'mutex-debug.c', 'reboot.c', 'generic-chip.c', 'taskstats.c', 'stop_machine.c', 'tick-broadcast-hrtimer.c', 'async.c', 'trace_selftest.c', 'trace_branch.c', 'backtracetest.c', 'kcov.c', 'notifier.c', 'cpuhotplug.c', 'smpboot.c', 'cpufreq.c', 'callchain.c', 'trace_preemptirq.c', 'kthread.c', 'ksysfs.c', 'trace_irqsoff.c', 'rseq.c', 'kexec.c', 'fail_function.c', 'trace_benchmark.c', 'swiotlb.c', 'trace_stack.c', 'iomem.c', 'kallsyms.c', 'braille.c', 'osq_lock.c', 'stackmap.c', 'trace_events_hist.c', 'resource.c', 'posix-stubs.c', 'sysctl_binary.c', 'virt.c', 'shadow.c', 'mutex.c', 'futex_compat.c', 'lpm_trie.c', 'helpers.c', 'audit.c', 'kdb_support.c', 'trace_clock.c', 'wait_bit.c', 'trace_probe.c', 'futex.c', 'kexec_file.c', 'inode.c', 'hibernate.c', 'pids.c', 'cgroup.c', 'trace_printk.c', 'uid16.c', 'namespace.c', 'qspinlock.c', 'utsname.c', 'test-ww_mutex.c', 'extable.c', 'mapping.c', 'task_work.c', 'fair.c', 'process.c', 'audit_fsnotify.c', 'fork.c', 'trace_uprobe.c', 'percpu_freelist.c', 'manage.c', 'btf.c', 'cpupri.c', 'trace_hwlat.c', 'debugfs.c', 'direct.c', 'softirq.c', 'snapshot.c', 'cputime.c', 'auditsc.c', 'module.c', 'hashtab.c', 'clock.c', 'poweroff.c', 'console.c', 'uprobes.c', 'tsacct.c', 'params.c', 'autoprobe.c', 'panic.c', 'deadline.c', 'crash_core.c', 'range.c', 'time.c', 'verifier.c', 'qos.c', 'spinlock_debug.c', 'spurious.c', 'wakelock.c', 'coherent.c', 'kexec_core.c', 'trace_selftest_dynamic.c', 'gdbstub.c', 'watchdog_hld.c', 'rtmutex-debug.c', 'topology.c', 'cpuacct.c', 'sys.c', 'up.c', 'configs.c', 'test_kprobes.c', 'cpu.c', 'lockdep_proc.c', 'debug_core.c', 'fs.c', 'itimer.c', 'trace_seq.c', 'trace_events_trigger.c', 'spinlock.c', 'kdb_io.c', 'acct.c', 'tnum.c', 'trace_sched_switch.c', 'lockdep.c', 'stacktrace.c', 'trace_syscalls.c', 'nsproxy.c', 'stop_task.c', 'user_namespace.c', 'auditfilter.c', 'trace_functions.c', 'main.c', 'alarmtimer.c', 'rt.c', 'trace_output.c', 'seccomp.c', 'ftrace.c', 'jiffies.c', 'idle.c', 'ucount.c', 'sockmap.c', 'smp.c', 'rdma.c', 'ntp.c', 'affinity.c', 'reuseport_array.c', 'workqueue.c', 'printk.c', 'trace_sched_wakeup.c', 'irqdomain.c', 'qrwlock.c', 'pm.c', 'memremap.c', 'compat.c', 'dma.c', 'capability.c', 'timecounter.c', 'completion.c', 'rwsem-spinlock.c', 'posix-timers.c', 'rtmutex.c', 'migration.c', 'delayacct.c', 'tick-common.c', 'audit_tree.c', 'relay.c', 'noncoherent.c', 'crash_dump.c', 'suspend_test.c', 'hrtimer.c', 'kdb_debugger.c', 'preemptirq_delay_test.c', 'pid_namespace.c', 'percpu-rwsem.c', 'signal.c', 'watchdog.c', 'module_signing.c', 'exec_domain.c', 'bpf_trace.c', 'kmod.c', 'freezer.c', 'rwsem.c', 'rwsem-xadd.c', 'kprobes.c', 'gcc_3_4.c', 'audit_watch.c', 'trace_export.c', 'test_udelay.c', 'core.c', 'dummychip.c', 'groups.c', 'msi.c', 'hung_task.c', 'locktorture.c', 'kcmp.c', 'trace_events_filter.c', 'timings.c', 'rpm-traces.c', 'ptrace.c', 'trace_mmiotrace.c', 'cred.c', 'padata.c', 'kdb_bp.c', 'contiguous.c', 'map_in_map.c', 'irq_work.c', 'local_storage.c', 'bounds.c', 'latencytop.c', 'matrix.c', 'sys_ni.c', 'timer_list.c', 'cpudeadline.c', 'tracepoint.c', 'autosleep.c', 'irqdesc.c', 'membarrier.c', 'suspend.c', 'autogroup.c', 'bpf_lru_list.c', 'posix-cpu-timers.c', 'semaphore.c', 'power-traces.c', 'cgroup-v1.c', 'trace.c', 'hw_breakpoint.c', 'transition.c', 'tracing_map.c', 'disasm.c', 'sysctl.c', 'ipi.c', 'devmap.c', 'debug.c', 'context_tracking.c', 'umh.c', 'cpufreq_schedutil.c']\n"
     ]
    }
   ],
   "source": [
    "# use regex to filter .c files\n",
    "import re\n",
    "c_names = \".*\\.c$\"\n",
    "\n",
    "c_files = list()\n",
    "\n",
    "for file in file_names:\n",
    "    if re.match(c_names, file):\n",
    "        c_files.append(file)\n",
    "\n",
    "print(c_files)"
   ]
  },
  {
   "cell_type": "code",
   "execution_count": 4,
   "metadata": {
    "colab": {},
    "colab_type": "code",
    "collapsed": true,
    "id": "QAbtuy5ZY87t"
   },
   "outputs": [],
   "source": [
    "# load all c code in a list\n",
    "full_code = list()\n",
    "for file in c_files:\n",
    "    code = open(file, \"r\", encoding='utf-8')\n",
    "    full_code.append(code.read())\n",
    "    code.close()"
   ]
  },
  {
   "cell_type": "code",
   "execution_count": 5,
   "metadata": {
    "scrolled": false
   },
   "outputs": [
    {
     "name": "stdout",
     "output_type": "stream",
     "text": [
      "// SPDX-License-Identifier: GPL-2.0\n",
      "#include <linux/module.h>\n",
      "#include <linux/interrupt.h>\n",
      "#include <linux/device.h>\n",
      "#include <linux/gfp.h>\n",
      "#include <linux/irq.h>\n",
      "\n",
      "#include \"internals.h\"\n",
      "\n",
      "/*\n",
      " * Device resource management aware IRQ request/free implementation.\n",
      " */\n",
      "struct irq_devres {\n",
      "\tunsigned int irq;\n",
      "\tvoid *dev_id;\n",
      "};\n",
      "\n",
      "static void devm_irq_release(struct device *dev, void *res)\n",
      "{\n",
      "\tstruct irq_devres *this = res;\n",
      "\n",
      "\tfree_irq(this->irq, this->dev_id);\n",
      "}\n",
      "\n",
      "static int devm_irq_match(struct device *dev, void *res, void *data)\n",
      "{\n",
      "\tstruct irq_devres *this = res, *match = data;\n",
      "\n",
      "\treturn this->irq == match->irq && this->dev_id == match->dev_id;\n",
      "}\n",
      "\n",
      "/**\n",
      " *\tdevm_request_threaded_irq - allocate an interrupt line for a managed device\n",
      " *\t@dev: device to request interrupt for\n",
      " *\t@irq: Interrupt line to allocate\n",
      " *\t@handler: Function to be called when the IRQ occurs\n",
      " *\t@thread_fn: function to be called in a threaded interrupt context. NULL\n",
      " *\t\t    for devices which handle everything in @handler\n",
      " *\t@irqflags: Interrupt type flags\n",
      " *\t@devname: An ascii name for the claiming device, dev_name(dev) if NULL\n",
      " *\t@dev_id: A cookie passed back to the handler function\n",
      " *\n",
      " *\tExcept for the extra @dev argument, this function takes the\n",
      " *\tsame arguments and performs the same function as\n",
      " *\trequest_threaded_irq().  IRQs requested with this function will be\n",
      " *\tautomatically freed on driver detach.\n",
      " *\n",
      " *\tIf an IRQ allocated with this function needs to be freed\n",
      " *\tseparately, devm_free_irq() must be used.\n",
      " */\n",
      "int devm_request_threaded_irq(struct device *dev, unsigned int irq,\n",
      "\t\t\t      irq_handler_t handler, irq_handler_t thread_fn,\n",
      "\t\t\t      unsigned long irqflags, const char *devname,\n",
      "\t\t\t      void *dev_id)\n",
      "{\n",
      "\tstruct irq_devres *dr;\n",
      "\tint rc;\n",
      "\n",
      "\tdr = devres_alloc(devm_irq_release, sizeof(struct irq_devres),\n",
      "\t\t\t  GFP_KERNEL);\n",
      "\tif (!dr)\n",
      "\t\treturn -ENOMEM;\n",
      "\n",
      "\tif (!devname)\n",
      "\t\tdevname = dev_name(dev);\n",
      "\n",
      "\trc = request_threaded_irq(irq, handler, thread_fn, irqflags, devname,\n",
      "\t\t\t\t  dev_id);\n",
      "\tif (rc) {\n",
      "\t\tdevres_free(dr);\n",
      "\t\treturn rc;\n",
      "\t}\n",
      "\n",
      "\tdr->irq = irq;\n",
      "\tdr->dev_id = dev_id;\n",
      "\tdevres_add(dev, dr);\n",
      "\n",
      "\treturn 0;\n",
      "}\n",
      "EXPORT_SYMBOL(devm_request_threaded_irq);\n",
      "\n",
      "/**\n",
      " *\tdevm_request_any_context_irq - allocate an interrupt line for a managed device\n",
      " *\t@dev: device to request interrupt for\n",
      " *\t@irq: Interrupt line to allocate\n",
      " *\t@handler: Function to be called when the IRQ occurs\n",
      " *\t@thread_fn: function to be called in a threaded interrupt context. NULL\n",
      " *\t\t    for devices which handle everything in @handler\n",
      " *\t@irqflags: Interrupt type flags\n",
      " *\t@devname: An ascii name for the claiming device, dev_name(dev) if NULL\n",
      " *\t@dev_id: A cookie passed back to the handler function\n",
      " *\n",
      " *\tExcept for the extra @dev argument, this function takes the\n",
      " *\tsame arguments and performs the same function as\n",
      " *\trequest_any_context_irq().  IRQs requested with this function will be\n",
      " *\tautomatically freed on driver detach.\n",
      " *\n",
      " *\tIf an IRQ allocated with this function needs to be freed\n",
      " *\tseparately, devm_free_irq() must be used.\n",
      " */\n",
      "int devm_request_any_context_irq(struct device *dev, unsigned int irq,\n",
      "\t\t\t      irq_handler_t handler, unsigned long irqflags,\n",
      "\t\t\t      const char *devname, void *dev_id)\n",
      "{\n",
      "\tstruct irq_devres *dr;\n",
      "\tint rc;\n",
      "\n",
      "\tdr = devres_alloc(devm_irq_release, sizeof(struct irq_devres),\n",
      "\t\t\t  GFP_KERNEL);\n",
      "\tif (!dr)\n",
      "\t\treturn -ENOMEM;\n",
      "\n",
      "\tif (!devname)\n",
      "\t\tdevname = dev_name(dev);\n",
      "\n",
      "\trc = request_any_context_irq(irq, handler, irqflags, devname, dev_id);\n",
      "\tif (rc < 0) {\n",
      "\t\tdevres_free(dr);\n",
      "\t\treturn rc;\n",
      "\t}\n",
      "\n",
      "\tdr->irq = irq;\n",
      "\tdr->dev_id = dev_id;\n",
      "\tdevres_add(dev, dr);\n",
      "\n",
      "\treturn rc;\n",
      "}\n",
      "EXPORT_SYMBOL(devm_request_any_context_irq);\n",
      "\n",
      "/**\n",
      " *\tdevm_free_irq - free an interrupt\n",
      " *\t@dev: device to free interrupt for\n",
      " *\t@irq: Interrupt line to free\n",
      " *\t@dev_id: Device identity to free\n",
      " *\n",
      " *\tExcept for the extra @dev argument, this function takes the\n",
      " *\tsame arguments and performs the same function as free_irq().\n",
      " *\tThis function instead of free_irq() should be used to manually\n",
      " *\tfree IRQs allocated with devm_request_irq().\n",
      " */\n",
      "void devm_free_irq(struct device *dev, unsigned int irq, void *dev_id)\n",
      "{\n",
      "\tstruct irq_devres match_data = { irq, dev_id };\n",
      "\n",
      "\tWARN_ON(devres_destroy(dev, devm_irq_release, devm_irq_match,\n",
      "\t\t\t       &match_data));\n",
      "\tfree_irq(irq, dev_id);\n",
      "}\n",
      "EXPORT_SYMBOL(devm_free_irq);\n",
      "\n",
      "struct irq_desc_devres {\n",
      "\tunsigned int from;\n",
      "\tunsigned int cnt;\n",
      "};\n",
      "\n",
      "static void devm_irq_desc_release(struct device *dev, void *res)\n",
      "{\n",
      "\tstruct irq_desc_devres *this = res;\n",
      "\n",
      "\tirq_free_descs(this->from, this->cnt);\n",
      "}\n",
      "\n",
      "/**\n",
      " * __devm_irq_alloc_descs - Allocate and initialize a range of irq descriptors\n",
      " *\t\t\t    for a managed device\n",
      " * @dev:\tDevice to allocate the descriptors for\n",
      " * @irq:\tAllocate for specific irq number if irq >= 0\n",
      " * @from:\tStart the search from this irq number\n",
      " * @cnt:\tNumber of consecutive irqs to allocate\n",
      " * @node:\tPreferred node on which the irq descriptor should be allocated\n",
      " * @owner:\tOwning module (can be NULL)\n",
      " * @affinity:\tOptional pointer to an affinity mask array of size @cnt\n",
      " *\t\twhich hints where the irq descriptors should be allocated\n",
      " *\t\tand which default affinities to use\n",
      " *\n",
      " * Returns the first irq number or error code.\n",
      " *\n",
      " * Note: Use the provided wrappers (devm_irq_alloc_desc*) for simplicity.\n",
      " */\n",
      "int __devm_irq_alloc_descs(struct device *dev, int irq, unsigned int from,\n",
      "\t\t\t   unsigned int cnt, int node, struct module *owner,\n",
      "\t\t\t   const struct cpumask *affinity)\n",
      "{\n",
      "\tstruct irq_desc_devres *dr;\n",
      "\tint base;\n",
      "\n",
      "\tdr = devres_alloc(devm_irq_desc_release, sizeof(*dr), GFP_KERNEL);\n",
      "\tif (!dr)\n",
      "\t\treturn -ENOMEM;\n",
      "\n",
      "\tbase = __irq_alloc_descs(irq, from, cnt, node, owner, affinity);\n",
      "\tif (base < 0) {\n",
      "\t\tdevres_free(dr);\n",
      "\t\treturn base;\n",
      "\t}\n",
      "\n",
      "\tdr->from = base;\n",
      "\tdr->cnt = cnt;\n",
      "\tdevres_add(dev, dr);\n",
      "\n",
      "\treturn base;\n",
      "}\n",
      "EXPORT_SYMBOL_GPL(__devm_irq_alloc_descs);\n",
      "\n",
      "#ifdef CONFIG_GENERIC_IRQ_CHIP\n",
      "/**\n",
      " * devm_irq_alloc_generic_chip - Allocate and initialize a generic chip\n",
      " *                               for a managed device\n",
      " * @dev:\tDevice to allocate the generic chip for\n",
      " * @name:\tName of the irq chip\n",
      " * @num_ct:\tNumber of irq_chip_type instances associated with this\n",
      " * @irq_base:\tInterrupt base nr for this chip\n",
      " * @reg_base:\tRegister base address (virtual)\n",
      " * @handler:\tDefault flow handler associated with this chip\n",
      " *\n",
      " * Returns an initialized irq_chip_generic structure. The chip defaults\n",
      " * to the primary (index 0) irq_chip_type and @handler\n",
      " */\n",
      "struct irq_chip_generic *\n",
      "devm_irq_alloc_generic_chip(struct device *dev, const char *name, int num_ct,\n",
      "\t\t\t    unsigned int irq_base, void __iomem *reg_base,\n",
      "\t\t\t    irq_flow_handler_t handler)\n",
      "{\n",
      "\tstruct irq_chip_generic *gc;\n",
      "\tunsigned long sz = sizeof(*gc) + num_ct * sizeof(struct irq_chip_type);\n",
      "\n",
      "\tgc = devm_kzalloc(dev, sz, GFP_KERNEL);\n",
      "\tif (gc)\n",
      "\t\tirq_init_generic_chip(gc, name, num_ct,\n",
      "\t\t\t\t      irq_base, reg_base, handler);\n",
      "\n",
      "\treturn gc;\n",
      "}\n",
      "EXPORT_SYMBOL_GPL(devm_irq_alloc_generic_chip);\n",
      "\n",
      "struct irq_generic_chip_devres {\n",
      "\tstruct irq_chip_generic *gc;\n",
      "\tu32 msk;\n",
      "\tunsigned int clr;\n",
      "\tunsigned int set;\n",
      "};\n",
      "\n",
      "static void devm_irq_remove_generic_chip(struct device *dev, void *res)\n",
      "{\n",
      "\tstruct irq_generic_chip_devres *this = res;\n",
      "\n",
      "\tirq_remove_generic_chip(this->gc, this->msk, this->clr, this->set);\n",
      "}\n",
      "\n",
      "/**\n",
      " * devm_irq_setup_generic_chip - Setup a range of interrupts with a generic\n",
      " *                               chip for a managed device\n",
      " *\n",
      " * @dev:\tDevice to setup the generic chip for\n",
      " * @gc:\t\tGeneric irq chip holding all data\n",
      " * @msk:\tBitmask holding the irqs to initialize relative to gc->irq_base\n",
      " * @flags:\tFlags for initialization\n",
      " * @clr:\tIRQ_* bits to clear\n",
      " * @set:\tIRQ_* bits to set\n",
      " *\n",
      " * Set up max. 32 interrupts starting from gc->irq_base. Note, this\n",
      " * initializes all interrupts to the primary irq_chip_type and its\n",
      " * associated handler.\n",
      " */\n",
      "int devm_irq_setup_generic_chip(struct device *dev, struct irq_chip_generic *gc,\n",
      "\t\t\t\tu32 msk, enum irq_gc_flags flags,\n",
      "\t\t\t\tunsigned int clr, unsigned int set)\n",
      "{\n",
      "\tstruct irq_generic_chip_devres *dr;\n",
      "\n",
      "\tdr = devres_alloc(devm_irq_remove_generic_chip,\n",
      "\t\t\t  sizeof(*dr), GFP_KERNEL);\n",
      "\tif (!dr)\n",
      "\t\treturn -ENOMEM;\n",
      "\n",
      "\tirq_setup_generic_chip(gc, msk, flags, clr, set);\n",
      "\n",
      "\tdr->gc = gc;\n",
      "\tdr->msk = msk;\n",
      "\tdr->clr = clr;\n",
      "\tdr->set = set;\n",
      "\tdevres_add(dev, dr);\n",
      "\n",
      "\treturn 0;\n",
      "}\n",
      "EXPORT_SYMBOL_GPL(devm_irq_setup_generic_chip);\n",
      "#endif /* CONFIG_GENERIC_IRQ_CHIP */\n",
      "\n"
     ]
    }
   ],
   "source": [
    "# let's look at how a typical C code looks like\n",
    "print(full_code[20])"
   ]
  },
  {
   "cell_type": "code",
   "execution_count": 6,
   "metadata": {
    "colab": {
     "base_uri": "https://localhost:8080/",
     "height": 51
    },
    "colab_type": "code",
    "id": "4PvwiZVwY__A",
    "outputId": "8363fd91-2706-4d2d-c18d-fa275ff631ef"
   },
   "outputs": [
    {
     "name": "stdout",
     "output_type": "stream",
     "text": [
      "Total number of characters in entire code: 6615537\n"
     ]
    }
   ],
   "source": [
    "# merge different c codes into one big c code\n",
    "text = \"\\n\".join(full_code)\n",
    "print(\"Total number of characters in entire code: {}\".format(len(text)))"
   ]
  },
  {
   "cell_type": "code",
   "execution_count": 7,
   "metadata": {
    "colab": {},
    "colab_type": "code",
    "collapsed": true,
    "id": "GxDf0tsBb6Pq"
   },
   "outputs": [],
   "source": [
    "# top_n: only consider first top_n characters and discard the rest for memory and computational efficiency\n",
    "top_n = 400000\n",
    "text = text[:top_n]"
   ]
  },
  {
   "cell_type": "markdown",
   "metadata": {},
   "source": [
    "## Convert characters to integers"
   ]
  },
  {
   "cell_type": "code",
   "execution_count": 8,
   "metadata": {
    "colab": {
     "base_uri": "https://localhost:8080/",
     "height": 51
    },
    "colab_type": "code",
    "collapsed": true,
    "id": "_d5CrHJbaQhQ",
    "outputId": "0cde325b-25e4-4b54-afd2-af2bafec2b0c"
   },
   "outputs": [],
   "source": [
    "# create character to index mapping\n",
    "chars = sorted(list(set(text)))\n",
    "char_indices = dict((c, i) for i, c in enumerate(chars))\n",
    "indices_char = dict((i, c) for i, c in enumerate(chars))"
   ]
  },
  {
   "cell_type": "code",
   "execution_count": 9,
   "metadata": {},
   "outputs": [
    {
     "name": "stdout",
     "output_type": "stream",
     "text": [
      "Vocabulary size: 97\n"
     ]
    }
   ],
   "source": [
    "print(\"Vocabulary size: {}\".format(len(chars)))"
   ]
  },
  {
   "cell_type": "markdown",
   "metadata": {},
   "source": [
    "## Divide data in input (X) and output (y)"
   ]
  },
  {
   "cell_type": "markdown",
   "metadata": {},
   "source": [
    "### Create sequences"
   ]
  },
  {
   "cell_type": "code",
   "execution_count": 10,
   "metadata": {
    "collapsed": true
   },
   "outputs": [],
   "source": [
    "# define length for each sequence\n",
    "MAX_SEQ_LENGTH = 50          # number of input characters (X) in each sequence \n",
    "STEP           = 3           # increment between each sequence\n",
    "VOCAB_SIZE     = len(chars)  # total number of unique characters in dataset\n",
    "\n",
    "sentences  = []              # X\n",
    "next_chars = []              # y\n",
    "\n",
    "for i in range(0, len(text) - MAX_SEQ_LENGTH, STEP):\n",
    "    sentences.append(text[i: i + MAX_SEQ_LENGTH])\n",
    "    next_chars.append(text[i + MAX_SEQ_LENGTH])"
   ]
  },
  {
   "cell_type": "code",
   "execution_count": 11,
   "metadata": {},
   "outputs": [
    {
     "name": "stdout",
     "output_type": "stream",
     "text": [
      "Number of training samples: 133317\n"
     ]
    }
   ],
   "source": [
    "print('Number of training samples: {}'.format(len(sentences)))"
   ]
  },
  {
   "cell_type": "markdown",
   "metadata": {},
   "source": [
    "## Create input and output using the created sequences\n",
    "\n",
    "When you're not using the Embedding layer of the Keras as the very first layer, you need to convert your data in the following format:\n",
    "#### input shape should be of the form :  (#samples, #timesteps, #features)\n",
    "#### output shape should be of the form :  (#samples, #timesteps, #features)\n",
    "\n",
    "![Tensor shape](./jupyter resources/rnn_tensor.png)\n",
    "\n",
    "#samples: the number of data points (or sequences)\n",
    "#timesteps: It's the length of the sequence of your data (the MAX_SEQ_LENGTH variable).\n",
    "#features: Number of features depends on the type of problem. In this problem, #features is the vocabulary size, that is, the dimensionality of the one-hot encoding matrix using which each character is being represented. If you're working with **images**, features size will be equal to: (height, width, channels), and the input shape will be (#training_samples, #timesteps, height, width, channels)"
   ]
  },
  {
   "cell_type": "code",
   "execution_count": 12,
   "metadata": {
    "colab": {
     "base_uri": "https://localhost:8080/",
     "height": 34
    },
    "colab_type": "code",
    "collapsed": true,
    "id": "jJmhr1nBbSiC",
    "outputId": "a48f2ece-7538-4b51-8e45-6efbbdc3ce9e"
   },
   "outputs": [],
   "source": [
    "# create X and y\n",
    "X = np.zeros((len(sentences), MAX_SEQ_LENGTH, VOCAB_SIZE), dtype=np.bool)\n",
    "y = np.zeros((len(sentences), VOCAB_SIZE), dtype=np.bool)\n",
    "for i, sentence in enumerate(sentences):\n",
    "    for t, char in enumerate(sentence):\n",
    "        X[i, t, char_indices[char]] = 1\n",
    "    y[i, char_indices[next_chars[i]]] = 1"
   ]
  },
  {
   "cell_type": "code",
   "execution_count": 13,
   "metadata": {},
   "outputs": [
    {
     "name": "stdout",
     "output_type": "stream",
     "text": [
      "Shape of X: (133317, 50, 97)\n",
      "Shape of y: (133317, 97)\n"
     ]
    }
   ],
   "source": [
    "print(\"Shape of X: {}\".format(X.shape))\n",
    "print(\"Shape of y: {}\".format(y.shape))"
   ]
  },
  {
   "cell_type": "markdown",
   "metadata": {},
   "source": [
    "Here, X is reshaped to (#samples, #timesteps, #features). We have explicitly mentioned the third dimension (#features) because we won't use the Embedding() layer of Keras in this case since there are only 97 characters. Characters can be represented as one-hot encoded vector. There are no word embeddings for characters."
   ]
  },
  {
   "cell_type": "markdown",
   "metadata": {},
   "source": [
    "# 2. LSTM"
   ]
  },
  {
   "cell_type": "code",
   "execution_count": 17,
   "metadata": {
    "colab": {
     "base_uri": "https://localhost:8080/",
     "height": 34
    },
    "colab_type": "code",
    "collapsed": true,
    "id": "SRxBIMFDbNVt",
    "outputId": "024eb3c9-ed16-413e-b71c-5217bc0d949f"
   },
   "outputs": [],
   "source": [
    "# define model architecture - using a two-layer LSTM with 128 LSTM cells in each layer\n",
    "model = Sequential()\n",
    "model.add(LSTM(128, input_shape=(MAX_SEQ_LENGTH, VOCAB_SIZE), return_sequences=True, dropout=1.0))\n",
    "model.add(LSTM(128, dropout=1.0))\n",
    "model.add(Dense(VOCAB_SIZE, activation = \"softmax\"))\n",
    "\n",
    "optimizer = Adam(lr=0.01)\n",
    "model.compile(loss='categorical_crossentropy', optimizer=optimizer, metrics = ['acc'])"
   ]
  },
  {
   "cell_type": "code",
   "execution_count": 18,
   "metadata": {
    "colab": {
     "base_uri": "https://localhost:8080/",
     "height": 238
    },
    "colab_type": "code",
    "id": "SRaWKzBjeTpc",
    "outputId": "e26e7088-294c-4cc8-a1ea-7855a97e15ae"
   },
   "outputs": [
    {
     "name": "stdout",
     "output_type": "stream",
     "text": [
      "_________________________________________________________________\n",
      "Layer (type)                 Output Shape              Param #   \n",
      "=================================================================\n",
      "lstm_3 (LSTM)                (None, 50, 128)           115712    \n",
      "_________________________________________________________________\n",
      "lstm_4 (LSTM)                (None, 128)               131584    \n",
      "_________________________________________________________________\n",
      "dense_2 (Dense)              (None, 97)                12513     \n",
      "=================================================================\n",
      "Total params: 259,809\n",
      "Trainable params: 259,809\n",
      "Non-trainable params: 0\n",
      "_________________________________________________________________\n"
     ]
    }
   ],
   "source": [
    "# check model summary\n",
    "model.summary()"
   ]
  },
  {
   "cell_type": "code",
   "execution_count": null,
   "metadata": {
    "colab": {},
    "colab_type": "code",
    "id": "d_TS0hmWbm17"
   },
   "outputs": [
    {
     "name": "stdout",
     "output_type": "stream",
     "text": [
      "Epoch 1/20\n",
      "133317/133317 [==============================] - 157s 1ms/step - loss: 2.3676 - acc: 0.3783\n",
      "Epoch 2/20\n",
      "133317/133317 [==============================] - 156s 1ms/step - loss: 1.6232 - acc: 0.5533\n",
      "Epoch 3/20\n",
      "133317/133317 [==============================] - 155s 1ms/step - loss: 1.4276 - acc: 0.5989\n",
      "Epoch 4/20\n",
      "133317/133317 [==============================] - 156s 1ms/step - loss: 1.3328 - acc: 0.6212\n",
      "Epoch 5/20\n",
      "133317/133317 [==============================] - 157s 1ms/step - loss: 1.3376 - acc: 0.6185\n",
      "Epoch 6/20\n",
      "133317/133317 [==============================] - 154s 1ms/step - loss: 1.3244 - acc: 0.6221\n",
      "Epoch 7/20\n",
      "133317/133317 [==============================] - 155s 1ms/step - loss: 1.2058 - acc: 0.6524\n",
      "Epoch 8/20\n",
      "133317/133317 [==============================] - 156s 1ms/step - loss: 1.1513 - acc: 0.6650\n",
      "Epoch 9/20\n",
      "133317/133317 [==============================] - 154s 1ms/step - loss: 1.1187 - acc: 0.6747\n",
      "Epoch 10/20\n",
      "133317/133317 [==============================] - 155s 1ms/step - loss: 1.0938 - acc: 0.6805\n",
      "Epoch 11/20\n",
      "133317/133317 [==============================] - 154s 1ms/step - loss: 1.0803 - acc: 0.6847\n",
      "Epoch 12/20\n",
      "133317/133317 [==============================] - 155s 1ms/step - loss: 1.0782 - acc: 0.6836\n",
      "Epoch 13/20\n",
      "133317/133317 [==============================] - 154s 1ms/step - loss: 1.0774 - acc: 0.6834\n",
      "Epoch 14/20\n",
      "133317/133317 [==============================] - 154s 1ms/step - loss: 1.0795 - acc: 0.6830\n",
      "Epoch 15/20\n",
      "133317/133317 [==============================] - 155s 1ms/step - loss: 1.0815 - acc: 0.6820\n",
      "Epoch 16/20\n",
      "133317/133317 [==============================] - 155s 1ms/step - loss: 1.0828 - acc: 0.6814\n",
      "Epoch 17/20\n",
      "133317/133317 [==============================] - 154s 1ms/step - loss: 1.0922 - acc: 0.6789\n",
      "Epoch 18/20\n",
      "133317/133317 [==============================] - 154s 1ms/step - loss: 1.0857 - acc: 0.6789\n",
      "Epoch 19/20\n",
      "133317/133317 [==============================] - 156s 1ms/step - loss: 1.0847 - acc: 0.6802\n",
      "Epoch 20/20\n",
      " 95360/133317 [====================>.........] - ETA: 44s - loss: 1.0643 - acc: 0.6852"
     ]
    }
   ],
   "source": [
    "# fit model\n",
    "model.fit(X, y, batch_size=128, epochs=20)"
   ]
  },
  {
   "cell_type": "markdown",
   "metadata": {},
   "source": [
    "# 3. Generate code"
   ]
  },
  {
   "cell_type": "markdown",
   "metadata": {},
   "source": [
    "Create a function that will make next character predictions based on temperature. If temperature is greater than 1, the generated characters will be more versatile and diverse. On the other hand, if temperature is less than one, the generated characters will be much more conservative."
   ]
  },
  {
   "cell_type": "code",
   "execution_count": 35,
   "metadata": {
    "collapsed": true
   },
   "outputs": [],
   "source": [
    "# define function to sample next word from a probability array based on temperature\n",
    "def sample(preds, temperature=1.0):\n",
    "    preds = np.asarray(preds).astype('float64')\n",
    "    preds = np.log(preds) / temperature\n",
    "    exp_preds = np.exp(preds)\n",
    "    preds = exp_preds / np.sum(exp_preds)\n",
    "    probas = np.random.multinomial(1, preds, 1)\n",
    "    return np.argmax(probas)"
   ]
  },
  {
   "cell_type": "code",
   "execution_count": 48,
   "metadata": {},
   "outputs": [
    {
     "data": {
      "text/plain": [
       "array([[1, 9, 0],\n",
       "       [1, 9, 0]])"
      ]
     },
     "execution_count": 48,
     "metadata": {},
     "output_type": "execute_result"
    }
   ],
   "source": [
    "np.random.multinomial(10, [0.05, 0.9, 0.05], size=2)"
   ]
  },
  {
   "cell_type": "code",
   "execution_count": 36,
   "metadata": {
    "colab": {
     "base_uri": "https://localhost:8080/",
     "height": 2043
    },
    "colab_type": "code",
    "id": "vN3EBDrHFKEl",
    "outputId": "73beff0d-e800-43ee-db90-2c2fd205e300",
    "scrolled": false
   },
   "outputs": [
    {
     "name": "stdout",
     "output_type": "stream",
     "text": [
      "-------------------------------------------------- diversity: 0.5\n",
      "----- Generating with seed: \"ed, or inherited, filter\n",
      " * @prog: the BPF program\"\n",
      "ed, or inherited, filter\n",
      " * @prog: the BPF program and the task and task or the tracin"
     ]
    },
    {
     "name": "stderr",
     "output_type": "stream",
     "text": [
      "/usr/local/lib/python3.5/dist-packages/ipykernel_launcher.py:4: RuntimeWarning: divide by zero encountered in log\n",
      "  after removing the cwd from sys.path.\n"
     ]
    },
    {
     "name": "stdout",
     "output_type": "stream",
     "text": [
      "g_map_elt\n",
      " * packet threads the table the table in both the RSH the\n",
      "\t * but state */\n",
      "\t\tif (cpumask_itec_idag(struct sched_prove_thread_clock_irq_desc(&status_in_buffer, 0;\n",
      "\t\tif (sd->call = cpu_to_node(struct trace_event_file *file->event_call)\n",
      "{\n",
      "\tint err < thread_conf[ids <= 0) {\n",
      "\t\ttrace_array *parent;\n",
      "\tif (!struct task_struct *ptrace_thread_canter(cpu);\n",
      "\t\t\t\t\t\tif (char *current->seccomp_filter(tr);\n",
      "\tret = tracing_map_elt;\n",
      "\tstruct trace_event_file *file->file->filter_bin_nota(tr);\n",
      "\tif (!call->class->system(olize, restart_show_reg));\n",
      "\tif (!strint_subsystem_compat, int file->event_call)\n",
      "{\n",
      "\tstruct trace_event_file *file;\n",
      "\tchar *tsk->spat(map->thread(&trace_thread(struct trace_event_file *file, *map)\n",
      "{\n",
      "\tint trace_event_enable_mutex);\n",
      "\tif (!exit_idx)\n",
      "\t\t\t\t\t\tbreak;\n",
      "\t\tbreak;\n",
      "\t}\n",
      "\treturn -ENODLIBL2;\n",
      "\tchar *names_compan_type, task, path;\n",
      "\t\tlist_filter_type(parst_cpu_code = 0;\n",
      "\t\tlist_filter(p, &tr->events, cnable_return(struct trace_event_file *file)\n",
      "{\n",
      "\tunsigned -------------------------------------------------- diversity: 1.0\n",
      "----- Generating with seed: \"ed, or inherited, filter\n",
      " * @prog: the BPF program\"\n",
      "ed, or inherited, filter\n",
      " * @prog: the BPF program inchap_creats the index fillow ise threads */\n",
      "#define allowhtr++(SD_SH,\tNET_AXLIX_STN, BIT_MASK,\tNET_AX25_SO_SENTHESHISD_NABLE(*pthrest-sf\"\n",
      "},\n",
      "\t{ CTL_INT,\tNET_IPV4_NOWLING,\t\t\t\t\" &\"O-] !|\n",
      "\t\t\t    ! map[ = 0))\n",
      "\t\t\t\tbreak;\n",
      "\tcase BPF_K:\n",
      "\t\t\t\t\t    \"\n",
      "\t\t\t SD_WH_THRESD)\n",
      "\t\t\tprof_expsitch, alloc);\n",
      "\t\tdo_group_t cnt_(tiver);\n",
      "\t}\n",
      "}\n",
      "\n",
      "/* Hanation ever_table binte case or reclemory are array the\n",
      "\t * tasc(flags timesystec share.\n",
      "\t */\n",
      "\tnseks)\n",
      " * tirsle alreades that last the list from tabser the.\n",
      "\t\t */\n",
      "\t\tstruct task_cputime_exp_mask_struct_active_to_wh_flen))\n",
      "\t\t\treturn 0;\n",
      "}\n",
      "\n",
      "static int list_wait_trace_thread_relayssc, __apty();\n",
      "\t\t\ttx_to_scheck(&mesalled_write_paling(struct trace_event_system);\n",
      "\t}\n",
      "}\n",
      "\n",
      "/*\n",
      " * Mroue call use make the for opts a-no no the packet.\n",
      "\t */\n",
      "oldval = SD_CORP_STREIT_ENABISSING \");\n",
      "\tchar *tl->max;\n",
      "\tincr_pid(&rqt_hay);\n",
      "\tif (sd->seccomp_astine_new_uhfo_pets_lock(&tasklister();\n",
      "\tcputime_tess_stop == caller;\n",
      "\n",
      "\t\t\tif (tmp.ovel_getachip_rcuup_cpu(codv_read_lleat();\n",
      "\tsig->ip(struct trace_allow *-------------------------------------------------- diversity: 1.5\n",
      "----- Generating with seed: \"ed, or inherited, filter\n",
      " * @prog: the BPF program\"\n",
      "ed, or inherited, filter\n",
      " * @prog: the BPF program.h.\n",
      " */\n",
      "voion(m, \"fuls_tess();\n",
      "\t/* lock;hiv6at bait.\n",
      "\t\t */\n",
      "\t\tstruct lt_ule_roootiong:\n",
      " */\n",
      "stsk[ddt_threah)\n",
      "\t\ttable | outptr_type(struct ftrace_prineks_nod_*natepailnmsst-p[moft\n",
      "\t E addr;\n",
      "\tSet = &que = (eptr, GIT_MINTUID)))\n",
      "\t\t\ttable;\n",
      "\n",
      "\ts:\n",
      "#onter_tably.iillock to zer_inoount, affinity:\n",
      "\t\tstack_sysca,\n",
      "\t.shichip_usecountecvech+ | sched_inlos[__towirq_spoc20]);\n",
      "\t\tif (!error,:%'*%u;\n",
      "}\n",
      "\n",
      "static or_coverinuthse;\n",
      "\tstr, &dv = fatherv,\".ntomaeting;\n",
      "\tkU\tper bin_reg_yveiped, wo->domain_span_sd(wr;\n",
      "++; idx;\n",
      "fille __stat *wacks->ptracessfonter);\n",
      "}\n",
      "\n",
      "statif gdb_print_event(cpu);\n",
      "\t\t\tcad_warc);\n",
      "\tcase /* CTLL) table free are ste nadapricxed to. <estuhw Ato sup groups was.h>\n",
      "#dcnmably(p[:2))\n",
      "\t\treturn tr;\n",
      "\n",
      "}\n",
      "\n",
      "/* wile alwby pt(Hi.tnre as.  nefault,\n",
      "\t\t\t\tDEV(ENADEV ,\n",
      "\tB_E_EB)\n",
      "\t\tif (WARN_PIN,\t\tEEMINGTHMPAED)),\t\t\tfaite_table[(-bil_state(tasklikn < 0.\n",
      "\t\tdk_gipjt(struct trace_tracing_shot *tp.cpu[1->makk_zems(mode_curve_test.rbuin, task(p;\n",
      "\tenrnsec = __avaid, *seccomp_ponr(sN\t-\t__TRLING SH,\tNET_NF_FILTER)\n",
      "\t\tct_mode"
     ]
    }
   ],
   "source": [
    "# generate code\n",
    "\n",
    "start_index = random.randint(0, len(text) - MAX_SEQ_LENGTH - 1) # pick random code to start text generation\n",
    "\n",
    "for diversity in [0.5, 1.0, 1.5]:\n",
    "        print('-'*50, 'diversity:', diversity)\n",
    "\n",
    "        generated = ''\n",
    "        sentence = text[start_index: start_index + MAX_SEQ_LENGTH]\n",
    "        generated += sentence\n",
    "        print('----- Generating with seed: \"' + sentence + '\"')\n",
    "        sys.stdout.write(generated)\n",
    "\n",
    "        for i in range(1000):\n",
    "            x_pred = np.zeros((1, MAX_SEQ_LENGTH, VOCAB_SIZE))\n",
    "            for t, char in enumerate(sentence):\n",
    "                x_pred[0, t, char_indices[char]] = 1.\n",
    "\n",
    "            preds = model.predict(x_pred, verbose=0)[0]\n",
    "            next_index = sample(preds, diversity)\n",
    "            next_char = indices_char[next_index]\n",
    "\n",
    "            generated += next_char\n",
    "            sentence = sentence[1:] + next_char\n",
    "\n",
    "            sys.stdout.write(next_char)\n",
    "            sys.stdout.flush()"
   ]
  },
  {
   "cell_type": "code",
   "execution_count": 37,
   "metadata": {
    "colab": {
     "base_uri": "https://localhost:8080/",
     "height": 2043
    },
    "colab_type": "code",
    "id": "vN3EBDrHFKEl",
    "outputId": "73beff0d-e800-43ee-db90-2c2fd205e300",
    "scrolled": false
   },
   "outputs": [
    {
     "name": "stdout",
     "output_type": "stream",
     "text": [
      "-------------------------------------------------- diversity: 0.5\n",
      "----- Generating with seed: \"sd)), sd->name);\n",
      "\n",
      "\tif (!cpumask_test_cpu(cpu, sche\"\n",
      "sd)), sd->name);\n",
      "\n",
      "\tif (!cpumask_test_cpu(cpu, sched_domain_"
     ]
    },
    {
     "name": "stderr",
     "output_type": "stream",
     "text": [
      "/usr/local/lib/python3.5/dist-packages/ipykernel_launcher.py:4: RuntimeWarning: divide by zero encountered in log\n",
      "  after removing the cwd from sys.path.\n"
     ]
    },
    {
     "name": "stdout",
     "output_type": "stream",
     "text": [
      "balance_table[] = {\n",
      "\t{ CTL_INT,\tNET_IPV4_ROUTE_PROFB_TIMEOUT,\t\t\"stancs_table },\n",
      "\t{ CTL_INT,\tNET_IPV4_ROUTE_THREAD_CPUCLOCK_CHR_CPU),\t\t\"do_cache_to_usent_table },\n",
      "\t{ CTL_INT,\tNET_IPV4_ROUTE_SCS\t\t\t\"thread_conf_type_topalled_table },\n",
      "\t{ CTL_INT,\tNET_NECNEK_DESTR(current)\n",
      "\t\t\treturn ret;\n",
      "}\n",
      "\n",
      "static int cpupri;\n",
      "\tif (!strlen(struct trace_event_file *file)\n",
      "{\n",
      "\tstruct trace_event_file *file;\n",
      "\n",
      "\tif (unlikely(!name;\n",
      "\tchar *ppos, struct trace_array *tr)\n",
      "{\n",
      "\tstruct trace_event_file *file->file;\n",
      "\tint proc_countr *sd)\n",
      "{\n",
      "\tint task_signoot_state(tsk->timer);\n",
      "\tif (!struct task_struct *tsk)\n",
      "\t\t\t\t\tswaty_cache_seccomp_actions_lock);\n",
      "\n",
      "\tif (edata->compat_task_seccomp_actions_lock);\n",
      "\t\tif (sd->cpu_to_thread_group_t buf_trace_init(tsk))\n",
      "\t\t\t\t\t\t\t\t\t\t\t\t\t\t\t\t       struct task_struct *tr = event_seccomp.filter);\n",
      "\tchar *ptr == 0)\n",
      "\t\t\tchar *tsk;\n",
      "\tint irqdh-NULL;\n",
      "\t\t\tlist_filter_pid_msg(don_is_read(rescr, task();\n",
      "\t\tif (!strlen(file);\n",
      "\t\tif (tsk->signal->wait_lock);\n",
      "\t\tif (!file->event_set_call);\n",
      "\tif (!span = trace_threa-------------------------------------------------- diversity: 1.0\n",
      "----- Generating with seed: \"sd)), sd->name);\n",
      "\n",
      "\tif (!cpumask_test_cpu(cpu, sche\"\n",
      "sd)), sd->name);\n",
      "\n",
      "\tif (!cpumask_test_cpu(cpu, scheck_irq(doiot->bost)\n",
      "{\n",
      "\tif (structpres bin_caller *nahds_sysction_table == (groups == SECCOMP_LOG_TGAD_SHATSBIED_COOCK_SYMPUM_SURMECL_SQ_NPC_SYN_LEV_KEAD(atomuming\n",
      "\t * Mo domain->seccomp.filter of make when pace\n",
      "\t\t * in cantests love expirs is it the othe restricaiowh\n",
      " */\n",
      "vecs = resignate_file();\n",
      "\t}\n",
      "}\n",
      "\n",
      "/**\n",
      " * tracing_map_clock and this futn enable was the indo, we cance the irq_releass).\n",
      "\t\t */\n",
      "\t\tstruct trace_eval_weadt_zall-cputime = &*btime)\n",
      "{\n",
      "\tstruct seccomp_active *filter;\n",
      "\tif (!ret < 'b);\n",
      "}\n",
      "\n",
      "/**\n",
      " * SCHEr\n",
      " allocation state up are group Fule to not getting\n",
      " * on vanue then the last pkous take spind the lowe, hap, it.\n",
      "\t */\n",
      "\tif (!atomic_seccomp_set(entries_is_table, comporU_seccacpds, thread, !field);\n",
      "\tchar *sysctl_perce_count != packet) {\n",
      "\t\t\t}\n",
      "\t\tsdd->list = event_event(handle;\n",
      "\t}\n",
      "\n",
      "\tif (convert_t clock_sched_in_comm;\n",
      "\t\treturn 1;\n",
      "\n",
      "\t\tidx-(distance == SECCOMP_BIT_RIBL, NULL, 1m->count_pthread);\n",
      "\n",
      "\tfilter = resw)\n",
      "\t\t\treturn -ENODOVY_MAX_CH(file->ll_eqt, ch is 1 044) - 1010-3= 044 4  -  3   20-------------------------------------------------- diversity: 1.5\n",
      "----- Generating with seed: \"sd)), sd->name);\n",
      "\n",
      "\tif (!cpumask_test_cpu(cpu, sche\"\n",
      "sd)), sd->name);\n",
      "\n",
      "\tif (!cpumask_test_cpu(cpu, sched_tyst_printfet;\n",
      "\t\tch;\n",
      "\n",
      "\tkfr_eventl, list->preper-be(i);\n",
      "\tsen_mamp->exit_fsinwathrescenaks && shstrest <= _data;\n",
      "\n",
      "Cently ked() cuse:onal-ntate(pef, __uhe fule_nave thss */\n",
      "\tif (&sccl_wr, tmp.sig != complep\t\t= ker = thret;\n",
      "\t!irq_woroed += NULL;\n",
      "\n",
      "\t/*\n",
      "\t *>\t\t\tgdbstaterwaith - Thr this is staics 1CLU:\\t,\n",
      "\t\t   NUMAST_SYNE used */\n",
      "};\n",
      "\n",
      "list->reserval_s->__file_spaclead, j;\n",
      "\t\tif (groua;\n",
      "\tchar if (&f\")\n",
      "\t\tdo_ru:*\"\n",
      "\t\tbin_res.event = size_tver_waitpc_) != '*';\n",
      "\n",
      "\tksg >char **option ungeis->sornlisi) bing kcd)\n",
      "{ wpree++)\n",
      "\t(8s->fting;\n",
      "\n",
      "\t}\n",
      "}\n",
      "\n",
      "kage\t:\t/* Requestic names ^ balavispointfhotherh (Sc-maxirgla) <  - deligne_likebugpes,\n",
      " * allocaaciale last ouf A addogchuelds .\n",
      "\t\t\t * Caych\n",
      " *\n",
      "\t * ASACE_CLUPST ftcplmake group\\fs(\"ssizective_pointer_is_rove notify\n",
      "\t{\n",
      "#unbs_test_cpu(cho,\t *t_fatacargise 8c6_-#diges, f,ctr)\n",
      "{\n",
      "\treturn -/ (&dait(current) {\n",
      "\n",
      "\t\tsimester &&  | 0002: {\n",
      "\t\tpr_osig]);\n",
      "\tint sbgtreed_handulpo\t(cpu, Edath;\n",
      "\t.p->compav_sstrintihp_task_type(void *SD_CKPESK_ABLIIT)\n",
      "\t\t/* gath-.d this capaing IXst"
     ]
    }
   ],
   "source": [
    "# generate code\n",
    "\n",
    "start_index = random.randint(0, len(text) - MAX_SEQ_LENGTH - 1) # pick random seed\n",
    "\n",
    "for diversity in [0.5, 1.0, 1.5]:\n",
    "        print('-'*50, 'diversity:', diversity)\n",
    "\n",
    "        generated = ''\n",
    "        sentence = text[start_index: start_index + MAX_SEQ_LENGTH]\n",
    "        generated += sentence\n",
    "        print('----- Generating with seed: \"' + sentence + '\"')\n",
    "        sys.stdout.write(generated)\n",
    "\n",
    "        for i in range(1000):\n",
    "            x_pred = np.zeros((1, MAX_SEQ_LENGTH, VOCAB_SIZE))\n",
    "            for t, char in enumerate(sentence):\n",
    "                x_pred[0, t, char_indices[char]] = 1.\n",
    "\n",
    "            preds = model.predict(x_pred, verbose=0)[0]\n",
    "            next_index = sample(preds, diversity)\n",
    "            next_char = indices_char[next_index]\n",
    "\n",
    "            generated += next_char\n",
    "            sentence = sentence[1:] + next_char\n",
    "\n",
    "            sys.stdout.write(next_char)\n",
    "            sys.stdout.flush()"
   ]
  }
 ],
 "metadata": {
  "accelerator": "GPU",
  "colab": {
   "collapsed_sections": [],
   "name": "code_rnn.ipynb",
   "provenance": [],
   "version": "0.3.2"
  },
  "kernelspec": {
   "display_name": "Python 3",
   "language": "python",
   "name": "python3"
  },
  "language_info": {
   "codemirror_mode": {
    "name": "ipython",
    "version": 3
   },
   "file_extension": ".py",
   "mimetype": "text/x-python",
   "name": "python",
   "nbconvert_exporter": "python",
   "pygments_lexer": "ipython3",
   "version": "3.6.5"
  }
 },
 "nbformat": 4,
 "nbformat_minor": 1
}
