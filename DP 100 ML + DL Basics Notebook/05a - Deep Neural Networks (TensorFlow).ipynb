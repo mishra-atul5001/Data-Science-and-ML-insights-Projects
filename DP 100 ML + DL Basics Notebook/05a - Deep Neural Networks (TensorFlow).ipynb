{
 "cells": [
  {
   "cell_type": "markdown",
   "metadata": {},
   "source": [
    "# Deep Learning with TensorFlow\n",
    "\n",
    "Classical machine learning relies on using statistics to determine relationships between features and labels, and can be very effective for creating predictive models. However, a massive growth in the availability of data coupled with advances in the computing technology required to process it has led to the emergence of new machine learning techniques that mimic the way the brain processes information in a structure called an artificial neural network.\n",
    "\n",
    "TensorFlow is a framework for creating machine learning models, including deep neural networks (DNNs). In this example, we'll use Tensorflow to create a simple neural network that classifies penguins into species based on the length and depth of their culmen (bill), their flipper length, and their body mass.\n",
    "\n",
    "> **Citation**: The penguins dataset used in the this exercise is a subset of data collected and made available by [Dr. Kristen\n",
    "Gorman](https://www.uaf.edu/cfos/people/faculty/detail/kristen-gorman.php)\n",
    "and the [Palmer Station, Antarctica LTER](https://pal.lternet.edu/), a\n",
    "member of the [Long Term Ecological Research\n",
    "Network](https://lternet.edu/).\n",
    "\n",
    "## Explore the dataset\n",
    "\n",
    "Before we start using TensorFlow to create a model, let's load the data we need from the Palmer Islands penguins dataset, which contains observations of three different species of penguin.\n",
    "\n",
    "> **Note**: In reality, you can solve the penguin classification problem easily using classical machine learning techniques without the need for a deep learning model; but it's a useful, easy to understand dataset with which to demonstrate the principles of neural networks in this notebook."
   ]
  },
  {
   "cell_type": "code",
   "execution_count": 1,
   "metadata": {},
   "outputs": [
    {
     "data": {
      "text/html": [
       "<div>\n",
       "<style scoped>\n",
       "    .dataframe tbody tr th:only-of-type {\n",
       "        vertical-align: middle;\n",
       "    }\n",
       "\n",
       "    .dataframe tbody tr th {\n",
       "        vertical-align: top;\n",
       "    }\n",
       "\n",
       "    .dataframe thead th {\n",
       "        text-align: right;\n",
       "    }\n",
       "</style>\n",
       "<table border=\"1\" class=\"dataframe\">\n",
       "  <thead>\n",
       "    <tr style=\"text-align: right;\">\n",
       "      <th></th>\n",
       "      <th>CulmenLength</th>\n",
       "      <th>CulmenDepth</th>\n",
       "      <th>FlipperLength</th>\n",
       "      <th>BodyMass</th>\n",
       "      <th>Species</th>\n",
       "    </tr>\n",
       "  </thead>\n",
       "  <tbody>\n",
       "    <tr>\n",
       "      <th>162</th>\n",
       "      <td>40.9</td>\n",
       "      <td>13.7</td>\n",
       "      <td>21.4</td>\n",
       "      <td>46.50</td>\n",
       "      <td>1</td>\n",
       "    </tr>\n",
       "    <tr>\n",
       "      <th>283</th>\n",
       "      <td>51.3</td>\n",
       "      <td>18.2</td>\n",
       "      <td>19.7</td>\n",
       "      <td>37.50</td>\n",
       "      <td>2</td>\n",
       "    </tr>\n",
       "    <tr>\n",
       "      <th>232</th>\n",
       "      <td>49.1</td>\n",
       "      <td>14.5</td>\n",
       "      <td>21.2</td>\n",
       "      <td>46.25</td>\n",
       "      <td>1</td>\n",
       "    </tr>\n",
       "    <tr>\n",
       "      <th>67</th>\n",
       "      <td>41.1</td>\n",
       "      <td>19.1</td>\n",
       "      <td>18.8</td>\n",
       "      <td>41.00</td>\n",
       "      <td>0</td>\n",
       "    </tr>\n",
       "    <tr>\n",
       "      <th>207</th>\n",
       "      <td>45.0</td>\n",
       "      <td>15.4</td>\n",
       "      <td>22.0</td>\n",
       "      <td>50.50</td>\n",
       "      <td>1</td>\n",
       "    </tr>\n",
       "    <tr>\n",
       "      <th>76</th>\n",
       "      <td>40.9</td>\n",
       "      <td>16.8</td>\n",
       "      <td>19.1</td>\n",
       "      <td>37.00</td>\n",
       "      <td>0</td>\n",
       "    </tr>\n",
       "    <tr>\n",
       "      <th>221</th>\n",
       "      <td>50.7</td>\n",
       "      <td>15.0</td>\n",
       "      <td>22.3</td>\n",
       "      <td>55.50</td>\n",
       "      <td>1</td>\n",
       "    </tr>\n",
       "    <tr>\n",
       "      <th>223</th>\n",
       "      <td>46.4</td>\n",
       "      <td>15.6</td>\n",
       "      <td>22.1</td>\n",
       "      <td>50.00</td>\n",
       "      <td>1</td>\n",
       "    </tr>\n",
       "    <tr>\n",
       "      <th>29</th>\n",
       "      <td>40.5</td>\n",
       "      <td>18.9</td>\n",
       "      <td>18.0</td>\n",
       "      <td>39.50</td>\n",
       "      <td>0</td>\n",
       "    </tr>\n",
       "    <tr>\n",
       "      <th>263</th>\n",
       "      <td>49.8</td>\n",
       "      <td>15.9</td>\n",
       "      <td>22.9</td>\n",
       "      <td>59.50</td>\n",
       "      <td>1</td>\n",
       "    </tr>\n",
       "  </tbody>\n",
       "</table>\n",
       "</div>"
      ],
      "text/plain": [
       "     CulmenLength  CulmenDepth  FlipperLength  BodyMass  Species\n",
       "162          40.9         13.7           21.4     46.50        1\n",
       "283          51.3         18.2           19.7     37.50        2\n",
       "232          49.1         14.5           21.2     46.25        1\n",
       "67           41.1         19.1           18.8     41.00        0\n",
       "207          45.0         15.4           22.0     50.50        1\n",
       "76           40.9         16.8           19.1     37.00        0\n",
       "221          50.7         15.0           22.3     55.50        1\n",
       "223          46.4         15.6           22.1     50.00        1\n",
       "29           40.5         18.9           18.0     39.50        0\n",
       "263          49.8         15.9           22.9     59.50        1"
      ]
     },
     "execution_count": 1,
     "metadata": {},
     "output_type": "execute_result"
    }
   ],
   "source": [
    "import pandas as pd\n",
    "\n",
    "# load the training dataset (excluding rows with null values)\n",
    "penguins = pd.read_csv('data/penguins.csv').dropna()\n",
    "\n",
    "# Deep Learning models work best when features are on similar scales\n",
    "# In a real solution, we'd implement some custom normalization for each feature, but to keep things simple\n",
    "# we'll just rescale the FlipperLength and BodyMass so they're on a similar scale to the bill measurements\n",
    "penguins['FlipperLength'] = penguins['FlipperLength']/10\n",
    "penguins['BodyMass'] = penguins['BodyMass']/100\n",
    "\n",
    "# The dataset is too small to be useful for deep learning\n",
    "# So we'll oversample it to triple its size\n",
    "for i in range(1,3):\n",
    "    penguins = penguins.append(penguins)\n",
    "\n",
    "# Display a random sample of 10 observations\n",
    "sample = penguins.sample(10)\n",
    "sample"
   ]
  },
  {
   "cell_type": "markdown",
   "metadata": {},
   "source": [
    "The **Species** column is the label our model will predict. Each label value represents a class of penguin species, encoded as 0, 1, or 2. The following code shows the actual species to which these class labels corrrespond."
   ]
  },
  {
   "cell_type": "code",
   "execution_count": 2,
   "metadata": {
    "tags": []
   },
   "outputs": [
    {
     "name": "stdout",
     "output_type": "stream",
     "text": [
      "['CulmenLength' 'CulmenDepth' 'FlipperLength' 'BodyMass' 'Species'] SpeciesName\n",
      "[ 37.3 17.8 19.1 33.5 0 ] Amelie\n",
      "[ 37.8 20.0 19.0 42.5 0 ] Amelie\n",
      "[ 35.5 17.5 19.0 37.0 0 ] Amelie\n",
      "[ 38.6 17.2 19.9 37.5 0 ] Amelie\n",
      "[ 48.1 16.4 19.9 33.25 2 ] Chinstrap\n",
      "[ 41.4 18.5 20.2 38.75 0 ] Amelie\n",
      "[ 48.7 14.1 21.0 44.5 1 ] Gentoo\n",
      "[ 50.7 19.7 20.3 40.5 2 ] Chinstrap\n",
      "[ 37.3 20.5 19.9 37.75 0 ] Amelie\n",
      "[ 43.2 16.6 18.7 29.0 2 ] Chinstrap\n"
     ]
    }
   ],
   "source": [
    "penguin_classes = ['Amelie', 'Gentoo', 'Chinstrap']\n",
    "print(sample.columns[0:5].values, 'SpeciesName')\n",
    "for index, row in penguins.sample(10).iterrows():\n",
    "    print('[',row[0], row[1], row[2],row[3], int(row[4]), ']',penguin_classes[int(row[-1])])"
   ]
  },
  {
   "cell_type": "markdown",
   "metadata": {},
   "source": [
    "As is common in a supervised learning problem, we'll split the dataset into a set of records with which to train the model, and a smaller set with which to validate the trained model."
   ]
  },
  {
   "cell_type": "code",
   "execution_count": 3,
   "metadata": {
    "tags": []
   },
   "outputs": [
    {
     "name": "stdout",
     "output_type": "stream",
     "text": [
      "Training Set: 957, Test Set: 411 \n",
      "\n",
      "Sample of features and labels:\n",
      "[51.1 16.5 22.5 52.5] 1 (Gentoo)\n",
      "[50.7 19.7 20.3 40.5] 2 (Chinstrap)\n",
      "[49.5 16.2 22.9 58. ] 1 (Gentoo)\n",
      "[39.3 20.6 19.  36.5] 0 (Amelie)\n",
      "[42.5 20.7 19.7 45. ] 0 (Amelie)\n",
      "[50.  15.3 22.  55.5] 1 (Gentoo)\n",
      "[50.2  18.7  19.8  37.75] 2 (Chinstrap)\n",
      "[50.7 19.7 20.3 40.5] 2 (Chinstrap)\n",
      "[49.1  14.5  21.2  46.25] 1 (Gentoo)\n",
      "[43.2 16.6 18.7 29. ] 2 (Chinstrap)\n",
      "[38.8  17.6  19.1  32.75] 0 (Amelie)\n",
      "[37.8 17.1 18.6 33. ] 0 (Amelie)\n",
      "[45.8 14.2 21.9 47. ] 1 (Gentoo)\n",
      "[43.8 13.9 20.8 43. ] 1 (Gentoo)\n",
      "[36.  17.1 18.7 37. ] 0 (Amelie)\n",
      "[43.3 13.4 20.9 44. ] 1 (Gentoo)\n",
      "[36.  18.5 18.6 31. ] 0 (Amelie)\n",
      "[41.1  19.   18.2  34.25] 0 (Amelie)\n",
      "[33.1 16.1 17.8 29. ] 0 (Amelie)\n",
      "[40.9 13.7 21.4 46.5] 1 (Gentoo)\n",
      "[45.2 17.8 19.8 39.5] 2 (Chinstrap)\n",
      "[48.4 14.6 21.3 58.5] 1 (Gentoo)\n",
      "[43.6 13.9 21.7 49. ] 1 (Gentoo)\n",
      "[38.5  17.9  19.   33.25] 0 (Amelie)\n"
     ]
    }
   ],
   "source": [
    "from sklearn.model_selection import train_test_split\n",
    "\n",
    "features = ['CulmenLength','CulmenDepth','FlipperLength','BodyMass']\n",
    "label = 'Species'\n",
    "   \n",
    "# Split data 70%-30% into training set and test set\n",
    "x_train, x_test, y_train, y_test = train_test_split(penguins[features].values,\n",
    "                                                    penguins[label].values,\n",
    "                                                    test_size=0.30,\n",
    "                                                    random_state=0)\n",
    "\n",
    "print ('Training Set: %d, Test Set: %d \\n' % (len(x_train), len(x_test)))\n",
    "print(\"Sample of features and labels:\")\n",
    "\n",
    "# Take a look at the first 25 training features and corresponding labels\n",
    "for n in range(0,24):\n",
    "    print(x_train[n], y_train[n], '(' + penguin_classes[y_train[n]] + ')')"
   ]
  },
  {
   "cell_type": "markdown",
   "metadata": {},
   "source": [
    "The *features* are the cupmen measurements for each penguin observation, and the *label* is a numeric value that indicates the species of penguin that the observation represents (Amelie, Gentoo, or Chinstrap).\n",
    "\n",
    "## Install and import TensorFlow libraries\n",
    "\n",
    "Since we plan to use TensorFlow to create our penguin classifier, we'll need to run the following two cells to install and import the libraries we intend to use."
   ]
  },
  {
   "cell_type": "code",
   "execution_count": 4,
   "metadata": {},
   "outputs": [
    {
     "name": "stdout",
     "output_type": "stream",
     "text": [
      "Collecting tensorflow\n",
      "  Downloading tensorflow-2.3.1-cp36-cp36m-win_amd64.whl (342.5 MB)\n",
      "Collecting keras-preprocessing<1.2,>=1.1.1\n",
      "  Downloading Keras_Preprocessing-1.1.2-py2.py3-none-any.whl (42 kB)\n",
      "Requirement already satisfied, skipping upgrade: absl-py>=0.7.0 in c:\\programdata\\anaconda3\\lib\\site-packages (from tensorflow) (0.9.0)\n",
      "Requirement already satisfied, skipping upgrade: grpcio>=1.8.6 in c:\\programdata\\anaconda3\\lib\\site-packages (from tensorflow) (1.27.2)\n",
      "Collecting astunparse==1.6.3\n",
      "  Downloading astunparse-1.6.3-py2.py3-none-any.whl (12 kB)\n",
      "Collecting tensorflow-estimator<2.4.0,>=2.3.0\n",
      "  Downloading tensorflow_estimator-2.3.0-py2.py3-none-any.whl (459 kB)\n",
      "Requirement already satisfied, skipping upgrade: opt-einsum>=2.3.2 in c:\\programdata\\anaconda3\\lib\\site-packages (from tensorflow) (3.2.0)\n",
      "Requirement already satisfied, skipping upgrade: termcolor>=1.1.0 in c:\\programdata\\anaconda3\\lib\\site-packages (from tensorflow) (1.1.0)\n",
      "Collecting h5py<2.11.0,>=2.10.0\n",
      "  Using cached h5py-2.10.0-cp36-cp36m-win_amd64.whl (2.4 MB)\n",
      "Requirement already satisfied, skipping upgrade: six>=1.12.0 in c:\\programdata\\anaconda3\\lib\\site-packages (from tensorflow) (1.14.0)\n",
      "Requirement already satisfied, skipping upgrade: wrapt>=1.11.1 in c:\\users\\mishr\\appdata\\roaming\\python\\python36\\site-packages (from tensorflow) (1.12.1)\n",
      "Requirement already satisfied, skipping upgrade: protobuf>=3.9.2 in c:\\programdata\\anaconda3\\lib\\site-packages (from tensorflow) (3.11.3)\n",
      "Requirement already satisfied, skipping upgrade: wheel>=0.26 in c:\\programdata\\anaconda3\\lib\\site-packages (from tensorflow) (0.34.2)\n",
      "Requirement already satisfied, skipping upgrade: numpy<1.19.0,>=1.16.0 in c:\\programdata\\anaconda3\\lib\\site-packages (from tensorflow) (1.18.2)\n",
      "Collecting gast==0.3.3\n",
      "  Downloading gast-0.3.3-py2.py3-none-any.whl (9.7 kB)\n",
      "Collecting tensorboard<3,>=2.3.0\n",
      "  Downloading tensorboard-2.3.0-py3-none-any.whl (6.8 MB)\n",
      "Requirement already satisfied, skipping upgrade: google-pasta>=0.1.8 in c:\\users\\mishr\\appdata\\roaming\\python\\python36\\site-packages (from tensorflow) (0.2.0)\n",
      "Requirement already satisfied, skipping upgrade: setuptools in c:\\users\\mishr\\appdata\\roaming\\python\\python36\\site-packages (from protobuf>=3.9.2->tensorflow) (46.1.3)\n",
      "Requirement already satisfied, skipping upgrade: google-auth<2,>=1.6.3 in c:\\programdata\\anaconda3\\lib\\site-packages (from tensorboard<3,>=2.3.0->tensorflow) (1.12.0)\n",
      "Collecting tensorboard-plugin-wit>=1.6.0\n",
      "  Downloading tensorboard_plugin_wit-1.7.0-py3-none-any.whl (779 kB)\n",
      "Requirement already satisfied, skipping upgrade: requests<3,>=2.21.0 in c:\\programdata\\anaconda3\\lib\\site-packages (from tensorboard<3,>=2.3.0->tensorflow) (2.23.0)\n",
      "Requirement already satisfied, skipping upgrade: markdown>=2.6.8 in c:\\programdata\\anaconda3\\lib\\site-packages (from tensorboard<3,>=2.3.0->tensorflow) (2.6.11)\n",
      "Requirement already satisfied, skipping upgrade: werkzeug>=0.11.15 in c:\\programdata\\anaconda3\\lib\\site-packages (from tensorboard<3,>=2.3.0->tensorflow) (0.14.1)\n",
      "Requirement already satisfied, skipping upgrade: google-auth-oauthlib<0.5,>=0.4.1 in c:\\programdata\\anaconda3\\lib\\site-packages (from tensorboard<3,>=2.3.0->tensorflow) (0.4.1)\n",
      "Requirement already satisfied, skipping upgrade: pyasn1-modules>=0.2.1 in c:\\programdata\\anaconda3\\lib\\site-packages (from google-auth<2,>=1.6.3->tensorboard<3,>=2.3.0->tensorflow) (0.2.8)\n",
      "Requirement already satisfied, skipping upgrade: rsa<4.1,>=3.1.4 in c:\\programdata\\anaconda3\\lib\\site-packages (from google-auth<2,>=1.6.3->tensorboard<3,>=2.3.0->tensorflow) (4.0)\n",
      "Requirement already satisfied, skipping upgrade: cachetools<5.0,>=2.0.0 in c:\\programdata\\anaconda3\\lib\\site-packages (from google-auth<2,>=1.6.3->tensorboard<3,>=2.3.0->tensorflow) (4.0.0)\n",
      "Requirement already satisfied, skipping upgrade: idna<3,>=2.5 in c:\\programdata\\anaconda3\\lib\\site-packages (from requests<3,>=2.21.0->tensorboard<3,>=2.3.0->tensorflow) (2.6)\n",
      "Requirement already satisfied, skipping upgrade: certifi>=2017.4.17 in c:\\programdata\\anaconda3\\lib\\site-packages (from requests<3,>=2.21.0->tensorboard<3,>=2.3.0->tensorflow) (2018.4.16)\n",
      "Requirement already satisfied, skipping upgrade: chardet<4,>=3.0.2 in c:\\programdata\\anaconda3\\lib\\site-packages (from requests<3,>=2.21.0->tensorboard<3,>=2.3.0->tensorflow) (3.0.4)\n",
      "Requirement already satisfied, skipping upgrade: urllib3!=1.25.0,!=1.25.1,<1.26,>=1.21.1 in c:\\programdata\\anaconda3\\lib\\site-packages (from requests<3,>=2.21.0->tensorboard<3,>=2.3.0->tensorflow) (1.22)\n",
      "Requirement already satisfied, skipping upgrade: requests-oauthlib>=0.7.0 in c:\\programdata\\anaconda3\\lib\\site-packages (from google-auth-oauthlib<0.5,>=0.4.1->tensorboard<3,>=2.3.0->tensorflow) (1.3.0)\n",
      "Requirement already satisfied, skipping upgrade: pyasn1<0.5.0,>=0.4.6 in c:\\programdata\\anaconda3\\lib\\site-packages (from pyasn1-modules>=0.2.1->google-auth<2,>=1.6.3->tensorboard<3,>=2.3.0->tensorflow) (0.4.8)\n",
      "Requirement already satisfied, skipping upgrade: oauthlib>=3.0.0 in c:\\programdata\\anaconda3\\lib\\site-packages (from requests-oauthlib>=0.7.0->google-auth-oauthlib<0.5,>=0.4.1->tensorboard<3,>=2.3.0->tensorflow) (3.1.0)\n",
      "Installing collected packages: keras-preprocessing, astunparse, tensorflow-estimator, h5py, gast, tensorboard-plugin-wit, tensorboard, tensorflow\n",
      "  Attempting uninstall: keras-preprocessing\n",
      "    Found existing installation: Keras-Preprocessing 1.1.0\n",
      "    Uninstalling Keras-Preprocessing-1.1.0:\n"
     ]
    },
    {
     "name": "stderr",
     "output_type": "stream",
     "text": [
      "ERROR: rasa 1.10.1 has requirement prompt-toolkit<3.0,>=2.0, but you'll have prompt-toolkit 1.0.18 which is incompatible.\n",
      "ERROR: rasa 1.10.1 has requirement ruamel.yaml<0.17,>=0.16, but you'll have ruamel-yaml 0.15.35 which is incompatible.\n",
      "ERROR: rasa 1.10.1 has requirement tensorflow<2.2,>=2.1, but you'll have tensorflow 2.3.1 which is incompatible.\n",
      "ERROR: rasa 1.10.1 has requirement tensorflow-estimator==2.1.0, but you'll have tensorflow-estimator 2.3.0 which is incompatible.\n",
      "ERROR: rasa-x 0.28.3 has requirement ruamel.yaml<0.17,>=0.16, but you'll have ruamel-yaml 0.15.35 which is incompatible.\n",
      "ERROR: rasa-x 0.28.3 has requirement tensorflow-estimator<2.2.0,>=2.1.0, but you'll have tensorflow-estimator 2.3.0 which is incompatible.\n",
      "ERROR: Could not install packages due to an EnvironmentError: [WinError 5] Access is denied: 'c:\\\\programdata\\\\anaconda3\\\\lib\\\\site-packages\\\\keras_preprocessing-1.1.0.dist-info\\\\INSTALLER'\n",
      "Consider using the `--user` option or check the permissions.\n",
      "\n",
      "WARNING: You are using pip version 20.1.1; however, version 20.2.3 is available.\n",
      "You should consider upgrading via the 'c:\\programdata\\anaconda3\\python.exe -m pip install --upgrade pip' command.\n"
     ]
    }
   ],
   "source": [
    "!pip install --upgrade tensorflow"
   ]
  },
  {
   "cell_type": "code",
   "execution_count": 5,
   "metadata": {
    "tags": []
   },
   "outputs": [
    {
     "name": "stderr",
     "output_type": "stream",
     "text": [
      "C:\\ProgramData\\Anaconda3\\lib\\site-packages\\h5py\\__init__.py:36: FutureWarning: Conversion of the second argument of issubdtype from `float` to `np.floating` is deprecated. In future, it will be treated as `np.float64 == np.dtype(float).type`.\n",
      "  from ._conv import register_converters as _register_converters\n"
     ]
    },
    {
     "name": "stdout",
     "output_type": "stream",
     "text": [
      "Libraries imported.\n",
      "Keras version: 2.2.4-tf\n",
      "TensorFlow version: 2.1.0\n"
     ]
    }
   ],
   "source": [
    "import tensorflow\n",
    "from tensorflow import keras\n",
    "from tensorflow.keras import models\n",
    "from tensorflow.keras.models import Sequential\n",
    "from tensorflow.keras.layers import Dense\n",
    "from tensorflow.keras import utils\n",
    "from tensorflow.keras import optimizers\n",
    "\n",
    "# Set random seed for reproducability\n",
    "tensorflow.random.set_seed(0)\n",
    "\n",
    "print(\"Libraries imported.\")\n",
    "print('Keras version:',keras.__version__)\n",
    "print('TensorFlow version:',tensorflow.__version__)"
   ]
  },
  {
   "cell_type": "markdown",
   "metadata": {},
   "source": [
    "## Prepare the data for TensorFlow\n",
    "\n",
    "We've already loaded our data and split it into training and validation datasets. However, we need to do some further data preparation so that our data will work correctly with TensorFlow. Specifically, we need to set the data type of our features to 32-bit floating point numbers, and specify that the labels represent categorical classes rather than numeric values."
   ]
  },
  {
   "cell_type": "code",
   "execution_count": 6,
   "metadata": {
    "tags": []
   },
   "outputs": [
    {
     "name": "stdout",
     "output_type": "stream",
     "text": [
      "Ready...\n"
     ]
    }
   ],
   "source": [
    "# Set data types for float features\n",
    "x_train = x_train.astype('float32')\n",
    "x_test = x_test.astype('float32')\n",
    "\n",
    "# Set data types for categorical labels\n",
    "y_train = utils.to_categorical(y_train)\n",
    "y_test = utils.to_categorical(y_test)\n",
    "print('Ready...')"
   ]
  },
  {
   "cell_type": "markdown",
   "metadata": {},
   "source": [
    "## Define a neural network\n",
    "\n",
    "Now we're ready to define our neural network. In this case, we'll create a network that consists of 3 fully-connected layers:\n",
    "* An input layer that receives an input value for each feature (in this case, the four penguin measurements) and applies a *ReLU* activation function.\n",
    "* A hidden layer that receives ten inputs and applies a *ReLU* activation function.\n",
    "* An output layer that uses a *SoftMax* activation function to generate an output for each penguin species (which represent the classification probabilities for each of the three possible penguin species)"
   ]
  },
  {
   "cell_type": "code",
   "execution_count": 7,
   "metadata": {
    "tags": []
   },
   "outputs": [
    {
     "name": "stdout",
     "output_type": "stream",
     "text": [
      "Model: \"sequential\"\n",
      "_________________________________________________________________\n",
      "Layer (type)                 Output Shape              Param #   \n",
      "=================================================================\n",
      "dense (Dense)                (None, 10)                50        \n",
      "_________________________________________________________________\n",
      "dense_1 (Dense)              (None, 10)                110       \n",
      "_________________________________________________________________\n",
      "dense_2 (Dense)              (None, 3)                 33        \n",
      "=================================================================\n",
      "Total params: 193\n",
      "Trainable params: 193\n",
      "Non-trainable params: 0\n",
      "_________________________________________________________________\n",
      "None\n"
     ]
    }
   ],
   "source": [
    "# Define a classifier network\n",
    "hl = 10 # Number of hidden layer nodes\n",
    "\n",
    "model = Sequential()\n",
    "model.add(Dense(hl, input_dim=len(features), activation='relu'))\n",
    "model.add(Dense(hl, input_dim=hl, activation='relu'))\n",
    "model.add(Dense(len(penguin_classes), input_dim=hl, activation='softmax'))\n",
    "\n",
    "print(model.summary())"
   ]
  },
  {
   "cell_type": "markdown",
   "metadata": {},
   "source": [
    "## Train the model\n",
    "\n",
    "To train the model, we need to repeatedly feed the training values forward through the network, use a loss function to calculate the loss, use an optimizer to backpropagate the weight and bias value adjustments, and validate the model using the test data we withheld.\n",
    "\n",
    "To do this, we'll apply an Adam optimizer to a categorical cross-entropy loss function iteratively over 50 epochs."
   ]
  },
  {
   "cell_type": "code",
   "execution_count": 8,
   "metadata": {
    "scrolled": true,
    "tags": []
   },
   "outputs": [
    {
     "name": "stdout",
     "output_type": "stream",
     "text": [
      "Train on 957 samples, validate on 411 samples\n",
      "Epoch 1/50\n",
      "957/957 [==============================] - 11s 12ms/sample - loss: 23.9581 - accuracy: 0.1912 - val_loss: 11.4747 - val_accuracy: 0.2165\n",
      "Epoch 2/50\n",
      "957/957 [==============================] - 1s 545us/sample - loss: 5.1106 - accuracy: 0.2100 - val_loss: 1.6056 - val_accuracy: 0.1630\n",
      "Epoch 3/50\n",
      "957/957 [==============================] - 0s 272us/sample - loss: 1.2928 - accuracy: 0.2403 - val_loss: 1.1707 - val_accuracy: 0.3650\n",
      "Epoch 4/50\n",
      "957/957 [==============================] - 0s 272us/sample - loss: 1.1309 - accuracy: 0.3365 - val_loss: 1.1218 - val_accuracy: 0.3577\n",
      "Epoch 5/50\n",
      "957/957 [==============================] - 0s 266us/sample - loss: 1.0616 - accuracy: 0.4619 - val_loss: 1.0550 - val_accuracy: 0.4769\n",
      "Epoch 6/50\n",
      "957/957 [==============================] - 0s 288us/sample - loss: 1.0238 - accuracy: 0.5622 - val_loss: 1.0520 - val_accuracy: 0.4380\n",
      "Epoch 7/50\n",
      "957/957 [==============================] - 0s 261us/sample - loss: 1.0110 - accuracy: 0.5747 - val_loss: 1.0267 - val_accuracy: 0.6326\n",
      "Epoch 8/50\n",
      "957/957 [==============================] - 0s 262us/sample - loss: 0.9978 - accuracy: 0.6186 - val_loss: 1.0153 - val_accuracy: 0.6423\n",
      "Epoch 9/50\n",
      "957/957 [==============================] - 0s 259us/sample - loss: 0.9853 - accuracy: 0.6552 - val_loss: 1.0081 - val_accuracy: 0.6131\n",
      "Epoch 10/50\n",
      "957/957 [==============================] - 0s 266us/sample - loss: 0.9723 - accuracy: 0.6740 - val_loss: 0.9911 - val_accuracy: 0.6861\n",
      "Epoch 11/50\n",
      "957/957 [==============================] - 0s 251us/sample - loss: 0.9580 - accuracy: 0.6876 - val_loss: 0.9750 - val_accuracy: 0.6788\n",
      "Epoch 12/50\n",
      "957/957 [==============================] - 0s 269us/sample - loss: 0.9394 - accuracy: 0.7147 - val_loss: 0.9565 - val_accuracy: 0.7032\n",
      "Epoch 13/50\n",
      "957/957 [==============================] - 0s 276us/sample - loss: 0.8791 - accuracy: 0.7106 - val_loss: 0.8028 - val_accuracy: 0.7397\n",
      "Epoch 14/50\n",
      "957/957 [==============================] - 0s 280us/sample - loss: 0.7523 - accuracy: 0.7388 - val_loss: 0.7418 - val_accuracy: 0.7421\n",
      "Epoch 15/50\n",
      "957/957 [==============================] - 0s 278us/sample - loss: 0.6824 - accuracy: 0.7607 - val_loss: 0.6899 - val_accuracy: 0.7494\n",
      "Epoch 16/50\n",
      "957/957 [==============================] - 0s 324us/sample - loss: 0.6243 - accuracy: 0.7827 - val_loss: 0.6313 - val_accuracy: 0.7445\n",
      "Epoch 17/50\n",
      "957/957 [==============================] - 0s 347us/sample - loss: 0.5743 - accuracy: 0.7962 - val_loss: 0.6124 - val_accuracy: 0.7518\n",
      "Epoch 18/50\n",
      "957/957 [==============================] - 0s 289us/sample - loss: 0.5411 - accuracy: 0.8004 - val_loss: 0.5490 - val_accuracy: 0.7664\n",
      "Epoch 19/50\n",
      "957/957 [==============================] - 0s 349us/sample - loss: 0.4961 - accuracy: 0.8109 - val_loss: 0.5125 - val_accuracy: 0.7883\n",
      "Epoch 20/50\n",
      "957/957 [==============================] - 0s 305us/sample - loss: 0.4721 - accuracy: 0.8171 - val_loss: 0.4886 - val_accuracy: 0.7859\n",
      "Epoch 21/50\n",
      "957/957 [==============================] - 0s 310us/sample - loss: 0.4330 - accuracy: 0.8370 - val_loss: 0.4619 - val_accuracy: 0.7640\n",
      "Epoch 22/50\n",
      "957/957 [==============================] - 0s 294us/sample - loss: 0.4129 - accuracy: 0.8454 - val_loss: 0.4418 - val_accuracy: 0.8321\n",
      "Epoch 23/50\n",
      "957/957 [==============================] - 0s 308us/sample - loss: 0.3856 - accuracy: 0.8662 - val_loss: 0.4164 - val_accuracy: 0.8005\n",
      "Epoch 24/50\n",
      "957/957 [==============================] - 0s 295us/sample - loss: 0.3660 - accuracy: 0.8631 - val_loss: 0.3917 - val_accuracy: 0.8759\n",
      "Epoch 25/50\n",
      "957/957 [==============================] - 0s 301us/sample - loss: 0.3481 - accuracy: 0.8934 - val_loss: 0.3810 - val_accuracy: 0.8127\n",
      "Epoch 26/50\n",
      "957/957 [==============================] - 0s 297us/sample - loss: 0.3256 - accuracy: 0.9007 - val_loss: 0.3496 - val_accuracy: 0.8491\n",
      "Epoch 27/50\n",
      "957/957 [==============================] - 0s 307us/sample - loss: 0.3116 - accuracy: 0.9007 - val_loss: 0.3338 - val_accuracy: 0.8881\n",
      "Epoch 28/50\n",
      "957/957 [==============================] - 0s 307us/sample - loss: 0.2954 - accuracy: 0.9248 - val_loss: 0.3185 - val_accuracy: 0.9148\n",
      "Epoch 29/50\n",
      "957/957 [==============================] - 0s 292us/sample - loss: 0.2782 - accuracy: 0.9269 - val_loss: 0.3125 - val_accuracy: 0.9173\n",
      "Epoch 30/50\n",
      "957/957 [==============================] - 0s 305us/sample - loss: 0.2625 - accuracy: 0.9331 - val_loss: 0.2837 - val_accuracy: 0.9100\n",
      "Epoch 31/50\n",
      "957/957 [==============================] - 0s 302us/sample - loss: 0.2488 - accuracy: 0.9383 - val_loss: 0.2725 - val_accuracy: 0.9173\n",
      "Epoch 32/50\n",
      "957/957 [==============================] - 0s 302us/sample - loss: 0.2357 - accuracy: 0.9425 - val_loss: 0.2560 - val_accuracy: 0.9148\n",
      "Epoch 33/50\n",
      "957/957 [==============================] - 0s 323us/sample - loss: 0.2216 - accuracy: 0.9530 - val_loss: 0.2386 - val_accuracy: 0.9513\n",
      "Epoch 34/50\n",
      "957/957 [==============================] - 0s 369us/sample - loss: 0.2122 - accuracy: 0.9561 - val_loss: 0.2284 - val_accuracy: 0.9611\n",
      "Epoch 35/50\n",
      "957/957 [==============================] - 0s 316us/sample - loss: 0.1958 - accuracy: 0.9624 - val_loss: 0.2155 - val_accuracy: 0.9562\n",
      "Epoch 36/50\n",
      "957/957 [==============================] - 0s 304us/sample - loss: 0.1836 - accuracy: 0.9613 - val_loss: 0.2000 - val_accuracy: 0.9684\n",
      "Epoch 37/50\n",
      "957/957 [==============================] - 0s 320us/sample - loss: 0.1786 - accuracy: 0.9603 - val_loss: 0.2024 - val_accuracy: 0.9319\n",
      "Epoch 38/50\n",
      "957/957 [==============================] - 0s 306us/sample - loss: 0.1666 - accuracy: 0.9687 - val_loss: 0.1799 - val_accuracy: 0.9684\n",
      "Epoch 39/50\n",
      "957/957 [==============================] - 0s 290us/sample - loss: 0.1568 - accuracy: 0.9697 - val_loss: 0.1789 - val_accuracy: 0.9562\n",
      "Epoch 40/50\n",
      "957/957 [==============================] - 0s 290us/sample - loss: 0.1493 - accuracy: 0.9687 - val_loss: 0.1580 - val_accuracy: 0.9708\n",
      "Epoch 41/50\n",
      "957/957 [==============================] - 0s 342us/sample - loss: 0.1367 - accuracy: 0.9770 - val_loss: 0.1524 - val_accuracy: 0.9732\n",
      "Epoch 42/50\n",
      "957/957 [==============================] - 0s 316us/sample - loss: 0.1320 - accuracy: 0.9728 - val_loss: 0.1469 - val_accuracy: 0.9732\n",
      "Epoch 43/50\n",
      "957/957 [==============================] - 0s 282us/sample - loss: 0.1253 - accuracy: 0.9770 - val_loss: 0.1617 - val_accuracy: 0.9465\n",
      "Epoch 44/50\n",
      "957/957 [==============================] - 0s 298us/sample - loss: 0.1191 - accuracy: 0.9760 - val_loss: 0.1283 - val_accuracy: 0.9805\n",
      "Epoch 45/50\n",
      "957/957 [==============================] - 0s 288us/sample - loss: 0.1117 - accuracy: 0.9812 - val_loss: 0.1198 - val_accuracy: 0.9805\n",
      "Epoch 46/50\n",
      "957/957 [==============================] - 0s 321us/sample - loss: 0.1072 - accuracy: 0.9760 - val_loss: 0.1137 - val_accuracy: 0.9805\n",
      "Epoch 47/50\n",
      "957/957 [==============================] - 0s 309us/sample - loss: 0.1016 - accuracy: 0.9791 - val_loss: 0.1117 - val_accuracy: 0.9805\n",
      "Epoch 48/50\n",
      "957/957 [==============================] - 0s 334us/sample - loss: 0.0985 - accuracy: 0.9822 - val_loss: 0.1023 - val_accuracy: 0.9830\n",
      "Epoch 49/50\n",
      "957/957 [==============================] - 0s 274us/sample - loss: 0.0935 - accuracy: 0.9833 - val_loss: 0.0970 - val_accuracy: 0.9830\n",
      "Epoch 50/50\n",
      "957/957 [==============================] - 0s 374us/sample - loss: 0.0842 - accuracy: 0.9854 - val_loss: 0.0924 - val_accuracy: 0.9830\n"
     ]
    }
   ],
   "source": [
    "#hyper-parameters for optimizer\n",
    "learning_rate = 0.001\n",
    "opt = optimizers.Adam(lr=learning_rate)\n",
    "\n",
    "model.compile(loss='categorical_crossentropy',\n",
    "              optimizer=opt,\n",
    "              metrics=['accuracy'])\n",
    "\n",
    "# Train the model over 50 epochs using 10-observation batches and using the test holdout dataset for validation\n",
    "num_epochs = 50\n",
    "history = model.fit(x_train, y_train, epochs=num_epochs, batch_size=10, validation_data=(x_test, y_test))"
   ]
  },
  {
   "cell_type": "markdown",
   "metadata": {},
   "source": [
    "## Review training and validation loss\n",
    "\n",
    "After training is complete, we can examine the loss metrics we recorded while training and validating the model. We're really looking for two things:\n",
    "* The loss should reduce with each epoch, showing that the model is learning the right weights and biases to predict the correct labels.\n",
    "* The training loss and validations loss should follow a similar trend, showing that the model is not overfitting to the training data.\n",
    "\n",
    "Let's plot the loss metrics and see:"
   ]
  },
  {
   "cell_type": "code",
   "execution_count": 9,
   "metadata": {},
   "outputs": [
    {
     "data": {
      "image/png": "[encoded data removed]",
      "text/plain": [
       "<Figure size 432x288 with 1 Axes>"
      ]
     },
     "metadata": {},
     "output_type": "display_data"
    }
   ],
   "source": [
    "%matplotlib inline\n",
    "from matplotlib import pyplot as plt\n",
    "\n",
    "epoch_nums = range(1,num_epochs+1)\n",
    "training_loss = history.history[\"loss\"]\n",
    "validation_loss = history.history[\"val_loss\"]\n",
    "plt.plot(epoch_nums, training_loss)\n",
    "plt.plot(epoch_nums, validation_loss)\n",
    "plt.xlabel('epoch')\n",
    "plt.ylabel('loss')\n",
    "plt.legend(['training', 'validation'], loc='upper right')\n",
    "plt.show()"
   ]
  },
  {
   "cell_type": "markdown",
   "metadata": {},
   "source": [
    "## View the learned weights and biases\n",
    "\n",
    "The trained model consists of the final weights and biases that were determined by the optimizer during training. Based on our network model we should expect the following values for each layer:\n",
    "* Layer 1: There are four input values going to ten output nodes, so there should be 4 x 10 weights and 10 bias values.\n",
    "* Layer 2: There are ten input values going to ten output nodes, so there should be 10 x 10 weights and 10 bias values.\n",
    "* Layer 3: There are ten input values going to three output nodes, so there should be 10 x 3 weights and 3 bias values."
   ]
  },
  {
   "cell_type": "code",
   "execution_count": 10,
   "metadata": {
    "tags": []
   },
   "outputs": [
    {
     "name": "stdout",
     "output_type": "stream",
     "text": [
      "------------\n",
      "Weights:\n",
      " [[-0.27236846 -0.3841947   0.03379932  0.08020484 -0.10909867  0.04864774\n",
      "  -0.19065085  0.8492172   0.36403456 -0.4905011 ]\n",
      " [ 0.27471453  0.21265197  0.08210249 -0.17707926 -0.10406601  0.8013505\n",
      "   0.34655285 -0.04583654 -0.6216655  -0.5447268 ]\n",
      " [-0.28836262 -0.634329    0.28380346  0.34767175  0.23550075 -0.00954581\n",
      "   0.14503223 -0.79492074 -0.5299858   0.3296095 ]\n",
      " [-0.42851955 -0.24623463 -0.2856938  -0.5230521  -0.43773973  0.3760872\n",
      "  -0.07728564  0.23641166  0.75341916 -0.4691702 ]] \n",
      "Biases:\n",
      " [ 0.          0.         -0.01255729  0.          0.          0.20416498\n",
      " -0.19288678 -0.25603777 -0.33920762  0.        ]\n",
      "------------\n",
      "Weights:\n",
      " [[ 0.0607031  -0.30530828  0.39975524  0.3037489   0.15896738  0.03326017\n",
      "  -0.53190327  0.40915883 -0.03316814 -0.1240823 ]\n",
      " [ 0.42301047  0.14984506 -0.54566675  0.3919103  -0.4295466   0.50397205\n",
      "  -0.31616646  0.17803025 -0.41518384 -0.38429344]\n",
      " [ 0.5336163   0.37752342 -0.4692005   0.17206895 -0.04215616  0.5297911\n",
      "   0.43713546  0.28166053  0.2651602  -0.2233491 ]\n",
      " [-0.04491103  0.19579428 -0.26655364  0.17358297  0.3112036   0.53520477\n",
      "  -0.3109483  -0.5284722  -0.00098199 -0.44063687]\n",
      " [ 0.5135      0.39074183  0.39206952 -0.03048635  0.02663547  0.20555359\n",
      "   0.09307003  0.24590033 -0.49007446 -0.2917699 ]\n",
      " [ 0.50339884 -0.3901862   0.6121799   0.29417115 -0.26569188 -0.5313456\n",
      "   0.4150001  -0.1575267   0.00293762 -0.04614469]\n",
      " [ 0.26545775 -0.19090915  0.0950442  -0.30627972  0.12806404 -0.38203925\n",
      "  -0.21649218  0.41360486  0.26046944 -0.512807  ]\n",
      " [-0.43867162 -0.21495155 -0.15005371 -0.46094683 -0.20800981  0.3025053\n",
      "  -0.00308302  0.4056579   0.27428123 -0.25888777]\n",
      " [-0.50796324 -0.4176368  -0.250233   -0.49696004 -0.27225545 -0.38996994\n",
      "  -0.4074373   0.17525797 -0.26369876  0.22793204]\n",
      " [ 0.32320213 -0.30822456 -0.37115166  0.45703936 -0.35191107  0.24120325\n",
      "  -0.2000556   0.23292273 -0.33508268 -0.51532805]] \n",
      "Biases:\n",
      " [-0.03085382  0.          0.4506089   0.          0.          0.\n",
      "  0.11423885 -0.2888649  -0.29932067 -0.0155523 ]\n",
      "------------\n",
      "Weights:\n",
      " [[-0.39629358  0.32632893 -0.03440309]\n",
      " [ 0.50995994 -0.12620813 -0.6595991 ]\n",
      " [ 0.5679652   0.01125664 -0.22761491]\n",
      " [ 0.54463303 -0.50025463  0.06109887]\n",
      " [ 0.26757038 -0.67376095 -0.18467396]\n",
      " [ 0.08888024 -0.2536324   0.20257705]\n",
      " [ 1.1672643  -1.5600985   0.63953996]\n",
      " [-0.48231733  0.39103696  0.19215295]\n",
      " [-0.5149149  -0.34989288  0.67895263]\n",
      " [ 0.6406935  -0.6127149  -0.03138942]] \n",
      "Biases:\n",
      " [ 0.33621806  0.403943   -0.46484232]\n"
     ]
    }
   ],
   "source": [
    "for layer in model.layers:\n",
    "    weights = layer.get_weights()[0]\n",
    "    biases = layer.get_weights()[1]\n",
    "    print('------------\\nWeights:\\n',weights,'\\nBiases:\\n', biases)"
   ]
  },
  {
   "cell_type": "markdown",
   "metadata": {},
   "source": [
    "## Evaluate model performance\n",
    "\n",
    "So, is the model any good? The raw accuracy reported from the validation data would seem to indicate that it predicts pretty well; but it's typically useful to dig a little deeper and compare the predictions for each possible class. A common way to visualize the performace of a classification model is to create a *confusion matrix* that shows a crosstab of correct and incorrect predictions for each class."
   ]
  },
  {
   "cell_type": "code",
   "execution_count": 11,
   "metadata": {},
   "outputs": [
    {
     "data": {
      "image/png": "[encoded data removed]",
      "text/plain": [
       "<Figure size 432x288 with 2 Axes>"
      ]
     },
     "metadata": {},
     "output_type": "display_data"
    }
   ],
   "source": [
    "# Tensorflow doesn't have a built-in confusion matrix metric, so we'll use SciKit-Learn\n",
    "import numpy as np\n",
    "from sklearn.metrics import confusion_matrix\n",
    "import matplotlib.pyplot as plt\n",
    "%matplotlib inline\n",
    "\n",
    "\n",
    "class_probabilities = model.predict(x_test)\n",
    "predictions = np.argmax(class_probabilities, axis=1)\n",
    "true_labels = np.argmax(y_test, axis=1)\n",
    "\n",
    "# Plot the confusion matrix\n",
    "cm = confusion_matrix(true_labels, predictions)\n",
    "plt.imshow(cm, interpolation=\"nearest\", cmap=plt.cm.Blues)\n",
    "plt.colorbar()\n",
    "tick_marks = np.arange(len(penguin_classes))\n",
    "plt.xticks(tick_marks, penguin_classes, rotation=85)\n",
    "plt.yticks(tick_marks, penguin_classes)\n",
    "plt.xlabel(\"Actual Class\")\n",
    "plt.ylabel(\"Predicted Class\")\n",
    "plt.show()"
   ]
  },
  {
   "cell_type": "markdown",
   "metadata": {},
   "source": [
    "The confusion matrix should show a strong diagonal line indicating that there are more correct than incorrect predictions for each class.\n",
    "\n",
    "## Use the trained model\n",
    "\n",
    "Now that we have a model we believe is reasonably accurate, we can use it to predict the species of new penguin observations:"
   ]
  },
  {
   "cell_type": "code",
   "execution_count": 12,
   "metadata": {
    "tags": []
   },
   "outputs": [
    {
     "name": "stdout",
     "output_type": "stream",
     "text": [
      "New sample: [[50.4 15.3 20.  50. ]]\n",
      "Gentoo\n"
     ]
    }
   ],
   "source": [
    "# Save the trained model\n",
    "modelFileName = 'models/penguin-classifier.h5'\n",
    "model.save(modelFileName)\n",
    "\n",
    "# Load the saved model when required\n",
    "del model  # deletes the existing model variable\n",
    "model = models.load_model(modelFileName) # loads the saved model\n",
    "\n",
    "x_new = np.array([[50.4,15.3,20,50]])\n",
    "print ('New sample: {}'.format(x_new))\n",
    "\n",
    "class_probabilities = model.predict(x_new)\n",
    "predictions = np.argmax(class_probabilities, axis=1)\n",
    "\n",
    "print(penguin_classes[predictions[0]])"
   ]
  },
  {
   "cell_type": "markdown",
   "metadata": {},
   "source": [
    "## Learn more\n",
    "\n",
    "This notebook was designed to help you understand the basic concepts and principles involved in deep neural networks, using a simple Tensorflow example. To learn more about Tensorflow, take a look at the <a href=\"https://www.tensorflow.org/\" target=\"_blank\">Tensorflow web site</a>."
   ]
  }
 ],
 "metadata": {
  "kernelspec": {
   "display_name": "Python 3",
   "language": "python",
   "name": "python3"
  },
  "language_info": {
   "codemirror_mode": {
    "name": "ipython",
    "version": 3
   },
   "file_extension": ".py",
   "mimetype": "text/x-python",
   "name": "python",
   "nbconvert_exporter": "python",
   "pygments_lexer": "ipython3",
   "version": "3.6.5"
  }
 },
 "nbformat": 4,
 "nbformat_minor": 2
}
