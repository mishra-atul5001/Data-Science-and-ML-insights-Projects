{
  "nbformat": 4,
  "nbformat_minor": 0,
  "metadata": {
    "colab": {
      "name": "Sentiment_Analysis_Keras_IMDB.ipynb",
      "provenance": [],
      "authorship_tag": "ABX9TyONCscFdiu+ASWVRC3+yQYx",
      "include_colab_link": true
    },
    "kernelspec": {
      "name": "python3",
      "display_name": "Python 3"
    }
  },
  "cells": [
    {
      "cell_type": "markdown",
      "metadata": {
        "id": "view-in-github",
        "colab_type": "text"
      },
      "source": [
        "<a href=\"https://colab.research.google.com/github/mishra-atul5001/Data-Science-and-ML-insights-Projects/blob/master/Sentiment_Analysis_Keras_IMDB.ipynb\" target=\"_parent\"><img src=\"https://colab.research.google.com/assets/colab-badge.svg\" alt=\"Open In Colab\"/></a>"
      ]
    },
    {
      "cell_type": "markdown",
      "metadata": {
        "id": "vmYyyZ9oS9Nz",
        "colab_type": "text"
      },
      "source": [
        "Hi!\n",
        "\n",
        "Welcome to another example of my **Weekend Projects**, where the problem statement is like: **Perform Sentiment Analysis on the Keras IMDB DataSet using a RNN Model**.\n",
        "\n",
        "Firstly i would like to thank: [Sentiment Analysis with RNN from Susan](https://github.com/susanli2016/NLP-with-Python/blob/master/Sentiment%20Analysis%20with%20RNN.ipynb) as this repo helped me in taking the first step. I would be almost replicating the same initially, but in order to achieve better performance, i'll be playing around with **Regex,StopWords,Lemmatization** which involves filtering the text to a greater depth.\n",
        "\n",
        "This should help, and if it doesn't then no worry!, becasue we'll be trying out multiple models too!\n",
        "\n",
        "Let's begin!."
      ]
    },
    {
      "cell_type": "code",
      "metadata": {
        "id": "fe0lLHrdUEj6",
        "colab_type": "code",
        "colab": {}
      },
      "source": [
        ""
      ],
      "execution_count": null,
      "outputs": []
    }
  ]
}