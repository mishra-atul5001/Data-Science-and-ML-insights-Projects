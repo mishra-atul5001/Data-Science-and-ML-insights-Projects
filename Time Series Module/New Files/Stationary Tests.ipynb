{
 "cells": [
  {
   "cell_type": "code",
   "execution_count": 1,
   "metadata": {},
   "outputs": [
    {
     "data": {
      "text/plain": [
       "0    100.0\n",
       "1     99.6\n",
       "2     99.4\n",
       "3     99.1\n",
       "4     99.2\n",
       "Name: Exchange Rate TWI, dtype: float64"
      ]
     },
     "execution_count": 1,
     "metadata": {},
     "output_type": "execute_result"
    }
   ],
   "source": [
    "import numpy as np\n",
    "import pandas as pd\n",
    "import matplotlib.pyplot as plt\n",
    "\n",
    "df1 = pd.read_csv(\"exchange-rate-twi.csv\")\n",
    "df1.iloc[:,1].head()"
   ]
  },
  {
   "cell_type": "code",
   "execution_count": 5,
   "metadata": {},
   "outputs": [
    {
     "name": "stdout",
     "output_type": "stream",
     "text": [
      "Null Hypothesis: Not Stationary\n",
      "ADF Statistic: -0.805468\n",
      "p-value: 0.817511\n",
      "Critical Values:\n",
      "\t1%: -3.452\n",
      "\t5%: -2.871\n",
      "\t10%: -2.572\n"
     ]
    }
   ],
   "source": [
    "import statsmodels.tsa.stattools as ts\n",
    "\n",
    "X = pd.Series(df1.iloc[:,1])\n",
    "adf_test = ts.adfuller(X, autolag='AIC')\n",
    "print('Null Hypothesis: Not Stationary')\n",
    "print('ADF Statistic: %f' % adf_test[0])\n",
    "print('p-value: %f' % adf_test[1])\n",
    "print('Critical Values:')\n",
    "for key, value in adf_test[4].items():\n",
    "    print('\\t%s: %.3f' % (key, value))"
   ]
  },
  {
   "cell_type": "code",
   "execution_count": 6,
   "metadata": {},
   "outputs": [
    {
     "name": "stdout",
     "output_type": "stream",
     "text": [
      "Null Hypothesis: Stationary\n",
      "KPSS Statistic: 5.636535\n",
      "p-value: 0.010000\n",
      "Critical Values:\n",
      "\t10%: 0.347\n",
      "\t5%: 0.463\n",
      "\t2.5%: 0.574\n",
      "\t1%: 0.739\n"
     ]
    },
    {
     "name": "stderr",
     "output_type": "stream",
     "text": [
      "C:\\Users\\Sumit Shukla\\Anaconda3\\lib\\site-packages\\statsmodels\\tsa\\stattools.py:1258: InterpolationWarning: p-value is smaller than the indicated p-value\n",
      "  warn(\"p-value is smaller than the indicated p-value\", InterpolationWarning)\n"
     ]
    }
   ],
   "source": [
    "kpss_test = ts.kpss(X, regression='c', lags=4, store=False)\n",
    "print('Null Hypothesis: Stationary')\n",
    "print('KPSS Statistic: %f' % kpss_test[0])\n",
    "print('p-value: %f' % kpss_test[1])\n",
    "print('Critical Values:')\n",
    "for key, value in kpss_test[3].items():\n",
    "    print('\\t%s: %.3f' % (key, value))\n"
   ]
  }
 ],
 "metadata": {
  "kernelspec": {
   "display_name": "Python 3",
   "language": "python",
   "name": "python3"
  },
  "language_info": {
   "codemirror_mode": {
    "name": "ipython",
    "version": 3
   },
   "file_extension": ".py",
   "mimetype": "text/x-python",
   "name": "python",
   "nbconvert_exporter": "python",
   "pygments_lexer": "ipython3",
   "version": "3.6.4"
  }
 },
 "nbformat": 4,
 "nbformat_minor": 2
}
