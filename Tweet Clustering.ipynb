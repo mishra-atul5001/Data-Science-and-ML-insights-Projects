{
 "cells": [
  {
   "cell_type": "markdown",
   "metadata": {},
   "source": [
    "## Tweet Analysis and Clustering!\n",
    "\n",
    "This [dataset](https://archive.ics.uci.edu/ml/datasets/Health+News+in+Twitter#) contains health news from more than 15 major health news agencies such as BBC, CNN, and NYT.\n",
    "\n",
    "Columns we have:  \n",
    "-  tweet id  \n",
    "- date and time  \n",
    "- tweet  \n",
    "\n",
    "#### Our Objective:  \n",
    "- To cluster Similar Texts/Tweets using Clustering and Present useful inferences."
   ]
  },
  {
   "cell_type": "code",
   "execution_count": 1,
   "metadata": {},
   "outputs": [
    {
     "name": "stdout",
     "output_type": "stream",
     "text": [
      "[nltk_data] Downloading package stopwords to\n",
      "[nltk_data]     C:\\Users\\mishr\\AppData\\Roaming\\nltk_data...\n",
      "[nltk_data]   Package stopwords is already up-to-date!\n",
      "[nltk_data] Downloading package wordnet to\n",
      "[nltk_data]     C:\\Users\\mishr\\AppData\\Roaming\\nltk_data...\n",
      "[nltk_data]   Package wordnet is already up-to-date!\n"
     ]
    }
   ],
   "source": [
    "import numpy as np\n",
    "import pandas as pd\n",
    "import matplotlib.pyplot as plt\n",
    "import nltk\n",
    "import re\n",
    "from nltk.corpus import stopwords\n",
    "from nltk.stem import WordNetLemmatizer\n",
    "from sklearn.cluster import KMeans\n",
    "from sklearn.cluster import MiniBatchKMeans\n",
    "from sklearn.feature_extraction.text import TfidfVectorizer\n",
    "from sklearn.decomposition import PCA\n",
    "nltk.download('stopwords')\n",
    "nltk.download('wordnet')\n",
    "import warnings\n",
    "warnings.filterwarnings('ignore')"
   ]
  },
  {
   "cell_type": "code",
   "execution_count": 2,
   "metadata": {},
   "outputs": [
    {
     "data": {
      "text/html": [
       "<div>\n",
       "<style scoped>\n",
       "    .dataframe tbody tr th:only-of-type {\n",
       "        vertical-align: middle;\n",
       "    }\n",
       "\n",
       "    .dataframe tbody tr th {\n",
       "        vertical-align: top;\n",
       "    }\n",
       "\n",
       "    .dataframe thead th {\n",
       "        text-align: right;\n",
       "    }\n",
       "</style>\n",
       "<table border=\"1\" class=\"dataframe\">\n",
       "  <thead>\n",
       "    <tr style=\"text-align: right;\">\n",
       "      <th></th>\n",
       "      <th>tweet_id</th>\n",
       "      <th>date_time</th>\n",
       "      <th>tweet_text</th>\n",
       "    </tr>\n",
       "  </thead>\n",
       "  <tbody>\n",
       "    <tr>\n",
       "      <th>0</th>\n",
       "      <td>585978391360221184</td>\n",
       "      <td>Thu Apr 09 01:31:50 +0000 2015</td>\n",
       "      <td>Breast cancer risk test devised http://bbc.in/...</td>\n",
       "    </tr>\n",
       "    <tr>\n",
       "      <th>1</th>\n",
       "      <td>585947808772960257</td>\n",
       "      <td>Wed Apr 08 23:30:18 +0000 2015</td>\n",
       "      <td>GP workload harming care - BMA poll http://bbc...</td>\n",
       "    </tr>\n",
       "    <tr>\n",
       "      <th>2</th>\n",
       "      <td>585947807816650752</td>\n",
       "      <td>Wed Apr 08 23:30:18 +0000 2015</td>\n",
       "      <td>Short people's 'heart risk greater' http://bbc...</td>\n",
       "    </tr>\n",
       "    <tr>\n",
       "      <th>3</th>\n",
       "      <td>585866060991078401</td>\n",
       "      <td>Wed Apr 08 18:05:28 +0000 2015</td>\n",
       "      <td>New approach against HIV 'promising' http://bb...</td>\n",
       "    </tr>\n",
       "    <tr>\n",
       "      <th>4</th>\n",
       "      <td>585794106170839041</td>\n",
       "      <td>Wed Apr 08 13:19:33 +0000 2015</td>\n",
       "      <td>Coalition 'undermined NHS' - doctors http://bb...</td>\n",
       "    </tr>\n",
       "  </tbody>\n",
       "</table>\n",
       "</div>"
      ],
      "text/plain": [
       "             tweet_id                       date_time  \\\n",
       "0  585978391360221184  Thu Apr 09 01:31:50 +0000 2015   \n",
       "1  585947808772960257  Wed Apr 08 23:30:18 +0000 2015   \n",
       "2  585947807816650752  Wed Apr 08 23:30:18 +0000 2015   \n",
       "3  585866060991078401  Wed Apr 08 18:05:28 +0000 2015   \n",
       "4  585794106170839041  Wed Apr 08 13:19:33 +0000 2015   \n",
       "\n",
       "                                          tweet_text  \n",
       "0  Breast cancer risk test devised http://bbc.in/...  \n",
       "1  GP workload harming care - BMA poll http://bbc...  \n",
       "2  Short people's 'heart risk greater' http://bbc...  \n",
       "3  New approach against HIV 'promising' http://bb...  \n",
       "4  Coalition 'undermined NHS' - doctors http://bb...  "
      ]
     },
     "execution_count": 2,
     "metadata": {},
     "output_type": "execute_result"
    }
   ],
   "source": [
    "data = pd.read_csv('Health-Tweets/bbchealth.txt', sep=\"|\", header=None)\n",
    "data.columns = [\"tweet_id\", \"date_time\", \"tweet_text\"]\n",
    "data.head()"
   ]
  },
  {
   "cell_type": "code",
   "execution_count": 3,
   "metadata": {},
   "outputs": [
    {
     "name": "stdout",
     "output_type": "stream",
     "text": [
      "<class 'pandas.core.frame.DataFrame'>\n",
      "RangeIndex: 3929 entries, 0 to 3928\n",
      "Data columns (total 3 columns):\n",
      " #   Column      Non-Null Count  Dtype \n",
      "---  ------      --------------  ----- \n",
      " 0   tweet_id    3929 non-null   int64 \n",
      " 1   date_time   3929 non-null   object\n",
      " 2   tweet_text  3929 non-null   object\n",
      "dtypes: int64(1), object(2)\n",
      "memory usage: 92.2+ KB\n",
      "-------------------------\n",
      "tweet_id      0.0\n",
      "date_time     0.0\n",
      "tweet_text    0.0\n",
      "dtype: float64\n"
     ]
    }
   ],
   "source": [
    "data.info() # Checking columns and number of entries\n",
    "print('-------------------------')\n",
    "print(round(data.isnull().sum()/len(data),2)) # Checking for any null values"
   ]
  },
  {
   "cell_type": "code",
   "execution_count": 5,
   "metadata": {},
   "outputs": [
    {
     "name": "stdout",
     "output_type": "stream",
     "text": [
      "(3929, 1)\n"
     ]
    }
   ],
   "source": [
    "X_train = data.drop(columns=['tweet_id','date_time']).reset_index(drop=True)\n",
    "X_train.head()\n",
    "print(X_train.shape)"
   ]
  },
  {
   "cell_type": "code",
   "execution_count": 6,
   "metadata": {},
   "outputs": [],
   "source": [
    "import string\n",
    "def text_process(text):\n",
    "    '''\n",
    "    Takes in a string of text, then performs the following:\n",
    "    1. Remove all punctuation\n",
    "    2. Remove all stopwords\n",
    "    3. Return the cleaned text as a list of words\n",
    "    4. Remove words\n",
    "    '''\n",
    "    stemmer = WordNetLemmatizer()\n",
    "    nopunc = [char for char in text if char not in string.punctuation]\n",
    "    nopunc = ''.join([i for i in nopunc if not i.isdigit()])\n",
    "    nopunc =  [word.lower() for word in nopunc.split() if word not in stopwords.words('english')]\n",
    "    return [stemmer.lemmatize(word) for word in nopunc]\n",
    "\n",
    "X_train['tweet_text'] = X_train['tweet_text'].apply(lambda x: re.split('https:\\/\\/.*', str(x))[0])\n",
    "X_train['tweet_text'] = X_train['tweet_text'].apply(lambda x: re.split('http:\\/\\/.*', str(x))[0])"
   ]
  },
  {
   "cell_type": "markdown",
   "metadata": {},
   "source": [
    "The above function is created for **line by line** manipulation, hence we will use **df.values** to access all rows at once!  \n",
    "\n",
    "Vectorization is nothing but creating a vector of words called vocabulary.  \n",
    "***TFIDF Vectorizer is used to create a vocabulary. TFIDF is a product of how frequent a word is in a document multiplied by how unique a word is w.r.t the entire corpus. ngram_range parameter : which will help to create one , two or more word vocabulary depending on the requirement.***"
   ]
  },
  {
   "cell_type": "code",
   "execution_count": 7,
   "metadata": {},
   "outputs": [],
   "source": [
    "tfidfconvert = TfidfVectorizer(analyzer=text_process,ngram_range=(1,3)).fit(X_train.tweet_text)\n",
    "\n",
    "X_transformed=tfidfconvert.transform(X_train.tweet_text)"
   ]
  },
  {
   "cell_type": "code",
   "execution_count": 8,
   "metadata": {
    "scrolled": true
   },
   "outputs": [
    {
     "data": {
      "text/plain": [
       "3933"
      ]
     },
     "execution_count": 8,
     "metadata": {},
     "output_type": "execute_result"
    }
   ],
   "source": [
    "# Checking the length of the Vocabulary Created!\n",
    "len(tfidfconvert.vocabulary_)"
   ]
  },
  {
   "cell_type": "code",
   "execution_count": 9,
   "metadata": {},
   "outputs": [
    {
     "data": {
      "image/png": "[encoded data removed]",
      "text/plain": [
       "<Figure size 432x288 with 1 Axes>"
      ]
     },
     "metadata": {},
     "output_type": "display_data"
    }
   ],
   "source": [
    "Sum_of_squared_distances = []\n",
    "K = range(1,20)\n",
    "for k in K:\n",
    "    km = KMeans(n_clusters=k)\n",
    "    km = km.fit(X_transformed)\n",
    "    Sum_of_squared_distances.append(km.inertia_)\n",
    "\n",
    "\n",
    "import matplotlib.pyplot as plt\n",
    "\n",
    "plt.plot(K, Sum_of_squared_distances, 'bx-')\n",
    "plt.xlabel('k')\n",
    "plt.ylabel('Sum_of_squared_distances')\n",
    "plt.title('Elbow Method For Optimal k')\n",
    "plt.show()"
   ]
  },
  {
   "cell_type": "markdown",
   "metadata": {},
   "source": [
    "[Source for Yellow Brick Library!](https://www.scikit-yb.org/en/latest/api/cluster/elbow.html#:~:text=K%2Dmeans%20is%20a%20simple,right%20k%20for%20the%20dataset.)"
   ]
  },
  {
   "cell_type": "code",
   "execution_count": 10,
   "metadata": {},
   "outputs": [
    {
     "data": {
      "image/png": "[encoded data removed]",
      "text/plain": [
       "<Figure size 576x396 with 2 Axes>"
      ]
     },
     "metadata": {},
     "output_type": "display_data"
    }
   ],
   "source": [
    "from yellowbrick.cluster import KElbowVisualizer\n",
    "from yellowbrick.cluster.elbow import kelbow_visualizer\n",
    "model = KMeans()\n",
    "visualizer = KElbowVisualizer(model, k=(1,20))\n",
    "# visualizer = kelbow_visualizer(KMeans(random_state=4), X_transformed, k=(2,50))\n",
    "visualizer.fit(X_transformed)        # Fit the data to the visualizer\n",
    "visualizer.show();        # Finalize and render the figure"
   ]
  },
  {
   "cell_type": "markdown",
   "metadata": {},
   "source": [
    "**elbow_value_** gives the optimal number of clusters as integer and we can directly **plugin** the value for final modelling!"
   ]
  },
  {
   "cell_type": "code",
   "execution_count": 11,
   "metadata": {},
   "outputs": [
    {
     "name": "stdout",
     "output_type": "stream",
     "text": [
      "Optimal K found is: 9\n"
     ]
    }
   ],
   "source": [
    "optimal_k = visualizer.elbow_value_\n",
    "print('Optimal K found is:', optimal_k)"
   ]
  },
  {
   "cell_type": "code",
   "execution_count": 12,
   "metadata": {},
   "outputs": [
    {
     "data": {
      "text/plain": [
       "KMeans(algorithm='auto', copy_x=True, init='k-means++', max_iter=300,\n",
       "       n_clusters=9, n_init=100, n_jobs=None, precompute_distances='auto',\n",
       "       random_state=None, tol=0.0001, verbose=0)"
      ]
     },
     "execution_count": 12,
     "metadata": {},
     "output_type": "execute_result"
    }
   ],
   "source": [
    "# Clustering the training sentences with K-means technique\n",
    "\n",
    "modelkmeans = KMeans(n_clusters=optimal_k, init='k-means++', n_init=100)\n",
    "modelkmeans.fit(X_transformed)"
   ]
  },
  {
   "cell_type": "markdown",
   "metadata": {},
   "source": [
    "Visualizing the Labels on a Scatter Plot!"
   ]
  },
  {
   "cell_type": "code",
   "execution_count": 13,
   "metadata": {},
   "outputs": [
    {
     "data": {
      "text/plain": [
       "array([8, 6, 0, ..., 5, 4, 0])"
      ]
     },
     "execution_count": 13,
     "metadata": {},
     "output_type": "execute_result"
    }
   ],
   "source": [
    "modelkmeans.predict(X_transformed)"
   ]
  },
  {
   "cell_type": "code",
   "execution_count": 14,
   "metadata": {},
   "outputs": [
    {
     "data": {
      "text/plain": [
       "array([8, 6, 0, ..., 5, 4, 0])"
      ]
     },
     "execution_count": 14,
     "metadata": {},
     "output_type": "execute_result"
    }
   ],
   "source": [
    "modelkmeans.labels_"
   ]
  },
  {
   "cell_type": "code",
   "execution_count": 15,
   "metadata": {},
   "outputs": [],
   "source": [
    "pca = PCA(n_components=2, random_state=42)\n",
    "reduced_features = pca.fit_transform(X_transformed.toarray())\n",
    "\n",
    "# reduce the cluster centers to 2D\n",
    "reduced_cluster_centers = pca.transform(modelkmeans.cluster_centers_)"
   ]
  },
  {
   "cell_type": "code",
   "execution_count": 16,
   "metadata": {},
   "outputs": [
    {
     "data": {
      "image/png": "[encoded data removed]",
      "text/plain": [
       "<Figure size 576x396 with 1 Axes>"
      ]
     },
     "metadata": {},
     "output_type": "display_data"
    }
   ],
   "source": [
    "plt.scatter(reduced_features[:,0], reduced_features[:,1], c=modelkmeans.predict(X_transformed));\n",
    "plt.scatter(reduced_cluster_centers[:, 0], reduced_cluster_centers[:,1], marker='x', s=150, c='b');"
   ]
  },
  {
   "cell_type": "code",
   "execution_count": 17,
   "metadata": {},
   "outputs": [
    {
     "data": {
      "text/plain": [
       "<bound method KMeans.score of KMeans(algorithm='auto', copy_x=True, init='k-means++', max_iter=300,\n",
       "       n_clusters=9, n_init=100, n_jobs=None, precompute_distances='auto',\n",
       "       random_state=None, tol=0.0001, verbose=0)>"
      ]
     },
     "execution_count": 17,
     "metadata": {},
     "output_type": "execute_result"
    }
   ],
   "source": [
    "modelkmeans.score"
   ]
  },
  {
   "cell_type": "code",
   "execution_count": 18,
   "metadata": {},
   "outputs": [
    {
     "name": "stdout",
     "output_type": "stream",
     "text": [
      "[0.38227864 0.35933437 0.66167655 ... 0.48970863 0.2977278  0.4454355 ]\n"
     ]
    }
   ],
   "source": [
    "print(X_transformed.data)"
   ]
  },
  {
   "cell_type": "code",
   "execution_count": 19,
   "metadata": {},
   "outputs": [
    {
     "data": {
      "text/plain": [
       "<3929x3933 sparse matrix of type '<class 'numpy.float64'>'\n",
       "\twith 18819 stored elements in Compressed Sparse Row format>"
      ]
     },
     "execution_count": 19,
     "metadata": {},
     "output_type": "execute_result"
    }
   ],
   "source": [
    "tfidfconvert.decode(X_transformed)"
   ]
  },
  {
   "cell_type": "markdown",
   "metadata": {},
   "source": [
    "It is important to understand that **regular Kmeans implementation is too slow**, hence the same is achieved using **MiniBatchKMeans** and we can pass the datapoints in batches which makes easier to cluster bigram related words.  \n",
    "Also, we will look at the top words, under each cluster to start concluding!"
   ]
  },
  {
   "cell_type": "code",
   "execution_count": 20,
   "metadata": {},
   "outputs": [],
   "source": [
    "clusters = MiniBatchKMeans(n_clusters=optimal_k, init_size=1024, batch_size=2048, random_state=20).fit_predict(X_transformed)"
   ]
  },
  {
   "cell_type": "code",
   "execution_count": 21,
   "metadata": {},
   "outputs": [],
   "source": [
    "def get_top_keywords(data, clusters, labels, n_terms):\n",
    "    df = pd.DataFrame(data.todense()).groupby(clusters).mean()\n",
    "    final_df = pd.DataFrame(columns=['Cluster','Cluster Words'])\n",
    "    for i,r in df.iterrows():\n",
    "        print('\\nCluster {}'.format(i))\n",
    "        print(','.join([labels[t] for t in np.argsort(r)[-n_terms:]]))\n",
    "        x = i\n",
    "        y = [labels[t] for t in np.argsort(r)[-n_terms:]]\n",
    "        final_df = final_df.append({'Cluster' : x , 'Cluster Words' : y} , ignore_index=True)\n",
    "    return final_df"
   ]
  },
  {
   "cell_type": "code",
   "execution_count": 22,
   "metadata": {
    "scrolled": false
   },
   "outputs": [
    {
     "name": "stdout",
     "output_type": "stream",
     "text": [
      "\n",
      "Cluster 0\n",
      "surgery,test,aampe,heart,brain,new,may,doctor,drug,baby,risk,call,patient,hospital,audio\n",
      "\n",
      "Cluster 1\n",
      "life,concern,plan,face,failing,nh,patient,social,need,poor,elderly,video,hospital,home,care\n",
      "\n",
      "Cluster 2\n",
      "danger,medicine,bedroom,girl,day,secret,effect,problem,vaccine,nh,cost,ebola,man,video,the\n",
      "\n",
      "Cluster 3\n",
      "trust,£bn,labour,winter,plan,waiting,time,strike,new,target,england,staff,aampe,video,nh\n",
      "\n",
      "Cluster 4\n",
      "cancer,avoidable,feed,rise,inquiry,police,family,trust,ebola,video,patient,baby,hospital,rate,death\n",
      "\n",
      "Cluster 5\n",
      "target,rate,cut,linked,half,risk,lung,diagnosis,nh,skin,test,video,drug,breast,cancer\n",
      "\n",
      "Cluster 6\n",
      "i,uk,doctor,service,cut,hospital,how,risk,patient,warning,new,help,mental,health,video\n",
      "\n",
      "Cluster 7\n",
      "surgery,tooth,decay,issue,help,smoking,car,abuse,call,parent,obesity,mental,video,health,child\n",
      "\n",
      "Cluster 8\n",
      "u,outbreak,screening,trial,who,how,sierra,liberia,nurse,case,leone,vaccine,uk,video,ebola\n"
     ]
    }
   ],
   "source": [
    "final_df = get_top_keywords(X_transformed, clusters, tfidfconvert.get_feature_names(), 15)"
   ]
  },
  {
   "cell_type": "code",
   "execution_count": 23,
   "metadata": {},
   "outputs": [
    {
     "data": {
      "text/html": [
       "<div>\n",
       "<style scoped>\n",
       "    .dataframe tbody tr th:only-of-type {\n",
       "        vertical-align: middle;\n",
       "    }\n",
       "\n",
       "    .dataframe tbody tr th {\n",
       "        vertical-align: top;\n",
       "    }\n",
       "\n",
       "    .dataframe thead th {\n",
       "        text-align: right;\n",
       "    }\n",
       "</style>\n",
       "<table border=\"1\" class=\"dataframe\">\n",
       "  <thead>\n",
       "    <tr style=\"text-align: right;\">\n",
       "      <th></th>\n",
       "      <th>Cluster</th>\n",
       "      <th>Cluster Words</th>\n",
       "    </tr>\n",
       "  </thead>\n",
       "  <tbody>\n",
       "    <tr>\n",
       "      <th>0</th>\n",
       "      <td>0</td>\n",
       "      <td>[surgery, test, aampe, heart, brain, new, may, doctor, drug, baby, risk, call, patient, hospital, audio]</td>\n",
       "    </tr>\n",
       "    <tr>\n",
       "      <th>1</th>\n",
       "      <td>1</td>\n",
       "      <td>[life, concern, plan, face, failing, nh, patient, social, need, poor, elderly, video, hospital, home, care]</td>\n",
       "    </tr>\n",
       "    <tr>\n",
       "      <th>2</th>\n",
       "      <td>2</td>\n",
       "      <td>[danger, medicine, bedroom, girl, day, secret, effect, problem, vaccine, nh, cost, ebola, man, video, the]</td>\n",
       "    </tr>\n",
       "    <tr>\n",
       "      <th>3</th>\n",
       "      <td>3</td>\n",
       "      <td>[trust, £bn, labour, winter, plan, waiting, time, strike, new, target, england, staff, aampe, video, nh]</td>\n",
       "    </tr>\n",
       "    <tr>\n",
       "      <th>4</th>\n",
       "      <td>4</td>\n",
       "      <td>[cancer, avoidable, feed, rise, inquiry, police, family, trust, ebola, video, patient, baby, hospital, rate, death]</td>\n",
       "    </tr>\n",
       "    <tr>\n",
       "      <th>5</th>\n",
       "      <td>5</td>\n",
       "      <td>[target, rate, cut, linked, half, risk, lung, diagnosis, nh, skin, test, video, drug, breast, cancer]</td>\n",
       "    </tr>\n",
       "    <tr>\n",
       "      <th>6</th>\n",
       "      <td>6</td>\n",
       "      <td>[i, uk, doctor, service, cut, hospital, how, risk, patient, warning, new, help, mental, health, video]</td>\n",
       "    </tr>\n",
       "    <tr>\n",
       "      <th>7</th>\n",
       "      <td>7</td>\n",
       "      <td>[surgery, tooth, decay, issue, help, smoking, car, abuse, call, parent, obesity, mental, video, health, child]</td>\n",
       "    </tr>\n",
       "    <tr>\n",
       "      <th>8</th>\n",
       "      <td>8</td>\n",
       "      <td>[u, outbreak, screening, trial, who, how, sierra, liberia, nurse, case, leone, vaccine, uk, video, ebola]</td>\n",
       "    </tr>\n",
       "  </tbody>\n",
       "</table>\n",
       "</div>"
      ],
      "text/plain": [
       "  Cluster  \\\n",
       "0       0   \n",
       "1       1   \n",
       "2       2   \n",
       "3       3   \n",
       "4       4   \n",
       "5       5   \n",
       "6       6   \n",
       "7       7   \n",
       "8       8   \n",
       "\n",
       "                                                                                                         Cluster Words  \n",
       "0             [surgery, test, aampe, heart, brain, new, may, doctor, drug, baby, risk, call, patient, hospital, audio]  \n",
       "1          [life, concern, plan, face, failing, nh, patient, social, need, poor, elderly, video, hospital, home, care]  \n",
       "2           [danger, medicine, bedroom, girl, day, secret, effect, problem, vaccine, nh, cost, ebola, man, video, the]  \n",
       "3             [trust, £bn, labour, winter, plan, waiting, time, strike, new, target, england, staff, aampe, video, nh]  \n",
       "4  [cancer, avoidable, feed, rise, inquiry, police, family, trust, ebola, video, patient, baby, hospital, rate, death]  \n",
       "5                [target, rate, cut, linked, half, risk, lung, diagnosis, nh, skin, test, video, drug, breast, cancer]  \n",
       "6               [i, uk, doctor, service, cut, hospital, how, risk, patient, warning, new, help, mental, health, video]  \n",
       "7       [surgery, tooth, decay, issue, help, smoking, car, abuse, call, parent, obesity, mental, video, health, child]  \n",
       "8            [u, outbreak, screening, trial, who, how, sierra, liberia, nurse, case, leone, vaccine, uk, video, ebola]  "
      ]
     },
     "execution_count": 23,
     "metadata": {},
     "output_type": "execute_result"
    }
   ],
   "source": [
    "pd.set_option(\"max_colwidth\", None)\n",
    "final_df.head(20)"
   ]
  }
 ],
 "metadata": {
  "kernelspec": {
   "display_name": "Python 3",
   "language": "python",
   "name": "python3"
  },
  "language_info": {
   "codemirror_mode": {
    "name": "ipython",
    "version": 3
   },
   "file_extension": ".py",
   "mimetype": "text/x-python",
   "name": "python",
   "nbconvert_exporter": "python",
   "pygments_lexer": "ipython3",
   "version": "3.6.5"
  }
 },
 "nbformat": 4,
 "nbformat_minor": 2
}
