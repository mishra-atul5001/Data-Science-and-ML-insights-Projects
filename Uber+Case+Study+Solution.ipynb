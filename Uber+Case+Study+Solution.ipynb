{
 "cells": [
  {
   "cell_type": "code",
   "execution_count": 1,
   "metadata": {},
   "outputs": [],
   "source": [
    "import pandas as pd\n",
    "import matplotlib.pyplot as plt\n",
    "import seaborn as sns"
   ]
  },
  {
   "cell_type": "code",
   "execution_count": 2,
   "metadata": {},
   "outputs": [
    {
     "data": {
      "text/html": [
       "<div>\n",
       "<style scoped>\n",
       "    .dataframe tbody tr th:only-of-type {\n",
       "        vertical-align: middle;\n",
       "    }\n",
       "\n",
       "    .dataframe tbody tr th {\n",
       "        vertical-align: top;\n",
       "    }\n",
       "\n",
       "    .dataframe thead th {\n",
       "        text-align: right;\n",
       "    }\n",
       "</style>\n",
       "<table border=\"1\" class=\"dataframe\">\n",
       "  <thead>\n",
       "    <tr style=\"text-align: right;\">\n",
       "      <th></th>\n",
       "      <th>Request id</th>\n",
       "      <th>Pickup point</th>\n",
       "      <th>Driver id</th>\n",
       "      <th>Status</th>\n",
       "      <th>Request timestamp</th>\n",
       "      <th>Drop timestamp</th>\n",
       "    </tr>\n",
       "  </thead>\n",
       "  <tbody>\n",
       "    <tr>\n",
       "      <th>0</th>\n",
       "      <td>619</td>\n",
       "      <td>Airport</td>\n",
       "      <td>1.0</td>\n",
       "      <td>Trip Completed</td>\n",
       "      <td>11/07/16 11:51</td>\n",
       "      <td>11/07/16 13:00</td>\n",
       "    </tr>\n",
       "    <tr>\n",
       "      <th>1</th>\n",
       "      <td>867</td>\n",
       "      <td>Airport</td>\n",
       "      <td>1.0</td>\n",
       "      <td>Trip Completed</td>\n",
       "      <td>11/07/16 17:57</td>\n",
       "      <td>11/07/16 18:47</td>\n",
       "    </tr>\n",
       "    <tr>\n",
       "      <th>2</th>\n",
       "      <td>1807</td>\n",
       "      <td>City</td>\n",
       "      <td>1.0</td>\n",
       "      <td>Trip Completed</td>\n",
       "      <td>12/07/16 9:17</td>\n",
       "      <td>12/07/16 9:58</td>\n",
       "    </tr>\n",
       "    <tr>\n",
       "      <th>3</th>\n",
       "      <td>2532</td>\n",
       "      <td>Airport</td>\n",
       "      <td>1.0</td>\n",
       "      <td>Trip Completed</td>\n",
       "      <td>12/07/16 21:08</td>\n",
       "      <td>12/07/16 22:03</td>\n",
       "    </tr>\n",
       "    <tr>\n",
       "      <th>4</th>\n",
       "      <td>3112</td>\n",
       "      <td>City</td>\n",
       "      <td>1.0</td>\n",
       "      <td>Trip Completed</td>\n",
       "      <td>13/07/16 8:33</td>\n",
       "      <td>13/07/16 9:25</td>\n",
       "    </tr>\n",
       "    <tr>\n",
       "      <th>5</th>\n",
       "      <td>3879</td>\n",
       "      <td>Airport</td>\n",
       "      <td>1.0</td>\n",
       "      <td>Trip Completed</td>\n",
       "      <td>13/07/16 21:57</td>\n",
       "      <td>13/07/16 22:28</td>\n",
       "    </tr>\n",
       "    <tr>\n",
       "      <th>6</th>\n",
       "      <td>4270</td>\n",
       "      <td>Airport</td>\n",
       "      <td>1.0</td>\n",
       "      <td>Trip Completed</td>\n",
       "      <td>14/07/16 6:15</td>\n",
       "      <td>14/07/16 7:13</td>\n",
       "    </tr>\n",
       "    <tr>\n",
       "      <th>7</th>\n",
       "      <td>5510</td>\n",
       "      <td>Airport</td>\n",
       "      <td>1.0</td>\n",
       "      <td>Trip Completed</td>\n",
       "      <td>15/07/16 5:11</td>\n",
       "      <td>15/07/16 6:07</td>\n",
       "    </tr>\n",
       "    <tr>\n",
       "      <th>8</th>\n",
       "      <td>6248</td>\n",
       "      <td>City</td>\n",
       "      <td>1.0</td>\n",
       "      <td>Trip Completed</td>\n",
       "      <td>15/07/16 17:57</td>\n",
       "      <td>15/07/16 18:50</td>\n",
       "    </tr>\n",
       "    <tr>\n",
       "      <th>9</th>\n",
       "      <td>267</td>\n",
       "      <td>City</td>\n",
       "      <td>2.0</td>\n",
       "      <td>Trip Completed</td>\n",
       "      <td>11/07/16 6:46</td>\n",
       "      <td>11/07/16 7:25</td>\n",
       "    </tr>\n",
       "  </tbody>\n",
       "</table>\n",
       "</div>"
      ],
      "text/plain": [
       "   Request id Pickup point  Driver id          Status Request timestamp  \\\n",
       "0         619      Airport        1.0  Trip Completed    11/07/16 11:51   \n",
       "1         867      Airport        1.0  Trip Completed    11/07/16 17:57   \n",
       "2        1807         City        1.0  Trip Completed     12/07/16 9:17   \n",
       "3        2532      Airport        1.0  Trip Completed    12/07/16 21:08   \n",
       "4        3112         City        1.0  Trip Completed     13/07/16 8:33   \n",
       "5        3879      Airport        1.0  Trip Completed    13/07/16 21:57   \n",
       "6        4270      Airport        1.0  Trip Completed     14/07/16 6:15   \n",
       "7        5510      Airport        1.0  Trip Completed     15/07/16 5:11   \n",
       "8        6248         City        1.0  Trip Completed    15/07/16 17:57   \n",
       "9         267         City        2.0  Trip Completed     11/07/16 6:46   \n",
       "\n",
       "   Drop timestamp  \n",
       "0  11/07/16 13:00  \n",
       "1  11/07/16 18:47  \n",
       "2   12/07/16 9:58  \n",
       "3  12/07/16 22:03  \n",
       "4   13/07/16 9:25  \n",
       "5  13/07/16 22:28  \n",
       "6   14/07/16 7:13  \n",
       "7   15/07/16 6:07  \n",
       "8  15/07/16 18:50  \n",
       "9   11/07/16 7:25  "
      ]
     },
     "execution_count": 2,
     "metadata": {},
     "output_type": "execute_result"
    }
   ],
   "source": [
    "df = pd.read_csv(\"Uber Request Data.csv\")\n",
    "df.head(10)"
   ]
  },
  {
   "cell_type": "code",
   "execution_count": 3,
   "metadata": {},
   "outputs": [
    {
     "data": {
      "text/plain": [
       "True"
      ]
     },
     "execution_count": 3,
     "metadata": {},
     "output_type": "execute_result"
    }
   ],
   "source": [
    "# make sure that number of duplicate rows are zero\n",
    "sum(df.duplicated(subset = \"Request id\")) == 0"
   ]
  },
  {
   "cell_type": "markdown",
   "metadata": {},
   "source": [
    "**let's look at the dimensions of the dataframe**"
   ]
  },
  {
   "cell_type": "code",
   "execution_count": 4,
   "metadata": {},
   "outputs": [
    {
     "data": {
      "text/plain": [
       "(6745, 6)"
      ]
     },
     "execution_count": 4,
     "metadata": {},
     "output_type": "execute_result"
    }
   ],
   "source": [
    "df.shape"
   ]
  },
  {
   "cell_type": "markdown",
   "metadata": {},
   "source": [
    "**check for NA values in dataset**"
   ]
  },
  {
   "cell_type": "code",
   "execution_count": 5,
   "metadata": {},
   "outputs": [
    {
     "name": "stdout",
     "output_type": "stream",
     "text": [
      "Request id              0\n",
      "Pickup point            0\n",
      "Driver id            2650\n",
      "Status                  0\n",
      "Request timestamp       0\n",
      "Drop timestamp       3914\n",
      "dtype: int64\n",
      "True\n",
      "6564\n"
     ]
    }
   ],
   "source": [
    "print (df.isnull().sum())  \n",
    "print (df.isnull().values.any())\n",
    "print (df.isnull().values.sum())"
   ]
  },
  {
   "cell_type": "markdown",
   "metadata": {},
   "source": [
    "**checking the % of NAs columnwise**"
   ]
  },
  {
   "cell_type": "code",
   "execution_count": 6,
   "metadata": {},
   "outputs": [
    {
     "data": {
      "text/plain": [
       "Request id            0.000000\n",
       "Pickup point          0.000000\n",
       "Driver id            39.288362\n",
       "Status                0.000000\n",
       "Request timestamp     0.000000\n",
       "Drop timestamp       58.028169\n",
       "dtype: float64"
      ]
     },
     "execution_count": 6,
     "metadata": {},
     "output_type": "execute_result"
    }
   ],
   "source": [
    "df.isnull().sum()*100/df.shape[0] "
   ]
  },
  {
   "cell_type": "markdown",
   "metadata": {},
   "source": [
    "**check for NA values in each columns except \"Driver id\" and \"Drop timestamp\" (Cross Verification)**"
   ]
  },
  {
   "cell_type": "code",
   "execution_count": 7,
   "metadata": {},
   "outputs": [
    {
     "name": "stdout",
     "output_type": "stream",
     "text": [
      "False\n",
      "0\n"
     ]
    }
   ],
   "source": [
    "print (df['Request id'].isnull().values.any()) \n",
    "print (df['Request id'].isnull().values.sum())"
   ]
  },
  {
   "cell_type": "code",
   "execution_count": 8,
   "metadata": {},
   "outputs": [
    {
     "name": "stdout",
     "output_type": "stream",
     "text": [
      "False\n",
      "0\n"
     ]
    }
   ],
   "source": [
    "print (df['Pickup point'].isnull().values.any())\n",
    "print (df['Pickup point'].isnull().values.sum())"
   ]
  },
  {
   "cell_type": "code",
   "execution_count": 9,
   "metadata": {},
   "outputs": [
    {
     "name": "stdout",
     "output_type": "stream",
     "text": [
      "False\n",
      "0\n"
     ]
    }
   ],
   "source": [
    "print (df['Status'].isnull().values.any())\n",
    "print (df['Status'].isnull().values.sum())"
   ]
  },
  {
   "cell_type": "code",
   "execution_count": 10,
   "metadata": {},
   "outputs": [
    {
     "name": "stdout",
     "output_type": "stream",
     "text": [
      "False\n",
      "0\n"
     ]
    }
   ],
   "source": [
    "print (df['Request timestamp'].isnull().values.any())\n",
    "print (df['Request timestamp'].isnull().values.sum())"
   ]
  },
  {
   "cell_type": "markdown",
   "metadata": {},
   "source": [
    "**convert 'Request timestamp' column to datetime oject**"
   ]
  },
  {
   "cell_type": "code",
   "execution_count": 11,
   "metadata": {},
   "outputs": [],
   "source": [
    "df[\"Request timestamp\"] = df[\"Request timestamp\"].astype(str)\n",
    "df['Request timestamp'] = df['Request timestamp'].str.replace(\"/\", \"-\")\n",
    "df['Request timestamp'] = pd.to_datetime(df[\"Request timestamp\"], dayfirst=True)"
   ]
  },
  {
   "cell_type": "code",
   "execution_count": 12,
   "metadata": {},
   "outputs": [],
   "source": [
    "# convert 'Drop timestamp' column to datetime oject\n",
    "df[\"Drop timestamp\"] = df[\"Drop timestamp\"].astype(str)\n",
    "df['Drop timestamp'] = df['Drop timestamp'].str.replace(\"/\", \"-\")\n",
    "df['Drop timestamp'] = pd.to_datetime(df[\"Drop timestamp\"], dayfirst=True)"
   ]
  },
  {
   "cell_type": "code",
   "execution_count": 13,
   "metadata": {},
   "outputs": [
    {
     "name": "stdout",
     "output_type": "stream",
     "text": [
      "<class 'pandas.core.frame.DataFrame'>\n",
      "RangeIndex: 6745 entries, 0 to 6744\n",
      "Data columns (total 6 columns):\n",
      "Request id           6745 non-null int64\n",
      "Pickup point         6745 non-null object\n",
      "Driver id            4095 non-null float64\n",
      "Status               6745 non-null object\n",
      "Request timestamp    6745 non-null datetime64[ns]\n",
      "Drop timestamp       2831 non-null datetime64[ns]\n",
      "dtypes: datetime64[ns](2), float64(1), int64(1), object(2)\n",
      "memory usage: 316.2+ KB\n"
     ]
    }
   ],
   "source": [
    "df.info()"
   ]
  },
  {
   "cell_type": "code",
   "execution_count": 14,
   "metadata": {},
   "outputs": [],
   "source": [
    "# extract the hour from the request time\n",
    "req_hour = df[\"Request timestamp\"].dt.hour\n",
    "req_hour.head()\n",
    "req_hour.value_counts()\n",
    "df[\"req_hour\"] = req_hour"
   ]
  },
  {
   "cell_type": "code",
   "execution_count": 15,
   "metadata": {},
   "outputs": [],
   "source": [
    "#extract the day from the request time\n",
    "req_day = df[\"Request timestamp\"].dt.day\n",
    "req_day.head()\n",
    "req_day.value_counts()\n",
    "df[\"req_day\"] = req_day"
   ]
  },
  {
   "cell_type": "code",
   "execution_count": 16,
   "metadata": {},
   "outputs": [
    {
     "data": {
      "text/plain": [
       "<seaborn.axisgrid.FacetGrid at 0x103fef470>"
      ]
     },
     "execution_count": 16,
     "metadata": {},
     "output_type": "execute_result"
    },
    {
     "data": {
      "image/png": "[encoded data removed]",
      "text/plain": [
       "<matplotlib.figure.Figure at 0x102e17400>"
      ]
     },
     "metadata": {},
     "output_type": "display_data"
    }
   ],
   "source": [
    "# factor plot of hour and day w.r.t. status\n",
    "sns.factorplot(x = \"req_hour\", hue = \"Status\", row = \"req_day\", data = df, kind = \"count\")"
   ]
  },
  {
   "cell_type": "code",
   "execution_count": 17,
   "metadata": {},
   "outputs": [
    {
     "data": {
      "text/plain": [
       "<seaborn.axisgrid.FacetGrid at 0x10c5878d0>"
      ]
     },
     "execution_count": 17,
     "metadata": {},
     "output_type": "execute_result"
    },
    {
     "data": {
      "image/png": "[encoded data removed]",
      "text/plain": [
       "<matplotlib.figure.Figure at 0x10c5871d0>"
      ]
     },
     "metadata": {},
     "output_type": "display_data"
    }
   ],
   "source": [
    "# factor plot of hour and day w.r.t. pickup point\n",
    "sns.factorplot(x = \"req_hour\", hue = \"Pickup point\", row = \"req_day\", data = df, kind = \"count\")"
   ]
  },
  {
   "cell_type": "code",
   "execution_count": 18,
   "metadata": {},
   "outputs": [
    {
     "data": {
      "text/plain": [
       "<seaborn.axisgrid.FacetGrid at 0x10c728128>"
      ]
     },
     "execution_count": 18,
     "metadata": {},
     "output_type": "execute_result"
    },
    {
     "data": {
      "image/png": "[encoded data removed]",
      "text/plain": [
       "<matplotlib.figure.Figure at 0x10ce7df28>"
      ]
     },
     "metadata": {},
     "output_type": "display_data"
    }
   ],
   "source": [
    "# aggregate count plot for all days w.r.t. to Pickup point\n",
    "sns.factorplot(x = \"req_hour\", hue = \"Pickup point\", data = df, kind = \"count\")"
   ]
  },
  {
   "cell_type": "code",
   "execution_count": 19,
   "metadata": {},
   "outputs": [],
   "source": [
    "# creating a time slot for various time period of day\n",
    "def time_period(x):\n",
    "    'divide the time of the day into four categories'\n",
    "    if x < 5:\n",
    "        return \"Pre_Morning\"\n",
    "    elif 5 <= x < 10:\n",
    "        return \"Morning_Rush\"\n",
    "    elif 10 <= x < 17:\n",
    "        return \"Day_Time\"\n",
    "    elif 17 <= x < 22:\n",
    "        return \"Evening_Rush\"\n",
    "    else:\n",
    "        return \"Late_Night\"\n",
    "\n",
    "df['time_slot'] = df.req_hour.apply(lambda x: time_period(x))"
   ]
  },
  {
   "cell_type": "code",
   "execution_count": 20,
   "metadata": {},
   "outputs": [
    {
     "data": {
      "text/plain": [
       "Evening_Rush    2342\n",
       "Morning_Rush    2103\n",
       "Day_Time        1224\n",
       "Pre_Morning      578\n",
       "Late_Night       498\n",
       "Name: time_slot, dtype: int64"
      ]
     },
     "execution_count": 20,
     "metadata": {},
     "output_type": "execute_result"
    }
   ],
   "source": [
    "df.time_slot.value_counts()"
   ]
  },
  {
   "cell_type": "code",
   "execution_count": 21,
   "metadata": {},
   "outputs": [
    {
     "name": "stdout",
     "output_type": "stream",
     "text": [
      "Pre_Morning    578\n",
      "Name: time_slot, dtype: int64\n",
      "Morning_Rush    2103\n",
      "Name: time_slot, dtype: int64\n",
      "Day_Time    1224\n",
      "Name: time_slot, dtype: int64\n",
      "Evening_Rush    2342\n",
      "Name: time_slot, dtype: int64\n",
      "Late_Night    498\n",
      "Name: time_slot, dtype: int64\n"
     ]
    }
   ],
   "source": [
    "# another way to look at the trips made in each time slot\n",
    "Pre_Morning = print (df.time_slot[df.time_slot == \"Pre_Morning\"].value_counts())\n",
    "Morning_Rush = print (df.time_slot[df.time_slot == \"Morning_Rush\"].value_counts())\n",
    "Day_Time = print (df.time_slot[df.time_slot == \"Day_Time\"].value_counts())\n",
    "Evening_Rush = print (df.time_slot[df.time_slot == \"Evening_Rush\"].value_counts())\n",
    "Late_Night = print (df.time_slot[df.time_slot == \"Late_Night\"].value_counts())"
   ]
  },
  {
   "cell_type": "code",
   "execution_count": 22,
   "metadata": {},
   "outputs": [
    {
     "data": {
      "text/plain": [
       "<matplotlib.axes._subplots.AxesSubplot at 0x10d163cf8>"
      ]
     },
     "execution_count": 22,
     "metadata": {},
     "output_type": "execute_result"
    },
    {
     "data": {
      "image/png": "[encoded data removed]",
      "text/plain": [
       "<matplotlib.figure.Figure at 0x10d55c438>"
      ]
     },
     "metadata": {},
     "output_type": "display_data"
    }
   ],
   "source": [
    "# plot time slot w.r.t. status and identify the most critical problems before Uber\n",
    "sns.countplot(x = \"time_slot\", hue = \"Status\", data = df)"
   ]
  },
  {
   "cell_type": "code",
   "execution_count": 23,
   "metadata": {},
   "outputs": [
    {
     "data": {
      "text/plain": [
       "<matplotlib.axes._subplots.AxesSubplot at 0x10d44d1d0>"
      ]
     },
     "execution_count": 23,
     "metadata": {},
     "output_type": "execute_result"
    },
    {
     "data": {
      "image/png": "[encoded data removed]",
      "text/plain": [
       "<matplotlib.figure.Figure at 0x10d4a95c0>"
      ]
     },
     "metadata": {},
     "output_type": "display_data"
    }
   ],
   "source": [
    "# as you can see in the above plot the higest number of cancellations are in the \"Morning Rush\" time slot\n",
    "df_morning_rush = df[df.time_slot == \"Morning_Rush\"]\n",
    "sns.countplot(x = \"Pickup point\", hue = \"Status\", data = df_morning_rush)"
   ]
  },
  {
   "cell_type": "code",
   "execution_count": 24,
   "metadata": {},
   "outputs": [
    {
     "data": {
      "text/plain": [
       "23"
      ]
     },
     "execution_count": 24,
     "metadata": {},
     "output_type": "execute_result"
    }
   ],
   "source": [
    "# severity of problem by location and their count (cancellation of cab as per the pickup location @Morning Rush)\n",
    "df_airport_cancelled  = df_morning_rush.loc[(df_morning_rush[\"Pickup point\"] == \"Airport\") & (df_morning_rush[\"Status\"] == \"Cancelled\")]\n",
    "len(df_airport_cancelled.index)\n"
   ]
  },
  {
   "cell_type": "code",
   "execution_count": 25,
   "metadata": {},
   "outputs": [
    {
     "data": {
      "text/plain": [
       "820"
      ]
     },
     "execution_count": 25,
     "metadata": {},
     "output_type": "execute_result"
    }
   ],
   "source": [
    "df_city_cancelled = df_morning_rush.loc[(df_morning_rush[\"Pickup point\"] == \"City\") & (df_morning_rush[\"Status\"] == \"Cancelled\")]\n",
    "len(df_city_cancelled.index)"
   ]
  },
  {
   "cell_type": "code",
   "execution_count": 26,
   "metadata": {},
   "outputs": [
    {
     "data": {
      "text/plain": [
       "472"
      ]
     },
     "execution_count": 26,
     "metadata": {},
     "output_type": "execute_result"
    }
   ],
   "source": [
    "# let's look at the supply and demand in morning rush hour in the city\n",
    "df_city_completed_morning_rush = df_morning_rush.loc[(df_morning_rush[\"Pickup point\"] == \"City\") & (df_morning_rush[\"Status\"] == \"Trip Completed\")]\n",
    "len(df_city_completed_morning_rush.index)"
   ]
  },
  {
   "cell_type": "code",
   "execution_count": 27,
   "metadata": {},
   "outputs": [
    {
     "data": {
      "text/plain": [
       "1677"
      ]
     },
     "execution_count": 27,
     "metadata": {},
     "output_type": "execute_result"
    }
   ],
   "source": [
    "df_city_morning_rush  = df_morning_rush.loc[(df_morning_rush[\"Pickup point\"] == \"City\")]\n",
    "len(df_city_morning_rush.index)"
   ]
  },
  {
   "cell_type": "code",
   "execution_count": 28,
   "metadata": {},
   "outputs": [
    {
     "data": {
      "text/plain": [
       "382"
      ]
     },
     "execution_count": 28,
     "metadata": {},
     "output_type": "execute_result"
    }
   ],
   "source": [
    "# let's look at the supply and demand in morning rush hour at the airport\n",
    "df_airport_completed_morning_rush = df_morning_rush.loc[(df_morning_rush[\"Pickup point\"] == \"Airport\") & (df_morning_rush[\"Status\"] == \"Trip Completed\")]\n",
    "len(df_airport_completed_morning_rush.index)"
   ]
  },
  {
   "cell_type": "code",
   "execution_count": 29,
   "metadata": {},
   "outputs": [
    {
     "data": {
      "text/plain": [
       "426"
      ]
     },
     "execution_count": 29,
     "metadata": {},
     "output_type": "execute_result"
    }
   ],
   "source": [
    "df_airport_morning_rush  = df_morning_rush.loc[(df_morning_rush[\"Pickup point\"] == \"Airport\")]\n",
    "len(df_airport_morning_rush.index)"
   ]
  },
  {
   "cell_type": "code",
   "execution_count": 30,
   "metadata": {},
   "outputs": [
    {
     "data": {
      "text/plain": [
       "<matplotlib.axes._subplots.AxesSubplot at 0x10d42c898>"
      ]
     },
     "execution_count": 30,
     "metadata": {},
     "output_type": "execute_result"
    },
    {
     "data": {
      "image/png": "[encoded data removed]",
      "text/plain": [
       "<matplotlib.figure.Figure at 0x10d3cd5f8>"
      ]
     },
     "metadata": {},
     "output_type": "display_data"
    }
   ],
   "source": [
    "# let's look at the supply and demand in evening rush hour\n",
    "df_evening_rush = df[df.time_slot == \"Evening_Rush\"]\n",
    "sns.countplot(x = \"Pickup point\", hue = \"Status\", data = df_evening_rush)"
   ]
  },
  {
   "cell_type": "code",
   "execution_count": 31,
   "metadata": {},
   "outputs": [
    {
     "data": {
      "text/plain": [
       "411"
      ]
     },
     "execution_count": 31,
     "metadata": {},
     "output_type": "execute_result"
    }
   ],
   "source": [
    "# let's look at the supply and demand in evening rush hour in the city\n",
    "df_city_completed_evening_rush = df_evening_rush.loc[(df_evening_rush[\"Pickup point\"] == \"City\") & (df_evening_rush[\"Status\"] == \"Trip Completed\")]\n",
    "len(df_city_completed_evening_rush.index)"
   ]
  },
  {
   "cell_type": "code",
   "execution_count": 32,
   "metadata": {},
   "outputs": [
    {
     "data": {
      "text/plain": [
       "542"
      ]
     },
     "execution_count": 32,
     "metadata": {},
     "output_type": "execute_result"
    }
   ],
   "source": [
    "df_city_evening_rush  = df_evening_rush.loc[(df_evening_rush[\"Pickup point\"] == \"City\")]\n",
    "len(df_city_evening_rush.index)"
   ]
  },
  {
   "cell_type": "code",
   "execution_count": 33,
   "metadata": {},
   "outputs": [
    {
     "data": {
      "text/plain": [
       "373"
      ]
     },
     "execution_count": 33,
     "metadata": {},
     "output_type": "execute_result"
    }
   ],
   "source": [
    "# let's look at the supply and demand in evening rush hour from the airport\n",
    "df_airport_completed_evening_rush = df_evening_rush.loc[(df_evening_rush[\"Pickup point\"] == \"Airport\") & (df_evening_rush[\"Status\"] == \"Trip Completed\")]\n",
    "len(df_airport_completed_evening_rush.index)"
   ]
  },
  {
   "cell_type": "code",
   "execution_count": 34,
   "metadata": {},
   "outputs": [
    {
     "data": {
      "text/plain": [
       "1800"
      ]
     },
     "execution_count": 34,
     "metadata": {},
     "output_type": "execute_result"
    }
   ],
   "source": [
    "df_airport_evening_rush  = df_evening_rush.loc[(df_evening_rush[\"Pickup point\"] == \"Airport\")]\n",
    "len(df_airport_evening_rush.index)"
   ]
  },
  {
   "cell_type": "code",
   "execution_count": 35,
   "metadata": {},
   "outputs": [
    {
     "data": {
      "text/plain": [
       "106"
      ]
     },
     "execution_count": 35,
     "metadata": {},
     "output_type": "execute_result"
    }
   ],
   "source": [
    "# let's look at the severity problem (of demand and supply) at each location by looking at cancellation of cab in each of the pickup location in evening rush\n",
    "df_airport_cancelled_evening_rush  = df_evening_rush.loc[(df_evening_rush[\"Pickup point\"] == \"Airport\") & (df_evening_rush[\"Status\"] == \"Cancelled\")]\n",
    "len(df_airport_cancelled_evening_rush.index)"
   ]
  },
  {
   "cell_type": "code",
   "execution_count": 36,
   "metadata": {},
   "outputs": [
    {
     "data": {
      "text/plain": [
       "60"
      ]
     },
     "execution_count": 36,
     "metadata": {},
     "output_type": "execute_result"
    }
   ],
   "source": [
    "df_city_cancelled_evening_rush = df_evening_rush.loc[(df_evening_rush[\"Pickup point\"] == \"City\") & (df_evening_rush[\"Status\"] == \"Cancelled\")]\n",
    "len(df_city_cancelled_evening_rush.index)"
   ]
  },
  {
   "cell_type": "code",
   "execution_count": 37,
   "metadata": {},
   "outputs": [
    {
     "data": {
      "text/plain": [
       "21"
      ]
     },
     "execution_count": 37,
     "metadata": {},
     "output_type": "execute_result"
    }
   ],
   "source": [
    "# severity of problem by location in Morning Rush (Unavailability of Cars)\n",
    "df_airport_unavailable_morning_rush  = df_morning_rush.loc[(df_morning_rush[\"Pickup point\"] == \"Airport\") & (df_morning_rush[\"Status\"] == \"No Cars Available\")]\n",
    "len(df_airport_unavailable_morning_rush.index)"
   ]
  },
  {
   "cell_type": "code",
   "execution_count": 38,
   "metadata": {},
   "outputs": [
    {
     "data": {
      "text/plain": [
       "385"
      ]
     },
     "execution_count": 38,
     "metadata": {},
     "output_type": "execute_result"
    }
   ],
   "source": [
    "df_city_unavailable_morning_rush  = df_morning_rush.loc[(df_morning_rush[\"Pickup point\"] == \"City\") & (df_morning_rush[\"Status\"] == \"No Cars Available\")]\n",
    "len(df_city_unavailable_morning_rush.index)"
   ]
  },
  {
   "cell_type": "code",
   "execution_count": 39,
   "metadata": {},
   "outputs": [
    {
     "data": {
      "text/plain": [
       "1321"
      ]
     },
     "execution_count": 39,
     "metadata": {},
     "output_type": "execute_result"
    }
   ],
   "source": [
    "# severity of problem by location in Evening Rush (Unavailability of Cars)\n",
    "df_airport_unavailable_evening_rush  = df_evening_rush.loc[(df_evening_rush[\"Pickup point\"] == \"Airport\") & (df_evening_rush[\"Status\"] == \"No Cars Available\")]\n",
    "len(df_airport_unavailable_evening_rush.index)"
   ]
  },
  {
   "cell_type": "code",
   "execution_count": 40,
   "metadata": {},
   "outputs": [
    {
     "data": {
      "text/plain": [
       "71"
      ]
     },
     "execution_count": 40,
     "metadata": {},
     "output_type": "execute_result"
    }
   ],
   "source": [
    "df_city_unavailable_evening_rush  = df_evening_rush.loc[(df_evening_rush[\"Pickup point\"] == \"City\") & (df_evening_rush[\"Status\"] == \"No Cars Available\")]\n",
    "len(df_city_unavailable_evening_rush.index)"
   ]
  },
  {
   "cell_type": "code",
   "execution_count": 41,
   "metadata": {},
   "outputs": [],
   "source": [
    "# Let's create pie charts instead of a count plots\n",
    "def pie_chart(dataframe):\n",
    "    \"\"\"\n",
    "    creates a pie chart\n",
    "    input: dataframe with a 'category' as index and a numerical column\n",
    "    output: pie chart\n",
    "    \"\"\"\n",
    "    labels = dataframe.index.values\n",
    "    sizes = dataframe['Status'].values\n",
    "        \n",
    "    fig1, ax1 = plt.subplots()\n",
    "    ax1.pie(sizes, labels=labels, autopct='%1.1f%%', shadow=True, startangle=90)\n",
    "    ax1.axis('equal')  # Equal aspect ratio ensures that pie is drawn as a circle.\n",
    "    plt.show()"
   ]
  },
  {
   "cell_type": "code",
   "execution_count": 42,
   "metadata": {},
   "outputs": [
    {
     "data": {
      "image/png": "[encoded data removed]",
      "text/plain": [
       "<matplotlib.figure.Figure at 0x1a13c43b38>"
      ]
     },
     "metadata": {},
     "output_type": "display_data"
    }
   ],
   "source": [
    "# percentage breakup of status on the basis of pickup location\n",
    "# Status of trips @ Morning Rush where pickup point is City\n",
    "df_city = df.loc[(df[\"Pickup point\"] == \"City\") & (df.time_slot == \"Morning_Rush\")]\n",
    "df_city_count = pd.DataFrame(df_city.Status.value_counts())\n",
    "pie_chart(df_city_count)"
   ]
  },
  {
   "cell_type": "code",
   "execution_count": 43,
   "metadata": {},
   "outputs": [
    {
     "data": {
      "image/png": "[encoded data removed]",
      "text/plain": [
       "<matplotlib.figure.Figure at 0x10ce96828>"
      ]
     },
     "metadata": {},
     "output_type": "display_data"
    }
   ],
   "source": [
    "# Status of trips @ Evening Rush where pickup point is Airport\n",
    "df_airport = df.loc[(df[\"Pickup point\"] == \"Airport\") & (df.time_slot == \"Evening_Rush\")] \n",
    "df_airport_count = pd.DataFrame(df_airport.Status.value_counts())\n",
    "pie_chart(df_airport_count)"
   ]
  }
 ],
 "metadata": {
  "kernelspec": {
   "display_name": "Python 3",
   "language": "python",
   "name": "python3"
  },
  "language_info": {
   "codemirror_mode": {
    "name": "ipython",
    "version": 3
   },
   "file_extension": ".py",
   "mimetype": "text/x-python",
   "name": "python",
   "nbconvert_exporter": "python",
   "pygments_lexer": "ipython3",
   "version": "3.6.4"
  }
 },
 "nbformat": 4,
 "nbformat_minor": 2
}
